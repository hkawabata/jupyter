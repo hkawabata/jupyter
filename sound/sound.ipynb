{
 "cells": [
  {
   "cell_type": "code",
   "execution_count": null,
   "metadata": {},
   "outputs": [],
   "source": [
    "import pyaudio\n",
    "import time\n",
    "\n",
    "SECONDS = 5\n",
    "CHUNK = 4096\n",
    "RATE = 44100\n",
    "r = 1.059463094\n",
    "r12 = r * r * r * r\n",
    "\n",
    "p = pyaudio.PyAudio()\n",
    "stream = p.open(\n",
    "    format = pyaudio.paInt16,\n",
    "    channels = 1,\n",
    "    rate = RATE,\n",
    "    frames_per_buffer = CHUNK,\n",
    "    input = True,\n",
    "    output = True\n",
    ")\n",
    "stream1=p.open( format = pyaudio.paInt16,\n",
    "    channels = 1,\n",
    "    #rate = RATE  # そのままの高さ\n",
    "    #rate = int(RATE*r12),  # 高くする\n",
    "    rate = int(RATE/r12),  # 低くする\n",
    "    frames_per_buffer = CHUNK,\n",
    "    input = True,\n",
    "    output = True\n",
    ")\n",
    "\n",
    "# 一定秒数、マイク入力の音声を繰り返す\n",
    "start = time.time()\n",
    "while stream.is_active() and time.time()-start < SECONDS:\n",
    "    input = stream.read(CHUNK)\n",
    "    output = stream1.write(input)\n",
    "\n",
    "stream.stop_stream()\n",
    "stream.close()\n",
    "stream1.stop_stream()\n",
    "stream1.close()\n",
    "p.terminate()"
   ]
  },
  {
   "cell_type": "code",
   "execution_count": null,
   "metadata": {},
   "outputs": [],
   "source": [
    "\"\"\"\n",
    "input.capitalize(  input.islower(     input.rpartition(\n",
    "input.center(      input.isspace(     input.rsplit(\n",
    "input.count(       input.istitle(     input.rstrip(\n",
    "input.decode(      input.isupper(     input.split(\n",
    "input.endswith(    input.join(        input.splitlines(\n",
    "input.expandtabs(  input.ljust(       input.startswith(\n",
    "input.find(        input.lower(       input.strip(\n",
    "input.fromhex(     input.lstrip(      input.swapcase(\n",
    "input.hex(         input.maketrans(   input.title(\n",
    "input.index(       input.partition(   input.translate(\n",
    "input.isalnum(     input.replace(     input.upper(\n",
    "input.isalpha(     input.rfind(       input.zfill(\n",
    "input.isascii(     input.rindex(      \n",
    "input.isdigit(     input.rjust(   \n",
    "\"\"\""
   ]
  }
 ],
 "metadata": {
  "kernelspec": {
   "display_name": "Python 3",
   "language": "python",
   "name": "python3"
  },
  "language_info": {
   "codemirror_mode": {
    "name": "ipython",
    "version": 3
   },
   "file_extension": ".py",
   "mimetype": "text/x-python",
   "name": "python",
   "nbconvert_exporter": "python",
   "pygments_lexer": "ipython3",
   "version": "3.7.4"
  }
 },
 "nbformat": 4,
 "nbformat_minor": 2
}
