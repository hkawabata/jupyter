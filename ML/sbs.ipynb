{
 "cells": [
  {
   "cell_type": "markdown",
   "metadata": {},
   "source": [
    "# SBS"
   ]
  },
  {
   "cell_type": "code",
   "execution_count": 127,
   "metadata": {},
   "outputs": [],
   "source": [
    "import numpy as np\n",
    "\n",
    "class SBS:\n",
    "    def __init__(self, estimator, num_features, test_ratio=0.2):\n",
    "        \"\"\"\n",
    "        Parameters\n",
    "        ----------\n",
    "        estimator : fit, predict メソッドを持つラベルの推定器\n",
    "        num_features : 特徴量がいくつになるまで削減するか\n",
    "        test_ratio : 与えられたデータのうちテストに用いる割合\n",
    "        \"\"\"\n",
    "        self.estimator = estimator\n",
    "        self.num_features = num_features\n",
    "        self.test_ratio = test_ratio\n",
    "\n",
    "    def fit(self, data, labels):\n",
    "        n = len(data)\n",
    "        # 学習データとテストデータに分割\n",
    "        n_test = int(n * self.test_ratio)\n",
    "        index_random = np.array(range(n))\n",
    "        np.random.shuffle(index_random)\n",
    "        data_test, data_train = data[index_random[:n_test]], data[index_random[n_test:]]\n",
    "        labels_test, labels_train = labels[index_random[:n_test]], labels[index_random[n_test:]]\n",
    "        # 特徴量を削っていく\n",
    "        self.acc_max = []\n",
    "        dim = len(data[0])\n",
    "        i_features = np.array(range(dim))\n",
    "        self.i_features_removed = []\n",
    "        while dim > self.num_features:\n",
    "            acc_max = - np.inf\n",
    "            i_rm_acc_max = None\n",
    "            for i_rm in i_features:\n",
    "                i_features_small = np.delete(i_features, np.where(i_features == i_rm))\n",
    "                self.estimator.fit(data_train[:, i_features_small], labels_train)\n",
    "                acc = self.__calc_accuracy(data_test[:, i_features_small], labels_test)\n",
    "                if acc_max < acc:\n",
    "                    acc_max = acc\n",
    "                    i_rm_acc_max = i_rm\n",
    "            i_features = np.delete(i_features, np.where(i_features == i_rm_acc_max))\n",
    "            self.i_features_removed.append(i_rm_acc_max)\n",
    "            dim -= 1\n",
    "            self.acc_max.append(acc_max)\n",
    "        self.i_features = i_features\n",
    "\n",
    "    def __calc_accuracy(self, data_test, labels_test):\n",
    "        labels_predict = self.estimator.predict(data_test)\n",
    "        acc = np.count_nonzero(labels_predict == labels_test) / len(labels_test)\n",
    "        return acc"
   ]
  },
  {
   "cell_type": "code",
   "execution_count": 241,
   "metadata": {},
   "outputs": [
    {
     "name": "stdout",
     "output_type": "stream",
     "text": [
      "[9]\n",
      "[[0.85947357 0.6450333  0.23951272 0.89554604 0.9756938  0.67100059\n",
      "  0.52449273 0.24581938 0.9356174  0.07059605 0.47208071 0.20097438\n",
      "  0.89762567 0.67813369 0.99889019]\n",
      " [0.87643921 0.2312559  0.04713889 0.93216331 0.24399013 0.73981228\n",
      "  0.94970845 0.3760714  0.57840644 0.17025477 0.52611753 0.32562619\n",
      "  0.37829276 0.2456892  0.06579709]\n",
      " [0.11518012 0.70294303 0.78983434 0.72046896 0.91494761 0.54909069\n",
      "  0.22913547 0.87685238 0.08139212 0.5753403  0.67081237 0.56853993\n",
      "  0.52368711 0.22019953 0.53254112]\n",
      " [0.54918372 0.8968484  0.79067741 0.23222427 0.06325867 0.0426957\n",
      "  0.22842818 0.95769408 0.72227375 0.10449144 0.18027212 0.63352061\n",
      "  0.37863744 0.19586275 0.2218174 ]\n",
      " [0.8223014  0.50023148 0.98798825 0.3531338  0.46827781 0.92609497\n",
      "  0.58845188 0.26553266 0.49626201 0.59869185 0.17966892 0.37239763\n",
      "  0.57989152 0.21681185 0.7936369 ]\n",
      " [0.56897223 0.47195559 0.77339345 0.73995908 0.40539447 0.02386033\n",
      "  0.30058119 0.58659476 0.95287662 0.77031941 0.22857561 0.629818\n",
      "  0.28562329 0.53503092 0.61677145]\n",
      " [0.21113732 0.04313845 0.15820538 0.60780834 0.40974825 0.57498128\n",
      "  0.35274481 0.40938487 0.40203599 0.81410851 0.41929754 0.06509958\n",
      "  0.59423655 0.87016217 0.13049374]\n",
      " [0.36122216 0.0380956  0.71394341 0.71703105 0.67870297 0.97658118\n",
      "  0.32423441 0.92504548 0.77294141 0.11328007 0.52095472 0.30802571\n",
      "  0.57918876 0.65443194 0.74272572]\n",
      " [0.45711073 0.83933606 0.27015759 0.24985636 0.18119369 0.83043127\n",
      "  0.34178747 0.17363431 0.6364769  0.3877782  0.45053145 0.47531541\n",
      "  0.32727958 0.54804531 0.71375384]\n",
      " [0.13505161 0.2275971  0.54594334 0.42650854 0.83977744 0.68793768\n",
      "  0.79146533 0.49274959 0.16235979 0.58009137 0.35093493 0.01590412\n",
      "  0.64819999 0.89981949 0.29691203]]\n",
      "[[0.07059605]\n",
      " [0.17025477]\n",
      " [0.5753403 ]\n",
      " [0.10449144]\n",
      " [0.59869185]\n",
      " [0.77031941]\n",
      " [0.81410851]\n",
      " [0.11328007]\n",
      " [0.3877782 ]\n",
      " [0.58009137]]\n",
      "[0.985, 0.985, 0.985, 0.985, 0.985, 0.97, 0.975, 0.97, 0.965, 0.935, 0.89, 0.86, 0.825, 0.73]\n",
      "[10, 11, 13, 12, 14, 0, 1, 2, 3, 4, 6, 5, 8, 7]\n"
     ]
    },
    {
     "data": {
      "image/png": "[encoded data removed]",
      "text/plain": [
       "<Figure size 432x288 with 1 Axes>"
      ]
     },
     "metadata": {
      "needs_background": "light"
     },
     "output_type": "display_data"
    }
   ],
   "source": [
    "N = 1000\n",
    "\n",
    "data = np.array([np.random.rand(N) for _ in range(15)]).T\n",
    "labels = np.array([1 if x[0] + x[1] - 2*x[2] - 3*x[3] + 4*x[4] < 5*x[5] - 6*x[6] + 7*x[7] - 8*x[8] + 9*x[9] else -1 for x in data])\n",
    "\n",
    "from sklearn import svm\n",
    "estimator = svm.LinearSVC()\n",
    "sbs = SBS(estimator, 1)\n",
    "sbs.fit(data, labels)\n",
    "\n",
    "print(sbs.i_features)\n",
    "print(data[:10])\n",
    "print(data[:10, sbs.i_features])\n",
    "print(sbs.acc_max)\n",
    "print(sbs.i_features_removed)\n",
    "\n",
    "%matplotlib inline\n",
    "from matplotlib import pyplot as plt\n",
    "from matplotlib.colors import ListedColormap\n",
    "plt.ylim([0, 1])\n",
    "plt.xlabel('Number of Removed Features')\n",
    "plt.ylabel('Accuracy')\n",
    "plt.plot(list(range(1, len(sbs.acc_max)+1)), sbs.acc_max, c='b')\n",
    "plt.grid()\n",
    "plt.show()"
   ]
  },
  {
   "cell_type": "code",
   "execution_count": 231,
   "metadata": {},
   "outputs": [
    {
     "name": "stdout",
     "output_type": "stream",
     "text": [
      "[0.00000e+00 2.12050e+00 6.97200e+00 1.34825e+01 3.36090e+01 5.05000e-01\n",
      " 6.10000e-02 2.50000e-03 0.00000e+00 0.00000e+00]\n"
     ]
    },
    {
     "data": {
      "image/png": "[encoded data removed]",
      "text/plain": [
       "<Figure size 432x288 with 1 Axes>"
      ]
     },
     "metadata": {
      "needs_background": "light"
     },
     "output_type": "display_data"
    }
   ],
   "source": [
    "N_SAMPLE = 10000\n",
    "TEST_RATIO = 0.2\n",
    "N_FEATURE = 10\n",
    "N_TREE = 100\n",
    "\n",
    "# データを作成\n",
    "data = np.array([np.random.rand(N_SAMPLE) for _ in range(N_FEATURE)]).T\n",
    "labels = np.array([1 if 0.1*x[0] + x[1] + 2*x[2] + 3*x[3] < 5*x[4] + 0.7*x[5] + 0.3*x[6] else -1 for x in data])\n",
    "\n",
    "# 特徴量の重要度を計算\n",
    "from sklearn import tree\n",
    "importance = np.full(N_FEATURE, 0.)\n",
    "for i in range(N_TREE):\n",
    "    n_test = int(N_SAMPLE * TEST_RATIO)\n",
    "    index_random = np.array(range(N_SAMPLE))\n",
    "    np.random.shuffle(index_random)\n",
    "    data_oob, data_train = data[index_random[:n_test]], data[index_random[n_test:]]\n",
    "    labels_oob, labels_train = labels[index_random[:n_test]], labels[index_random[n_test:]]\n",
    "    dt = tree.DecisionTreeClassifier(min_samples_split=10)\n",
    "    dt.fit(data_train, labels_train)\n",
    "    acc = np.count_nonzero(dt.predict(data_oob) == labels_oob) / len(labels_oob)\n",
    "    for i in range(N_FEATURE):\n",
    "        data_ = data_oob.copy().T\n",
    "        data_[i] = np.random.permutation(data_[i])\n",
    "        data_ = data_.T\n",
    "        acc_ = np.count_nonzero(dt.predict(data_) == labels_oob) / len(labels_oob)\n",
    "        importance[i] += acc - acc_\n",
    "for i in range(len(importance)):\n",
    "    if importance[i] < 0:\n",
    "        importance[i] = 0\n",
    "\n",
    "# 結果を出力\n",
    "print(importance)\n",
    "plt.xlabel('Feature')\n",
    "plt.ylabel('Importance')\n",
    "plt.bar(range(N_FEATURE), importance / N_TREE)\n",
    "plt.show()"
   ]
  },
  {
   "cell_type": "code",
   "execution_count": null,
   "metadata": {},
   "outputs": [],
   "source": []
  }
 ],
 "metadata": {
  "kernelspec": {
   "display_name": "Python 3",
   "language": "python",
   "name": "python3"
  },
  "language_info": {
   "codemirror_mode": {
    "name": "ipython",
    "version": 3
   },
   "file_extension": ".py",
   "mimetype": "text/x-python",
   "name": "python",
   "nbconvert_exporter": "python",
   "pygments_lexer": "ipython3",
   "version": "3.7.6"
  }
 },
 "nbformat": 4,
 "nbformat_minor": 2
}
