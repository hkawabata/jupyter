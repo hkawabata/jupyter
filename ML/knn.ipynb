{
 "cells": [
  {
   "cell_type": "markdown",
   "metadata": {},
   "source": [
    "# k 近傍法\n",
    "\n",
    "k-Nearest Neighbor (kNN)\n",
    "\n",
    "$$\n",
    "d^{(i)} = \\| \\boldsymbol{x} - \\boldsymbol{x}^{(i)} \\|\n",
    "$$\n",
    "\n"
   ]
  },
  {
   "cell_type": "code",
   "execution_count": 20,
   "metadata": {},
   "outputs": [],
   "source": [
    "import numpy\n",
    "%matplotlib inline\n",
    "from matplotlib import pyplot as plt\n",
    "from matplotlib.colors import ListedColormap\n",
    "\n",
    "def plot(classifier, data, labels, title=None, xlabel=None, ylabel=None):\n",
    "    unique_labels = np.unique(labels)\n",
    "    colors = ['red', 'blue', 'green', 'cyan', 'orange'][:len(unique_labels)]\n",
    "    x1max, x1min = np.max(data[:, 0]), np.min(data[:, 0])\n",
    "    x2max, x2min = np.max(data[:, 1]), np.min(data[:, 1])\n",
    "    scale_x1 = x1max - x1min\n",
    "    scale_x2 = x2max - x2min\n",
    "    x1max, x1min = x1max + (x1max-x1min)*0.05, x1min - (x1max-x1min)*0.05\n",
    "    x2max, x2min = x2max + (x2max-x2min)*0.05, x2min - (x2max-x2min)*0.05\n",
    "    resolution = scale_x1 / 300\n",
    "    xx1, xx2 = np.meshgrid(np.arange(x1min, x1max, resolution), np.arange(x2min, x2max, resolution))\n",
    "    z = np.array([classifier.predict(x) for x in np.array([xx1.ravel(), xx2.ravel()]).T])\n",
    "    z = z.reshape(xx1.shape)\n",
    "    if title is not None:\n",
    "        plt.title(title)\n",
    "    if xlabel is not None:\n",
    "        plt.xlabel(xlabel)\n",
    "    if ylabel is not None:\n",
    "        plt.ylabel(ylabel)\n",
    "    plt.contourf(xx1, xx2, z, alpha=0.4, cmap=ListedColormap(colors))\n",
    "    \n",
    "    data_of_each_label = {}\n",
    "    for d, l in zip(data, labels):\n",
    "        if l in data_of_each_label:\n",
    "            data_of_each_label[l].append(d)\n",
    "        else:\n",
    "            data_of_each_label[l] = [d]\n",
    "    \n",
    "    for i in range(len(unique_labels)):\n",
    "        data = data_of_each_label[unique_labels[i]]\n",
    "        plt.scatter(np.array(data)[:, 0], np.array(data)[:, 1], s=5, c=colors[i])\n",
    "    plt.show()"
   ]
  },
  {
   "cell_type": "code",
   "execution_count": 21,
   "metadata": {},
   "outputs": [],
   "source": [
    "import numpy as np\n",
    "\n",
    "class KNN:\n",
    "    def __init__(self, k, data, labels):\n",
    "        self.k = k\n",
    "        self.m = np.mean(data, axis=0)\n",
    "        self.std = np.std(data, axis=0)\n",
    "        self.data = self.__standardize(data)\n",
    "        self.labels = labels\n",
    "    \n",
    "    def predict(self, x):\n",
    "        x_st = self.__standardize(x)\n",
    "        dst = np.array([self.__distance(x_st, d) for d in self.data])\n",
    "        i_nearest_k = dst.argsort()[:self.k]\n",
    "        labels_nearest_k = self.labels[i_nearest_k]\n",
    "        cnt = {}\n",
    "        for l in labels_nearest_k:\n",
    "            if l not in cnt:\n",
    "                cnt[l] = 1\n",
    "            else:\n",
    "                cnt[l] += 1\n",
    "        return max(cnt, key=cnt.get)\n",
    "\n",
    "    def __distance(self, x1, x2):\n",
    "        return np.sqrt(np.sum((x1 - x2)**2))\n",
    "    \n",
    "    def __standardize(self, d):\n",
    "        \"\"\"\n",
    "        データを標準化する\n",
    "        \"\"\"\n",
    "        return (d - self.m) / self.std"
   ]
  },
  {
   "cell_type": "code",
   "execution_count": 22,
   "metadata": {},
   "outputs": [
    {
     "data": {
      "image/png": "[encoded data removed]",
      "text/plain": [
       "<Figure size 432x288 with 1 Axes>"
      ]
     },
     "metadata": {
      "needs_background": "light"
     },
     "output_type": "display_data"
    }
   ],
   "source": [
    "N = 100\n",
    "\n",
    "def circle(c_, R_, n_):\n",
    "    r = R_ * np.random.rand(n_)\n",
    "    theta = np.random.rand(n_) * 2 * np.pi\n",
    "    data = np.array([r * np.sin(theta) + c_[0], r * np.cos(theta) + c_[1]]).T\n",
    "    return data\n",
    "\n",
    "data1 = circle([0, 0], 2, N//3)\n",
    "data2 = circle([-3, 4], 2.5, N//3)\n",
    "data3 = circle([3, 4], 2.5, N//3)\n",
    "labels1 = np.full(N//3, 0)\n",
    "labels2 = np.full(N//3, 1)\n",
    "labels3 = np.full(N//3, 2)\n",
    "\n",
    "data_l = np.concatenate([data1[:N//6], data2[:N//6], data3[:N//6]])\n",
    "data_t = np.concatenate([data1[N//6:], data2[N//6:], data3[N//6:]])\n",
    "labels_l = np.concatenate([labels1[:N//6], labels2[:N//6], labels3[:N//6]])\n",
    "labels_t = np.concatenate([labels1[N//6:], labels2[N//6:], labels3[N//6:]])\n",
    "\n",
    "knn = KNN(5, data_l, labels_l)\n",
    "plot(knn, data_t, labels_t)"
   ]
  },
  {
   "cell_type": "code",
   "execution_count": 23,
   "metadata": {},
   "outputs": [],
   "source": [
    "import numpy as np\n",
    "\n",
    "class KNNNotScale:\n",
    "    def __init__(self, k, data, labels):\n",
    "        self.k = k\n",
    "        self.m = np.mean(data, axis=0)\n",
    "        self.std = np.std(data, axis=0)\n",
    "        self.data = data\n",
    "        self.labels = labels\n",
    "    \n",
    "    def predict(self, x):\n",
    "        x_st = x\n",
    "        dst = np.array([self.__distance(x_st, d) for d in self.data])\n",
    "        i_nearest_k = dst.argsort()[:self.k]\n",
    "        labels_nearest_k = self.labels[i_nearest_k]\n",
    "        cnt = {}\n",
    "        for l in labels_nearest_k:\n",
    "            if l not in cnt:\n",
    "                cnt[l] = 1\n",
    "            else:\n",
    "                cnt[l] += 1\n",
    "        return max(cnt, key=cnt.get)\n",
    "\n",
    "    def __distance(self, x1, x2):\n",
    "        return np.sqrt(np.sum((x1 - x2)**2))\n",
    "    \n",
    "    def __standardize(self, d):\n",
    "        \"\"\"\n",
    "        データを標準化する\n",
    "        \"\"\"\n",
    "        return (d - self.m) / self.std"
   ]
  },
  {
   "cell_type": "code",
   "execution_count": 24,
   "metadata": {},
   "outputs": [
    {
     "data": {
      "image/png": "[encoded data removed]",
      "text/plain": [
       "<Figure size 432x288 with 1 Axes>"
      ]
     },
     "metadata": {
      "needs_background": "light"
     },
     "output_type": "display_data"
    },
    {
     "data": {
      "image/png": "[encoded data removed]",
      "text/plain": [
       "<Figure size 432x288 with 1 Axes>"
      ]
     },
     "metadata": {
      "needs_background": "light"
     },
     "output_type": "display_data"
    }
   ],
   "source": [
    "N = 20\n",
    "c1 = [0, 0]\n",
    "c2 = [-3, 4]\n",
    "c2 = [-3, 15]\n",
    "r1 = 2*np.random.rand(N//2)\n",
    "r2 = 2.5*np.random.rand(N//2)\n",
    "theta1 = np.random.rand(N//2) * 2 * np.pi\n",
    "theta2 = np.random.rand(N//2) * 2 * np.pi\n",
    "data1 = np.array([0.3*r1 * np.sin(theta1) + c1[0], 2*r1 * np.cos(theta1) + c1[1]]).T\n",
    "data2 = np.array([0.3*r2 * np.sin(theta2) + c2[0], 2*r2 * np.cos(theta2) + c2[1]]).T\n",
    "data = np.concatenate([data1, data2])\n",
    "labels = np.array([1 if i < N//2 else -1 for i in range(N)])\n",
    "\n",
    "knn2 = KNNNotScale(3, data, labels)\n",
    "plot(knn2, data, labels, 'Not Scaled', 'x1', 'x2')\n",
    "\n",
    "knn = KNN(3, data, labels)\n",
    "plot(knn, data, labels, 'Scaled', 'x1', 'x2')"
   ]
  },
  {
   "cell_type": "code",
   "execution_count": null,
   "metadata": {},
   "outputs": [],
   "source": []
  }
 ],
 "metadata": {
  "kernelspec": {
   "display_name": "Python 3",
   "language": "python",
   "name": "python3"
  },
  "language_info": {
   "codemirror_mode": {
    "name": "ipython",
    "version": 3
   },
   "file_extension": ".py",
   "mimetype": "text/x-python",
   "name": "python",
   "nbconvert_exporter": "python",
   "pygments_lexer": "ipython3",
   "version": "3.7.6"
  }
 },
 "nbformat": 4,
 "nbformat_minor": 2
}
