{
 "cells": [
  {
   "cell_type": "code",
   "execution_count": null,
   "metadata": {},
   "outputs": [],
   "source": [
    "# 逐次探索法"
   ]
  },
  {
   "cell_type": "code",
   "execution_count": 1,
   "metadata": {},
   "outputs": [],
   "source": [
    "# display graph on notebook\n",
    "%matplotlib inline\n",
    "import matplotlib.pyplot as plt\n",
    "import numpy as np\n",
    "import pandas as pd\n",
    "import math\n",
    "import time\n",
    "import random\n",
    "from my_modules import record"
   ]
  },
  {
   "cell_type": "code",
   "execution_count": 3,
   "metadata": {},
   "outputs": [],
   "source": [
    "def sequential_search(records, key):\n",
    "    N = len(records)\n",
    "    for i in range(N):\n",
    "        if records[i][0] == key:\n",
    "            return records[i]\n",
    "    raise Exception('key \\'{}\\' does not exist in records.'.format(key))"
   ]
  },
  {
   "cell_type": "code",
   "execution_count": 12,
   "metadata": {},
   "outputs": [
    {
     "data": {
      "text/plain": [
       "(array([[ 0,  0],\n",
       "        [ 4, 40],\n",
       "        [ 6, 60],\n",
       "        [ 3, 30],\n",
       "        [ 9, 90],\n",
       "        [ 5, 50],\n",
       "        [ 1, 10],\n",
       "        [ 7, 70],\n",
       "        [ 8, 80],\n",
       "        [ 2, 20]]), array([ 5, 50]))"
      ]
     },
     "execution_count": 12,
     "metadata": {},
     "output_type": "execute_result"
    }
   ],
   "source": [
    "records = record.get_unique_records(10)\n",
    "result = sequential_search(records, 5)\n",
    "records, result"
   ]
  },
  {
   "cell_type": "code",
   "execution_count": 45,
   "metadata": {},
   "outputs": [
    {
     "data": {
      "text/html": [
       "<div>\n",
       "<style scoped>\n",
       "    .dataframe tbody tr th:only-of-type {\n",
       "        vertical-align: middle;\n",
       "    }\n",
       "\n",
       "    .dataframe tbody tr th {\n",
       "        vertical-align: top;\n",
       "    }\n",
       "\n",
       "    .dataframe thead th {\n",
       "        text-align: right;\n",
       "    }\n",
       "</style>\n",
       "<table border=\"1\" class=\"dataframe\">\n",
       "  <thead>\n",
       "    <tr style=\"text-align: right;\">\n",
       "      <th></th>\n",
       "      <th>number of records</th>\n",
       "      <th>total search time [s]</th>\n",
       "      <th>average search time [$\\mu$s]</th>\n",
       "    </tr>\n",
       "  </thead>\n",
       "  <tbody>\n",
       "    <tr>\n",
       "      <td>0</td>\n",
       "      <td>1000.0</td>\n",
       "      <td>0.454547</td>\n",
       "      <td>455.0</td>\n",
       "    </tr>\n",
       "    <tr>\n",
       "      <td>1</td>\n",
       "      <td>2000.0</td>\n",
       "      <td>1.951510</td>\n",
       "      <td>976.0</td>\n",
       "    </tr>\n",
       "    <tr>\n",
       "      <td>2</td>\n",
       "      <td>3000.0</td>\n",
       "      <td>4.194927</td>\n",
       "      <td>1398.0</td>\n",
       "    </tr>\n",
       "    <tr>\n",
       "      <td>3</td>\n",
       "      <td>4000.0</td>\n",
       "      <td>7.543974</td>\n",
       "      <td>1886.0</td>\n",
       "    </tr>\n",
       "    <tr>\n",
       "      <td>4</td>\n",
       "      <td>5000.0</td>\n",
       "      <td>10.972076</td>\n",
       "      <td>2194.0</td>\n",
       "    </tr>\n",
       "    <tr>\n",
       "      <td>5</td>\n",
       "      <td>6000.0</td>\n",
       "      <td>14.503861</td>\n",
       "      <td>2417.0</td>\n",
       "    </tr>\n",
       "    <tr>\n",
       "      <td>6</td>\n",
       "      <td>7000.0</td>\n",
       "      <td>20.222012</td>\n",
       "      <td>2889.0</td>\n",
       "    </tr>\n",
       "    <tr>\n",
       "      <td>7</td>\n",
       "      <td>8000.0</td>\n",
       "      <td>25.508933</td>\n",
       "      <td>3189.0</td>\n",
       "    </tr>\n",
       "    <tr>\n",
       "      <td>8</td>\n",
       "      <td>9000.0</td>\n",
       "      <td>32.346695</td>\n",
       "      <td>3594.0</td>\n",
       "    </tr>\n",
       "    <tr>\n",
       "      <td>9</td>\n",
       "      <td>10000.0</td>\n",
       "      <td>41.453250</td>\n",
       "      <td>4145.0</td>\n",
       "    </tr>\n",
       "  </tbody>\n",
       "</table>\n",
       "</div>"
      ],
      "text/plain": [
       "   number of records  total search time [s]  average search time [$\\mu$s]\n",
       "0             1000.0               0.454547                         455.0\n",
       "1             2000.0               1.951510                         976.0\n",
       "2             3000.0               4.194927                        1398.0\n",
       "3             4000.0               7.543974                        1886.0\n",
       "4             5000.0              10.972076                        2194.0\n",
       "5             6000.0              14.503861                        2417.0\n",
       "6             7000.0              20.222012                        2889.0\n",
       "7             8000.0              25.508933                        3189.0\n",
       "8             9000.0              32.346695                        3594.0\n",
       "9            10000.0              41.453250                        4145.0"
      ]
     },
     "execution_count": 45,
     "metadata": {},
     "output_type": "execute_result"
    }
   ],
   "source": [
    "n_list = []\n",
    "t_total_list = []\n",
    "t_ave_list = []\n",
    "for n in [1000*i for i in range(1, 10+1)]:\n",
    "    records = record.get_unique_records(n)\n",
    "    start = time.time()\n",
    "    for key in range(n):\n",
    "        sequential_search(records, key)\n",
    "    end = time.time()\n",
    "    n_list.append(n)\n",
    "    t_total_list.append(round((end-start), 6))\n",
    "    t_ave_list.append(round((end-start)*1e6/n))\n",
    "\n",
    "pd.DataFrame(data=np.array([n_list, t_total_list, t_ave_list]).T, columns=['number of records', 'total search time [s]', 'average search time [$\\mu$s]'])"
   ]
  },
  {
   "cell_type": "code",
   "execution_count": 47,
   "metadata": {},
   "outputs": [
    {
     "data": {
      "image/png": "[encoded data removed]",
      "text/plain": [
       "<Figure size 432x288 with 1 Axes>"
      ]
     },
     "metadata": {
      "needs_background": "light"
     },
     "output_type": "display_data"
    }
   ],
   "source": [
    "from scipy.optimize import curve_fit\n",
    "def func_fit(x, a, b):\n",
    "    return a * x + b\n",
    "\n",
    "param, cov = curve_fit(func_fit, n_list, t_ave_list)\n",
    "x = np.array([i*100 for i in range(int(max(n_list)/100)+10)])\n",
    "y = func_fit(x, param[0], param[1])\n",
    "\n",
    "plt.title('Sequential Search')\n",
    "plt.xlabel('number of records')\n",
    "plt.ylabel('average search time [$\\mu$s]')\n",
    "plt.plot(x, y, label='y = {}x + {}'.format(round(param[0], 6), round(param[1], 6)))\n",
    "plt.scatter(n_list, t_ave_list)\n",
    "plt.grid()\n",
    "plt.legend()\n",
    "plt.show()"
   ]
  },
  {
   "cell_type": "code",
   "execution_count": null,
   "metadata": {},
   "outputs": [],
   "source": []
  }
 ],
 "metadata": {
  "kernelspec": {
   "display_name": "Python 3",
   "language": "python",
   "name": "python3"
  },
  "language_info": {
   "codemirror_mode": {
    "name": "ipython",
    "version": 3
   },
   "file_extension": ".py",
   "mimetype": "text/x-python",
   "name": "python",
   "nbconvert_exporter": "python",
   "pygments_lexer": "ipython3",
   "version": "3.7.4"
  }
 },
 "nbformat": 4,
 "nbformat_minor": 2
}
