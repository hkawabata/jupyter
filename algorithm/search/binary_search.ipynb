{
 "cells": [
  {
   "cell_type": "markdown",
   "metadata": {},
   "source": [
    "# 二分探索法"
   ]
  },
  {
   "cell_type": "code",
   "execution_count": 4,
   "metadata": {},
   "outputs": [],
   "source": [
    "# display graph on notebook\n",
    "%matplotlib inline\n",
    "import matplotlib.pyplot as plt\n",
    "import numpy as np\n",
    "import pandas as pd\n",
    "import math\n",
    "import time\n",
    "import random\n",
    "from my_modules import record"
   ]
  },
  {
   "cell_type": "code",
   "execution_count": 32,
   "metadata": {},
   "outputs": [],
   "source": [
    "def binary_search(sorted_records, key):\n",
    "    N = len(sorted_records)\n",
    "    i_left = 0\n",
    "    i_right = N - 1\n",
    "    if key == sorted_records[i_left][0]:\n",
    "        return sorted_records[i_left]\n",
    "    if key == sorted_records[i_right][0]:\n",
    "        return sorted_records[i_right]\n",
    "    i_centor = int((i_right + i_left) / 2)\n",
    "    while i_left < i_centor:\n",
    "        key_centor = sorted_records[i_centor][0]\n",
    "        if key < key_centor:\n",
    "            i_right = i_centor\n",
    "        elif key_centor < key:\n",
    "            i_left = i_centor\n",
    "        else:\n",
    "            return sorted_records[i_centor]\n",
    "        i_centor = int((i_right + i_left) / 2)\n",
    "    raise Exception('key \\'{}\\' does not exist in records.'.format(key))"
   ]
  },
  {
   "cell_type": "code",
   "execution_count": 35,
   "metadata": {},
   "outputs": [
    {
     "data": {
      "text/plain": [
       "(array([[ 0,  0],\n",
       "        [ 1, 10],\n",
       "        [ 2, 20],\n",
       "        [ 3, 30],\n",
       "        [ 4, 40],\n",
       "        [ 5, 50],\n",
       "        [ 6, 60],\n",
       "        [ 7, 70],\n",
       "        [ 8, 80],\n",
       "        [ 9, 90]]), array([ 8, 80]))"
      ]
     },
     "execution_count": 35,
     "metadata": {},
     "output_type": "execute_result"
    }
   ],
   "source": [
    "records = record.get_unique_records(10, sort=True)\n",
    "result = binary_search(records, 8)\n",
    "records, result"
   ]
  },
  {
   "cell_type": "code",
   "execution_count": 85,
   "metadata": {},
   "outputs": [
    {
     "data": {
      "text/html": [
       "<div>\n",
       "<style scoped>\n",
       "    .dataframe tbody tr th:only-of-type {\n",
       "        vertical-align: middle;\n",
       "    }\n",
       "\n",
       "    .dataframe tbody tr th {\n",
       "        vertical-align: top;\n",
       "    }\n",
       "\n",
       "    .dataframe thead th {\n",
       "        text-align: right;\n",
       "    }\n",
       "</style>\n",
       "<table border=\"1\" class=\"dataframe\">\n",
       "  <thead>\n",
       "    <tr style=\"text-align: right;\">\n",
       "      <th></th>\n",
       "      <th>number of records</th>\n",
       "      <th>average search time [$\\mu$s]</th>\n",
       "    </tr>\n",
       "  </thead>\n",
       "  <tbody>\n",
       "    <tr>\n",
       "      <td>0</td>\n",
       "      <td>1024.0</td>\n",
       "      <td>16.502</td>\n",
       "    </tr>\n",
       "    <tr>\n",
       "      <td>1</td>\n",
       "      <td>2048.0</td>\n",
       "      <td>18.651</td>\n",
       "    </tr>\n",
       "    <tr>\n",
       "      <td>2</td>\n",
       "      <td>4096.0</td>\n",
       "      <td>18.181</td>\n",
       "    </tr>\n",
       "    <tr>\n",
       "      <td>3</td>\n",
       "      <td>8192.0</td>\n",
       "      <td>19.415</td>\n",
       "    </tr>\n",
       "    <tr>\n",
       "      <td>4</td>\n",
       "      <td>16384.0</td>\n",
       "      <td>22.404</td>\n",
       "    </tr>\n",
       "    <tr>\n",
       "      <td>5</td>\n",
       "      <td>32768.0</td>\n",
       "      <td>22.214</td>\n",
       "    </tr>\n",
       "    <tr>\n",
       "      <td>6</td>\n",
       "      <td>65536.0</td>\n",
       "      <td>25.993</td>\n",
       "    </tr>\n",
       "    <tr>\n",
       "      <td>7</td>\n",
       "      <td>131072.0</td>\n",
       "      <td>25.139</td>\n",
       "    </tr>\n",
       "    <tr>\n",
       "      <td>8</td>\n",
       "      <td>262144.0</td>\n",
       "      <td>26.866</td>\n",
       "    </tr>\n",
       "    <tr>\n",
       "      <td>9</td>\n",
       "      <td>524288.0</td>\n",
       "      <td>27.731</td>\n",
       "    </tr>\n",
       "  </tbody>\n",
       "</table>\n",
       "</div>"
      ],
      "text/plain": [
       "   number of records  average search time [$\\mu$s]\n",
       "0             1024.0                        16.502\n",
       "1             2048.0                        18.651\n",
       "2             4096.0                        18.181\n",
       "3             8192.0                        19.415\n",
       "4            16384.0                        22.404\n",
       "5            32768.0                        22.214\n",
       "6            65536.0                        25.993\n",
       "7           131072.0                        25.139\n",
       "8           262144.0                        26.866\n",
       "9           524288.0                        27.731"
      ]
     },
     "execution_count": 85,
     "metadata": {},
     "output_type": "execute_result"
    }
   ],
   "source": [
    "N_TRY = 10000\n",
    "n_list = []\n",
    "t_ave_list = []\n",
    "for n in [int(pow(2, i)) for i in range(10, 19+1)]:\n",
    "    records = record.get_unique_records(n, sort=True)\n",
    "    search_keys = np.random.randint(0, n, N_TRY)\n",
    "    start = time.time()\n",
    "    for key in search_keys:\n",
    "        binary_search(records, key)\n",
    "    end = time.time()\n",
    "    n_list.append(n)\n",
    "    t_ave_list.append(round((end-start)*1e6/N_TRY, 3))\n",
    "\n",
    "pd.DataFrame(data=np.array([n_list, t_ave_list]).T, columns=['number of records', 'average search time [$\\mu$s]'])"
   ]
  },
  {
   "cell_type": "code",
   "execution_count": 91,
   "metadata": {},
   "outputs": [
    {
     "data": {
      "image/png": "[encoded data removed]",
      "text/plain": [
       "<Figure size 432x288 with 1 Axes>"
      ]
     },
     "metadata": {
      "needs_background": "light"
     },
     "output_type": "display_data"
    }
   ],
   "source": [
    "from scipy.optimize import curve_fit\n",
    "def func_fit(x, a, b):\n",
    "    return a * np.log10(x) + b\n",
    "\n",
    "param, cov = curve_fit(func_fit, n_list, t_ave_list)\n",
    "x = np.array([i*100 for i in range(int(max(n_list)/100)+10)]) + 1.0\n",
    "y = func_fit(x, param[0], param[1])\n",
    "\n",
    "plt.title('Binary Search')\n",
    "plt.xlabel('number of records')\n",
    "plt.ylabel('average search time [$\\mu$s]')\n",
    "plt.plot(x, y, label='$y = {}log_{{10}}{{x}} + {}$'.format(round(param[0], 6), round(param[1], 6)))\n",
    "plt.scatter(n_list, t_ave_list)\n",
    "plt.grid()\n",
    "plt.legend()\n",
    "plt.show()"
   ]
  },
  {
   "cell_type": "code",
   "execution_count": null,
   "metadata": {},
   "outputs": [],
   "source": []
  }
 ],
 "metadata": {
  "kernelspec": {
   "display_name": "Python 3",
   "language": "python",
   "name": "python3"
  },
  "language_info": {
   "codemirror_mode": {
    "name": "ipython",
    "version": 3
   },
   "file_extension": ".py",
   "mimetype": "text/x-python",
   "name": "python",
   "nbconvert_exporter": "python",
   "pygments_lexer": "ipython3",
   "version": "3.7.4"
  }
 },
 "nbformat": 4,
 "nbformat_minor": 2
}
