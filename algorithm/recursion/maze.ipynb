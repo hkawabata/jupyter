{
 "cells": [
  {
   "cell_type": "markdown",
   "metadata": {},
   "source": [
    "# 迷路探索"
   ]
  },
  {
   "cell_type": "code",
   "execution_count": null,
   "metadata": {},
   "outputs": [],
   "source": []
  },
  {
   "cell_type": "code",
   "execution_count": 48,
   "metadata": {},
   "outputs": [],
   "source": [
    "import numpy as np\n",
    "import pandas as pd\n",
    "\n",
    "\"\"\"\n",
    "[\n",
    "    ['x', 'x', 'x', 'x', 'x', 'x', 'x', 'x'],\n",
    "    ['x', 'x', 'x', 'x', 'x', 'x', 'x', 'x'],\n",
    "    ['x', 'x', 'x', 'x', 'x', 'x', 'x', 'x'],\n",
    "    ['x', 'x', 'x', 'x', 'x', 'x', 'x', 'x'],\n",
    "    ['x', 'x', 'x', 'x', 'x', 'x', 'x', 'x'],\n",
    "    ['x', 'x', 'x', 'x', 'x', 'x', 'x', 'x'],\n",
    "    ['x', 'x', 'x', 'x', 'x', 'x', 'x', 'x'],\n",
    "    ['x', 'x', 'x', 'x', 'x', 'x', 'x', 'x'],\n",
    "],\n",
    "\"\"\"\n",
    "\n",
    "mazes = [\n",
    "    [\n",
    "        # OK\n",
    "        ['x', 'o', 'o', 'o'],\n",
    "        ['S', 'o', 'x', 'o'],\n",
    "        ['o', 'x', 'o', 'o'],\n",
    "        ['o', 'x', 'x', 'o'],\n",
    "        ['x', 'o', 'o', 'o'],\n",
    "        ['x', 'o', 'x', 'o'],\n",
    "        ['G', 'o', 'o', 'x'],\n",
    "    ],\n",
    "    [\n",
    "        # NG\n",
    "        ['x', 'o', 'o', 'o'],\n",
    "        ['S', 'o', 'x', 'o'],\n",
    "        ['o', 'x', 'o', 'o'],\n",
    "        ['o', 'x', 'x', 'o'],\n",
    "        ['x', 'o', 'o', 'o'],\n",
    "        ['x', 'x', 'x', 'o'],\n",
    "        ['G', 'o', 'o', 'x'],\n",
    "    ],\n",
    "    [\n",
    "        # OK\n",
    "        ['o', 'o', 'o', 'x', 'o', 'x'],\n",
    "        ['S', 'x', 'x', 'o', 'o', 'x'],\n",
    "        ['o', 'o', 'x', 'o', 'x', 'x'],\n",
    "        ['x', 'o', 'o', 'o', 'o', 'o'],\n",
    "        ['x', 'o', 'x', 'o', 'x', 'o'],\n",
    "        ['x', 'o', 'o', 'o', 'x', 'o'],\n",
    "        ['o', 'o', 'x', 'x', 'o', 'G'],\n",
    "    ],\n",
    "    [\n",
    "        # NG\n",
    "        ['o', 'o', 'o', 'x', 'o', 'x'],\n",
    "        ['S', 'x', 'x', 'o', 'o', 'x'],\n",
    "        ['o', 'o', 'x', 'o', 'x', 'x'],\n",
    "        ['x', 'o', 'o', 'o', 'o', 'x'],\n",
    "        ['x', 'o', 'x', 'x', 'x', 'o'],\n",
    "        ['x', 'o', 'o', 'o', 'x', 'o'],\n",
    "        ['o', 'o', 'x', 'o', 'x', 'G'],\n",
    "    ],\n",
    "    [\n",
    "        # OK\n",
    "        ['x', 'o', 'x', 'x', 'o', 'o', 'o', 'o'],\n",
    "        ['x', 'o', 'o', 'x', 'o', 'x', 'x', 'o'],\n",
    "        ['x', 'x', 'o', 'o', 'o', 'x', 'o', 'o'],\n",
    "        ['o', 'o', 'o', 'x', 'S', 'x', 'x', 'o'],\n",
    "        ['o', 'x', 'o', 'x', 'x', 'o', 'x', 'o'],\n",
    "        ['x', 'x', 'o', 'x', 'x', 'o', 'o', 'o'],\n",
    "        ['o', 'o', 'o', 'o', 'G', 'x', 'x', 'o'],\n",
    "        ['x', 'o', 'x', 'x', 'x', 'x', 'o', 'o'],\n",
    "    ],\n",
    "    [\n",
    "        # NG\n",
    "        ['x', 'o', 'x', 'x', 'o', 'o', 'o', 'o'],\n",
    "        ['x', 'o', 'o', 'x', 'o', 'x', 'x', 'o'],\n",
    "        ['x', 'x', 'o', 'o', 'o', 'x', 'o', 'o'],\n",
    "        ['o', 'o', 'o', 'x', 'S', 'x', 'x', 'o'],\n",
    "        ['o', 'x', 'o', 'x', 'x', 'o', 'x', 'o'],\n",
    "        ['x', 'x', 'o', 'x', 'x', 'o', 'o', 'o'],\n",
    "        ['o', 'o', 'o', 'x', 'G', 'x', 'x', 'o'],\n",
    "        ['x', 'o', 'x', 'x', 'x', 'x', 'o', 'o'],\n",
    "    ]\n",
    "]"
   ]
  },
  {
   "cell_type": "code",
   "execution_count": 49,
   "metadata": {},
   "outputs": [],
   "source": [
    "def solve_maze(maze):\n",
    "    # 周りを壁で囲む\n",
    "    maze_tmp = [['x'] * (len(maze[0])+2)]\n",
    "    for x in range(len(maze)):\n",
    "        maze_tmp.append(['x'] + maze[x] + ['x'])\n",
    "    maze_tmp.append(['x'] * (len(maze[0])+2))\n",
    "    \n",
    "    NX = len(maze_tmp)\n",
    "    NY = len(maze_tmp[0])\n",
    "    \n",
    "    # スタート・ゴールの位置を取得\n",
    "    s = [0, 0]\n",
    "    g = [0, 0]\n",
    "    for x in range(1, NX-1):\n",
    "        for y in range(1, NY-1):\n",
    "            if maze_tmp[x][y] == 'S':\n",
    "                s = [x, y]\n",
    "            elif maze_tmp[x][y] == 'G':\n",
    "                g = [x, y]\n",
    "\n",
    "    # 迷路を辿る\n",
    "    def search(x, y):\n",
    "        if maze_tmp[x][y] == 'o' or maze_tmp[x][y] == 'S':\n",
    "            if maze_tmp[x][y] == 'o':\n",
    "                maze_tmp[x][y] = '/'\n",
    "            else:\n",
    "                maze_tmp[x][y] = 's'\n",
    "            search(x, y-1)\n",
    "            search(x, y+1)\n",
    "            search(x-1, y)\n",
    "            search(x+1, y)\n",
    "        elif maze_tmp[x][y] == 'G':\n",
    "            maze_tmp[x][y] = 'g'\n",
    "    search(s[0], s[1])\n",
    "    \n",
    "    goaled = maze_tmp[g[0]][g[1]] == 'g'\n",
    "    return maze_tmp, goaled"
   ]
  },
  {
   "cell_type": "code",
   "execution_count": 50,
   "metadata": {},
   "outputs": [
    {
     "data": {
      "text/plain": [
       "([['x', 'x', 'x', 'x', 'x', 'x'],\n",
       "  ['x', 'x', '/', '/', '/', 'x'],\n",
       "  ['x', 's', '/', 'x', '/', 'x'],\n",
       "  ['x', '/', 'x', '/', '/', 'x'],\n",
       "  ['x', '/', 'x', 'x', '/', 'x'],\n",
       "  ['x', 'x', '/', '/', '/', 'x'],\n",
       "  ['x', 'x', '/', 'x', '/', 'x'],\n",
       "  ['x', 'g', '/', '/', 'x', 'x'],\n",
       "  ['x', 'x', 'x', 'x', 'x', 'x']],\n",
       " True)"
      ]
     },
     "execution_count": 50,
     "metadata": {},
     "output_type": "execute_result"
    }
   ],
   "source": [
    "solve_maze(mazes[0])"
   ]
  },
  {
   "cell_type": "code",
   "execution_count": 51,
   "metadata": {},
   "outputs": [
    {
     "data": {
      "text/plain": [
       "([['x', 'x', 'x', 'x', 'x', 'x'],\n",
       "  ['x', 'x', '/', '/', '/', 'x'],\n",
       "  ['x', 's', '/', 'x', '/', 'x'],\n",
       "  ['x', '/', 'x', '/', '/', 'x'],\n",
       "  ['x', '/', 'x', 'x', '/', 'x'],\n",
       "  ['x', 'x', '/', '/', '/', 'x'],\n",
       "  ['x', 'x', 'x', 'x', '/', 'x'],\n",
       "  ['x', 'G', 'o', 'o', 'x', 'x'],\n",
       "  ['x', 'x', 'x', 'x', 'x', 'x']],\n",
       " False)"
      ]
     },
     "execution_count": 51,
     "metadata": {},
     "output_type": "execute_result"
    }
   ],
   "source": [
    "solve_maze(mazes[1])"
   ]
  },
  {
   "cell_type": "code",
   "execution_count": 52,
   "metadata": {},
   "outputs": [
    {
     "data": {
      "text/plain": [
       "([['x', 'x', 'x', 'x', 'x', 'x', 'x', 'x'],\n",
       "  ['x', '/', '/', '/', 'x', '/', 'x', 'x'],\n",
       "  ['x', 's', 'x', 'x', '/', '/', 'x', 'x'],\n",
       "  ['x', '/', '/', 'x', '/', 'x', 'x', 'x'],\n",
       "  ['x', 'x', '/', '/', '/', '/', '/', 'x'],\n",
       "  ['x', 'x', '/', 'x', '/', 'x', '/', 'x'],\n",
       "  ['x', 'x', '/', '/', '/', 'x', '/', 'x'],\n",
       "  ['x', '/', '/', 'x', 'x', 'o', 'g', 'x'],\n",
       "  ['x', 'x', 'x', 'x', 'x', 'x', 'x', 'x']],\n",
       " True)"
      ]
     },
     "execution_count": 52,
     "metadata": {},
     "output_type": "execute_result"
    }
   ],
   "source": [
    "solve_maze(mazes[2])"
   ]
  },
  {
   "cell_type": "code",
   "execution_count": 53,
   "metadata": {},
   "outputs": [
    {
     "data": {
      "text/plain": [
       "([['x', 'x', 'x', 'x', 'x', 'x', 'x', 'x'],\n",
       "  ['x', '/', '/', '/', 'x', '/', 'x', 'x'],\n",
       "  ['x', 's', 'x', 'x', '/', '/', 'x', 'x'],\n",
       "  ['x', '/', '/', 'x', '/', 'x', 'x', 'x'],\n",
       "  ['x', 'x', '/', '/', '/', '/', 'x', 'x'],\n",
       "  ['x', 'x', '/', 'x', 'x', 'x', 'o', 'x'],\n",
       "  ['x', 'x', '/', '/', '/', 'x', 'o', 'x'],\n",
       "  ['x', '/', '/', 'x', '/', 'x', 'G', 'x'],\n",
       "  ['x', 'x', 'x', 'x', 'x', 'x', 'x', 'x']],\n",
       " False)"
      ]
     },
     "execution_count": 53,
     "metadata": {},
     "output_type": "execute_result"
    }
   ],
   "source": [
    "solve_maze(mazes[3])"
   ]
  },
  {
   "cell_type": "code",
   "execution_count": 54,
   "metadata": {},
   "outputs": [
    {
     "data": {
      "text/plain": [
       "([['x', 'x', 'x', 'x', 'x', 'x', 'x', 'x', 'x', 'x'],\n",
       "  ['x', 'x', '/', 'x', 'x', '/', '/', '/', '/', 'x'],\n",
       "  ['x', 'x', '/', '/', 'x', '/', 'x', 'x', '/', 'x'],\n",
       "  ['x', 'x', 'x', '/', '/', '/', 'x', '/', '/', 'x'],\n",
       "  ['x', '/', '/', '/', 'x', 's', 'x', 'x', '/', 'x'],\n",
       "  ['x', '/', 'x', '/', 'x', 'x', '/', 'x', '/', 'x'],\n",
       "  ['x', 'x', 'x', '/', 'x', 'x', '/', '/', '/', 'x'],\n",
       "  ['x', '/', '/', '/', '/', 'g', 'x', 'x', '/', 'x'],\n",
       "  ['x', 'x', '/', 'x', 'x', 'x', 'x', '/', '/', 'x'],\n",
       "  ['x', 'x', 'x', 'x', 'x', 'x', 'x', 'x', 'x', 'x']],\n",
       " True)"
      ]
     },
     "execution_count": 54,
     "metadata": {},
     "output_type": "execute_result"
    }
   ],
   "source": [
    "solve_maze(mazes[4])"
   ]
  },
  {
   "cell_type": "code",
   "execution_count": 55,
   "metadata": {},
   "outputs": [
    {
     "data": {
      "text/plain": [
       "([['x', 'x', 'x', 'x', 'x', 'x', 'x', 'x', 'x', 'x'],\n",
       "  ['x', 'x', '/', 'x', 'x', '/', '/', '/', '/', 'x'],\n",
       "  ['x', 'x', '/', '/', 'x', '/', 'x', 'x', '/', 'x'],\n",
       "  ['x', 'x', 'x', '/', '/', '/', 'x', '/', '/', 'x'],\n",
       "  ['x', '/', '/', '/', 'x', 's', 'x', 'x', '/', 'x'],\n",
       "  ['x', '/', 'x', '/', 'x', 'x', '/', 'x', '/', 'x'],\n",
       "  ['x', 'x', 'x', '/', 'x', 'x', '/', '/', '/', 'x'],\n",
       "  ['x', '/', '/', '/', 'x', 'G', 'x', 'x', '/', 'x'],\n",
       "  ['x', 'x', '/', 'x', 'x', 'x', 'x', '/', '/', 'x'],\n",
       "  ['x', 'x', 'x', 'x', 'x', 'x', 'x', 'x', 'x', 'x']],\n",
       " False)"
      ]
     },
     "execution_count": 55,
     "metadata": {},
     "output_type": "execute_result"
    }
   ],
   "source": [
    "solve_maze(mazes[5])"
   ]
  },
  {
   "cell_type": "code",
   "execution_count": null,
   "metadata": {},
   "outputs": [],
   "source": []
  }
 ],
 "metadata": {
  "kernelspec": {
   "display_name": "Python 3",
   "language": "python",
   "name": "python3"
  },
  "language_info": {
   "codemirror_mode": {
    "name": "ipython",
    "version": 3
   },
   "file_extension": ".py",
   "mimetype": "text/x-python",
   "name": "python",
   "nbconvert_exporter": "python",
   "pygments_lexer": "ipython3",
   "version": "3.7.4"
  }
 },
 "nbformat": 4,
 "nbformat_minor": 2
}
