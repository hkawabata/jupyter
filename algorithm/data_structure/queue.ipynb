{
 "cells": [
  {
   "cell_type": "markdown",
   "metadata": {},
   "source": [
    "# キュー\n",
    "- 内部的な実装で python の list を使ってしまっているので、array にした方が良さそう"
   ]
  },
  {
   "cell_type": "code",
   "execution_count": 30,
   "metadata": {},
   "outputs": [],
   "source": [
    "class Queue:\n",
    "    def __init__(self, max_size):\n",
    "        self.max_size = max_size\n",
    "        self.queue = [None] * max_size\n",
    "        self.i_first_in = None\n",
    "        self.i_last_in = None\n",
    "    \n",
    "    def queue_in(self, data):\n",
    "        size = self.queue_size()\n",
    "        if size == self.max_size:\n",
    "            raise Exception('queue overflow')\n",
    "        if size > 0:\n",
    "            self.i_last_in = (self.i_last_in + 1) % self.max_size\n",
    "        else:\n",
    "            self.i_first_in = 0\n",
    "            self.i_last_in = 0\n",
    "        self.queue[self.i_last_in] = data\n",
    "\n",
    "    def queue_out(self):\n",
    "        size = self.queue_size()\n",
    "        if size >= 1:\n",
    "            result = self.queue[self.i_first_in]\n",
    "            self.queue[self.i_first_in] = None\n",
    "            if size == 1:\n",
    "                self.i_first_in = None\n",
    "                self.i_last_in = None\n",
    "            else:\n",
    "                self.i_first_in = (self.i_first_in + 1) % self.max_size\n",
    "            return result\n",
    "        else:\n",
    "            raise Exception('queue is empty')\n",
    "            \n",
    "    def queue_size(self):\n",
    "        if self.i_first_in is None:\n",
    "            return 0\n",
    "        elif self.i_first_in <= self.i_last_in:\n",
    "            return self.i_last_in - self.i_first_in + 1\n",
    "        else:\n",
    "            return self.i_last_in + self.max_size - self.i_first_in + 1"
   ]
  },
  {
   "cell_type": "code",
   "execution_count": 31,
   "metadata": {},
   "outputs": [
    {
     "name": "stdout",
     "output_type": "stream",
     "text": [
      "0 in [0, None, None, None, None] 1\n",
      "1 in [0, 1, None, None, None] 2\n",
      "2 in [0, 1, 2, None, None] 3\n",
      "3 in [0, 1, 2, 3, None] 4\n",
      "0 out [None, 1, 2, 3, None] 3\n",
      "1 out [None, None, 2, 3, None] 2\n",
      "2 out [None, None, None, 3, None] 1\n",
      "0 in [None, None, None, 3, 0] 2\n",
      "1 in [1, None, None, 3, 0] 3\n",
      "2 in [1, 2, None, 3, 0] 4\n",
      "3 in [1, 2, 3, 3, 0] 5\n",
      "3 out [1, 2, 3, None, 0] 4\n",
      "0 out [1, 2, 3, None, None] 3\n",
      "1 out [None, 2, 3, None, None] 2\n",
      "2 out [None, None, 3, None, None] 1\n"
     ]
    }
   ],
   "source": [
    "# 余裕を持って使う\n",
    "q = Queue(5)\n",
    "for i in range(4):\n",
    "    q.queue_in(i)\n",
    "    print(i, 'in', q.queue, q.queue_size())\n",
    "for i in range(3):\n",
    "    print(q.queue_out(), 'out', q.queue, q.queue_size())\n",
    "for i in range(4):\n",
    "    q.queue_in(i)\n",
    "    print(i, 'in', q.queue, q.queue_size())\n",
    "for i in range(4):\n",
    "    print(q.queue_out(), 'out', q.queue, q.queue_size())"
   ]
  },
  {
   "cell_type": "code",
   "execution_count": 32,
   "metadata": {},
   "outputs": [
    {
     "name": "stdout",
     "output_type": "stream",
     "text": [
      "0 in [0, None, None, None, None] 1\n",
      "1 in [0, 1, None, None, None] 2\n",
      "2 in [0, 1, 2, None, None] 3\n",
      "0 out [None, 1, 2, None, None] 2\n",
      "1 out [None, None, 2, None, None] 1\n",
      "2 out [None, None, None, None, None] 0\n",
      "0 in [0, None, None, None, None] 1\n",
      "1 in [0, 1, None, None, None] 2\n",
      "2 in [0, 1, 2, None, None] 3\n",
      "3 in [0, 1, 2, 3, None] 4\n",
      "4 in [0, 1, 2, 3, 4] 5\n",
      "0 out [None, 1, 2, 3, 4] 4\n",
      "1 out [None, None, 2, 3, 4] 3\n",
      "2 out [None, None, None, 3, 4] 2\n",
      "3 out [None, None, None, None, 4] 1\n"
     ]
    }
   ],
   "source": [
    "# ギリギリまで詰める\n",
    "q = Queue(5)\n",
    "for i in range(3):\n",
    "    q.queue_in(i)\n",
    "    print(i, 'in', q.queue, q.queue_size())\n",
    "for i in range(3):\n",
    "    print(q.queue_out(), 'out', q.queue, q.queue_size())\n",
    "for i in range(5):\n",
    "    q.queue_in(i)\n",
    "    print(i, 'in', q.queue, q.queue_size())\n",
    "for i in range(4):\n",
    "    print(q.queue_out(), 'out', q.queue, q.queue_size())"
   ]
  },
  {
   "cell_type": "code",
   "execution_count": 33,
   "metadata": {},
   "outputs": [
    {
     "name": "stdout",
     "output_type": "stream",
     "text": [
      "0 in [0, None, None, None, None] 1\n",
      "1 in [0, 1, None, None, None] 2\n",
      "2 in [0, 1, 2, None, None] 3\n",
      "3 in [0, 1, 2, 3, None] 4\n",
      "4 in [0, 1, 2, 3, 4] 5\n"
     ]
    },
    {
     "ename": "Exception",
     "evalue": "queue overflow",
     "output_type": "error",
     "traceback": [
      "\u001b[0;31m---------------------------------------------------------------------------\u001b[0m",
      "\u001b[0;31mException\u001b[0m                                 Traceback (most recent call last)",
      "\u001b[0;32m<ipython-input-33-2b6f29b2c610>\u001b[0m in \u001b[0;36m<module>\u001b[0;34m\u001b[0m\n\u001b[1;32m      2\u001b[0m \u001b[0mq\u001b[0m \u001b[0;34m=\u001b[0m \u001b[0mQueue\u001b[0m\u001b[0;34m(\u001b[0m\u001b[0;36m5\u001b[0m\u001b[0;34m)\u001b[0m\u001b[0;34m\u001b[0m\u001b[0;34m\u001b[0m\u001b[0m\n\u001b[1;32m      3\u001b[0m \u001b[0;32mfor\u001b[0m \u001b[0mi\u001b[0m \u001b[0;32min\u001b[0m \u001b[0mrange\u001b[0m\u001b[0;34m(\u001b[0m\u001b[0;36m7\u001b[0m\u001b[0;34m)\u001b[0m\u001b[0;34m:\u001b[0m\u001b[0;34m\u001b[0m\u001b[0;34m\u001b[0m\u001b[0m\n\u001b[0;32m----> 4\u001b[0;31m     \u001b[0mq\u001b[0m\u001b[0;34m.\u001b[0m\u001b[0mqueue_in\u001b[0m\u001b[0;34m(\u001b[0m\u001b[0mi\u001b[0m\u001b[0;34m)\u001b[0m\u001b[0;34m\u001b[0m\u001b[0;34m\u001b[0m\u001b[0m\n\u001b[0m\u001b[1;32m      5\u001b[0m     \u001b[0mprint\u001b[0m\u001b[0;34m(\u001b[0m\u001b[0mi\u001b[0m\u001b[0;34m,\u001b[0m \u001b[0;34m'in'\u001b[0m\u001b[0;34m,\u001b[0m \u001b[0mq\u001b[0m\u001b[0;34m.\u001b[0m\u001b[0mqueue\u001b[0m\u001b[0;34m,\u001b[0m \u001b[0mq\u001b[0m\u001b[0;34m.\u001b[0m\u001b[0mqueue_size\u001b[0m\u001b[0;34m(\u001b[0m\u001b[0;34m)\u001b[0m\u001b[0;34m)\u001b[0m\u001b[0;34m\u001b[0m\u001b[0;34m\u001b[0m\u001b[0m\n",
      "\u001b[0;32m<ipython-input-30-81b98e8a31f0>\u001b[0m in \u001b[0;36mqueue_in\u001b[0;34m(self, data)\u001b[0m\n\u001b[1;32m      9\u001b[0m         \u001b[0msize\u001b[0m \u001b[0;34m=\u001b[0m \u001b[0mself\u001b[0m\u001b[0;34m.\u001b[0m\u001b[0mqueue_size\u001b[0m\u001b[0;34m(\u001b[0m\u001b[0;34m)\u001b[0m\u001b[0;34m\u001b[0m\u001b[0;34m\u001b[0m\u001b[0m\n\u001b[1;32m     10\u001b[0m         \u001b[0;32mif\u001b[0m \u001b[0msize\u001b[0m \u001b[0;34m==\u001b[0m \u001b[0mself\u001b[0m\u001b[0;34m.\u001b[0m\u001b[0mmax_size\u001b[0m\u001b[0;34m:\u001b[0m\u001b[0;34m\u001b[0m\u001b[0;34m\u001b[0m\u001b[0m\n\u001b[0;32m---> 11\u001b[0;31m             \u001b[0;32mraise\u001b[0m \u001b[0mException\u001b[0m\u001b[0;34m(\u001b[0m\u001b[0;34m'queue overflow'\u001b[0m\u001b[0;34m)\u001b[0m\u001b[0;34m\u001b[0m\u001b[0;34m\u001b[0m\u001b[0m\n\u001b[0m\u001b[1;32m     12\u001b[0m         \u001b[0;32mif\u001b[0m \u001b[0msize\u001b[0m \u001b[0;34m>\u001b[0m \u001b[0;36m0\u001b[0m\u001b[0;34m:\u001b[0m\u001b[0;34m\u001b[0m\u001b[0;34m\u001b[0m\u001b[0m\n\u001b[1;32m     13\u001b[0m             \u001b[0mself\u001b[0m\u001b[0;34m.\u001b[0m\u001b[0mi_last_in\u001b[0m \u001b[0;34m=\u001b[0m \u001b[0;34m(\u001b[0m\u001b[0mself\u001b[0m\u001b[0;34m.\u001b[0m\u001b[0mi_last_in\u001b[0m \u001b[0;34m+\u001b[0m \u001b[0;36m1\u001b[0m\u001b[0;34m)\u001b[0m \u001b[0;34m%\u001b[0m \u001b[0mself\u001b[0m\u001b[0;34m.\u001b[0m\u001b[0mmax_size\u001b[0m\u001b[0;34m\u001b[0m\u001b[0;34m\u001b[0m\u001b[0m\n",
      "\u001b[0;31mException\u001b[0m: queue overflow"
     ]
    }
   ],
   "source": [
    "# 詰めすぎ\n",
    "q = Queue(5)\n",
    "for i in range(7):\n",
    "    q.queue_in(i)\n",
    "    print(i, 'in', q.queue, q.queue_size())"
   ]
  },
  {
   "cell_type": "code",
   "execution_count": 35,
   "metadata": {},
   "outputs": [
    {
     "name": "stdout",
     "output_type": "stream",
     "text": [
      "0 in [0, None, None, None, None] 1\n",
      "1 in [0, 1, None, None, None] 2\n",
      "0 out [None, 1, None, None, None] 1\n",
      "1 out [None, None, None, None, None] 0\n"
     ]
    },
    {
     "ename": "Exception",
     "evalue": "queue is empty",
     "output_type": "error",
     "traceback": [
      "\u001b[0;31m---------------------------------------------------------------------------\u001b[0m",
      "\u001b[0;31mException\u001b[0m                                 Traceback (most recent call last)",
      "\u001b[0;32m<ipython-input-35-d399eec91cd2>\u001b[0m in \u001b[0;36m<module>\u001b[0;34m\u001b[0m\n\u001b[1;32m      5\u001b[0m     \u001b[0mprint\u001b[0m\u001b[0;34m(\u001b[0m\u001b[0mi\u001b[0m\u001b[0;34m,\u001b[0m \u001b[0;34m'in'\u001b[0m\u001b[0;34m,\u001b[0m \u001b[0mq\u001b[0m\u001b[0;34m.\u001b[0m\u001b[0mqueue\u001b[0m\u001b[0;34m,\u001b[0m \u001b[0mq\u001b[0m\u001b[0;34m.\u001b[0m\u001b[0mqueue_size\u001b[0m\u001b[0;34m(\u001b[0m\u001b[0;34m)\u001b[0m\u001b[0;34m)\u001b[0m\u001b[0;34m\u001b[0m\u001b[0;34m\u001b[0m\u001b[0m\n\u001b[1;32m      6\u001b[0m \u001b[0;32mfor\u001b[0m \u001b[0mi\u001b[0m \u001b[0;32min\u001b[0m \u001b[0mrange\u001b[0m\u001b[0;34m(\u001b[0m\u001b[0;36m3\u001b[0m\u001b[0;34m)\u001b[0m\u001b[0;34m:\u001b[0m\u001b[0;34m\u001b[0m\u001b[0;34m\u001b[0m\u001b[0m\n\u001b[0;32m----> 7\u001b[0;31m     \u001b[0mprint\u001b[0m\u001b[0;34m(\u001b[0m\u001b[0mq\u001b[0m\u001b[0;34m.\u001b[0m\u001b[0mqueue_out\u001b[0m\u001b[0;34m(\u001b[0m\u001b[0;34m)\u001b[0m\u001b[0;34m,\u001b[0m \u001b[0;34m'out'\u001b[0m\u001b[0;34m,\u001b[0m \u001b[0mq\u001b[0m\u001b[0;34m.\u001b[0m\u001b[0mqueue\u001b[0m\u001b[0;34m,\u001b[0m \u001b[0mq\u001b[0m\u001b[0;34m.\u001b[0m\u001b[0mqueue_size\u001b[0m\u001b[0;34m(\u001b[0m\u001b[0;34m)\u001b[0m\u001b[0;34m)\u001b[0m\u001b[0;34m\u001b[0m\u001b[0;34m\u001b[0m\u001b[0m\n\u001b[0m",
      "\u001b[0;32m<ipython-input-30-81b98e8a31f0>\u001b[0m in \u001b[0;36mqueue_out\u001b[0;34m(self)\u001b[0m\n\u001b[1;32m     29\u001b[0m             \u001b[0;32mreturn\u001b[0m \u001b[0mresult\u001b[0m\u001b[0;34m\u001b[0m\u001b[0;34m\u001b[0m\u001b[0m\n\u001b[1;32m     30\u001b[0m         \u001b[0;32melse\u001b[0m\u001b[0;34m:\u001b[0m\u001b[0;34m\u001b[0m\u001b[0;34m\u001b[0m\u001b[0m\n\u001b[0;32m---> 31\u001b[0;31m             \u001b[0;32mraise\u001b[0m \u001b[0mException\u001b[0m\u001b[0;34m(\u001b[0m\u001b[0;34m'queue is empty'\u001b[0m\u001b[0;34m)\u001b[0m\u001b[0;34m\u001b[0m\u001b[0;34m\u001b[0m\u001b[0m\n\u001b[0m\u001b[1;32m     32\u001b[0m \u001b[0;34m\u001b[0m\u001b[0m\n\u001b[1;32m     33\u001b[0m     \u001b[0;32mdef\u001b[0m \u001b[0mqueue_size\u001b[0m\u001b[0;34m(\u001b[0m\u001b[0mself\u001b[0m\u001b[0;34m)\u001b[0m\u001b[0;34m:\u001b[0m\u001b[0;34m\u001b[0m\u001b[0;34m\u001b[0m\u001b[0m\n",
      "\u001b[0;31mException\u001b[0m: queue is empty"
     ]
    }
   ],
   "source": [
    "# 出しすぎ\n",
    "q = Queue(5)\n",
    "for i in range(2):\n",
    "    q.queue_in(i)\n",
    "    print(i, 'in', q.queue, q.queue_size())\n",
    "for i in range(3):\n",
    "    print(q.queue_out(), 'out', q.queue, q.queue_size())"
   ]
  },
  {
   "cell_type": "code",
   "execution_count": null,
   "metadata": {},
   "outputs": [],
   "source": []
  }
 ],
 "metadata": {
  "kernelspec": {
   "display_name": "Python 3",
   "language": "python",
   "name": "python3"
  },
  "language_info": {
   "codemirror_mode": {
    "name": "ipython",
    "version": 3
   },
   "file_extension": ".py",
   "mimetype": "text/x-python",
   "name": "python",
   "nbconvert_exporter": "python",
   "pygments_lexer": "ipython3",
   "version": "3.7.4"
  }
 },
 "nbformat": 4,
 "nbformat_minor": 2
}
