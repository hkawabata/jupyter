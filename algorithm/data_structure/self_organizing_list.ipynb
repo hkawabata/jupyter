{
 "cells": [
  {
   "cell_type": "markdown",
   "metadata": {},
   "source": [
    "# 自己再編成リスト"
   ]
  },
  {
   "cell_type": "code",
   "execution_count": 145,
   "metadata": {},
   "outputs": [],
   "source": [
    "class MyList:\n",
    "    \"\"\"\n",
    "    自己再編成は行わない\n",
    "    \"\"\"\n",
    "    def __init__(self, kv_list):\n",
    "        n = len(kv_list)\n",
    "        self.data = []\n",
    "        self.i_head = 0\n",
    "        self.data.append([kv_list[0][0], kv_list[0][1], None, 1])\n",
    "        for i in range(1, n-1):\n",
    "            self.data.append([kv_list[i][0], kv_list[i][1], i-1, i+1])\n",
    "        self.data.append([kv_list[n-1][0], kv_list[n-1][1], n-2, None])\n",
    "    \n",
    "    def get_result_elem(self, key):\n",
    "        i_next = self.i_head\n",
    "        while i_next is not None:\n",
    "            i_now = i_next\n",
    "            k, v, i_prev, i_next = self.data[i_now]\n",
    "            if k == key:\n",
    "                return k, v, i_prev, i_next, i_now\n",
    "        raise Exception('key {} not found'.format(key))\n",
    "\n",
    "    def search(self, key):\n",
    "        k, v, i_prev, i_next, i_target = self.get_result_elem(key)\n",
    "        return v\n",
    "\n",
    "class SelfOrganizingMyList1(MyList):\n",
    "    \"\"\"\n",
    "    検索されたデータを先頭に挿入する\n",
    "    \"\"\"\n",
    "    def search(self, key):\n",
    "        k, v, i_prev, i_next, i_target = self.get_result_elem(key)\n",
    "        if i_target != self.i_head:\n",
    "            self.data[i_target][2], self.data[i_target][3] = None, self.i_head\n",
    "            self.data[self.i_head][2] = i_target\n",
    "            self.data[i_prev][3] = i_next\n",
    "            if i_next is not None:\n",
    "                self.data[i_next][2] = i_prev\n",
    "            self.i_head = i_target\n",
    "        return v\n",
    "\n",
    "class SelfOrganizingMyList2(MyList):\n",
    "    \"\"\"\n",
    "    検索されたデータを1つ前と交換する\n",
    "    \"\"\"\n",
    "    def search(self, key):\n",
    "        k, v, i_prev, i_next, i_target = self.get_result_elem(key)\n",
    "        if i_target != self.i_head:\n",
    "            self.data[i_target][0], self.data[i_target][1] = self.data[i_prev][0], self.data[i_prev][1]\n",
    "            self.data[i_prev][0], self.data[i_prev][1] = k, v\n",
    "        return v"
   ]
  },
  {
   "cell_type": "code",
   "execution_count": 146,
   "metadata": {},
   "outputs": [],
   "source": [
    "l = [['a', 100], ['b', 200], ['c', 300], ['d', 400], ['e', 500]]\n",
    "\n",
    "def func(list_impl):\n",
    "    print(list_impl.data)\n",
    "    for k in ['a', 'b', 'd', 'd', 'c', 'a', 'e', 'c', 'e', 'b']:\n",
    "        v = list_impl.search(k)\n",
    "        print('k={}, v={}, list.data={}, list.i_head={}'.format(k, v, list_impl.data, list_impl.i_head))"
   ]
  },
  {
   "cell_type": "code",
   "execution_count": 147,
   "metadata": {},
   "outputs": [
    {
     "name": "stdout",
     "output_type": "stream",
     "text": [
      "[['a', 100, None, 1], ['b', 200, 0, 2], ['c', 300, 1, 3], ['d', 400, 2, 4], ['e', 500, 3, None]]\n",
      "k=a, v=100, list.data=[['a', 100, None, 1], ['b', 200, 0, 2], ['c', 300, 1, 3], ['d', 400, 2, 4], ['e', 500, 3, None]], list.i_head=0\n",
      "k=b, v=200, list.data=[['a', 100, None, 1], ['b', 200, 0, 2], ['c', 300, 1, 3], ['d', 400, 2, 4], ['e', 500, 3, None]], list.i_head=0\n",
      "k=d, v=400, list.data=[['a', 100, None, 1], ['b', 200, 0, 2], ['c', 300, 1, 3], ['d', 400, 2, 4], ['e', 500, 3, None]], list.i_head=0\n",
      "k=d, v=400, list.data=[['a', 100, None, 1], ['b', 200, 0, 2], ['c', 300, 1, 3], ['d', 400, 2, 4], ['e', 500, 3, None]], list.i_head=0\n",
      "k=c, v=300, list.data=[['a', 100, None, 1], ['b', 200, 0, 2], ['c', 300, 1, 3], ['d', 400, 2, 4], ['e', 500, 3, None]], list.i_head=0\n",
      "k=a, v=100, list.data=[['a', 100, None, 1], ['b', 200, 0, 2], ['c', 300, 1, 3], ['d', 400, 2, 4], ['e', 500, 3, None]], list.i_head=0\n",
      "k=e, v=500, list.data=[['a', 100, None, 1], ['b', 200, 0, 2], ['c', 300, 1, 3], ['d', 400, 2, 4], ['e', 500, 3, None]], list.i_head=0\n",
      "k=c, v=300, list.data=[['a', 100, None, 1], ['b', 200, 0, 2], ['c', 300, 1, 3], ['d', 400, 2, 4], ['e', 500, 3, None]], list.i_head=0\n",
      "k=e, v=500, list.data=[['a', 100, None, 1], ['b', 200, 0, 2], ['c', 300, 1, 3], ['d', 400, 2, 4], ['e', 500, 3, None]], list.i_head=0\n",
      "k=b, v=200, list.data=[['a', 100, None, 1], ['b', 200, 0, 2], ['c', 300, 1, 3], ['d', 400, 2, 4], ['e', 500, 3, None]], list.i_head=0\n"
     ]
    }
   ],
   "source": [
    "func(MyList(l))"
   ]
  },
  {
   "cell_type": "code",
   "execution_count": 148,
   "metadata": {},
   "outputs": [
    {
     "name": "stdout",
     "output_type": "stream",
     "text": [
      "[['a', 100, None, 1], ['b', 200, 0, 2], ['c', 300, 1, 3], ['d', 400, 2, 4], ['e', 500, 3, None]]\n",
      "k=a, v=100, list.data=[['a', 100, None, 1], ['b', 200, 0, 2], ['c', 300, 1, 3], ['d', 400, 2, 4], ['e', 500, 3, None]], list.i_head=0\n",
      "k=b, v=200, list.data=[['a', 100, 1, 2], ['b', 200, None, 0], ['c', 300, 0, 3], ['d', 400, 2, 4], ['e', 500, 3, None]], list.i_head=1\n",
      "k=d, v=400, list.data=[['a', 100, 1, 2], ['b', 200, 3, 0], ['c', 300, 0, 4], ['d', 400, None, 1], ['e', 500, 2, None]], list.i_head=3\n",
      "k=d, v=400, list.data=[['a', 100, 1, 2], ['b', 200, 3, 0], ['c', 300, 0, 4], ['d', 400, None, 1], ['e', 500, 2, None]], list.i_head=3\n",
      "k=c, v=300, list.data=[['a', 100, 1, 4], ['b', 200, 3, 0], ['c', 300, None, 3], ['d', 400, 2, 1], ['e', 500, 0, None]], list.i_head=2\n",
      "k=a, v=100, list.data=[['a', 100, None, 2], ['b', 200, 3, 4], ['c', 300, 0, 3], ['d', 400, 2, 1], ['e', 500, 1, None]], list.i_head=0\n",
      "k=e, v=500, list.data=[['a', 100, 4, 2], ['b', 200, 3, None], ['c', 300, 0, 3], ['d', 400, 2, 1], ['e', 500, None, 0]], list.i_head=4\n",
      "k=c, v=300, list.data=[['a', 100, 4, 3], ['b', 200, 3, None], ['c', 300, None, 4], ['d', 400, 0, 1], ['e', 500, 2, 0]], list.i_head=2\n",
      "k=e, v=500, list.data=[['a', 100, 2, 3], ['b', 200, 3, None], ['c', 300, 4, 0], ['d', 400, 0, 1], ['e', 500, None, 2]], list.i_head=4\n",
      "k=b, v=200, list.data=[['a', 100, 2, 3], ['b', 200, None, 4], ['c', 300, 4, 0], ['d', 400, 0, None], ['e', 500, 1, 2]], list.i_head=1\n"
     ]
    }
   ],
   "source": [
    "func(SelfOrganizingMyList1(l))"
   ]
  },
  {
   "cell_type": "code",
   "execution_count": 149,
   "metadata": {},
   "outputs": [
    {
     "name": "stdout",
     "output_type": "stream",
     "text": [
      "[['a', 100, None, 1], ['b', 200, 0, 2], ['c', 300, 1, 3], ['d', 400, 2, 4], ['e', 500, 3, None]]\n",
      "k=a, v=100, list.data=[['a', 100, None, 1], ['b', 200, 0, 2], ['c', 300, 1, 3], ['d', 400, 2, 4], ['e', 500, 3, None]], list.i_head=0\n",
      "k=b, v=200, list.data=[['b', 200, None, 1], ['a', 100, 0, 2], ['c', 300, 1, 3], ['d', 400, 2, 4], ['e', 500, 3, None]], list.i_head=0\n",
      "k=d, v=400, list.data=[['b', 200, None, 1], ['a', 100, 0, 2], ['d', 400, 1, 3], ['c', 300, 2, 4], ['e', 500, 3, None]], list.i_head=0\n",
      "k=d, v=400, list.data=[['b', 200, None, 1], ['d', 400, 0, 2], ['a', 100, 1, 3], ['c', 300, 2, 4], ['e', 500, 3, None]], list.i_head=0\n",
      "k=c, v=300, list.data=[['b', 200, None, 1], ['d', 400, 0, 2], ['c', 300, 1, 3], ['a', 100, 2, 4], ['e', 500, 3, None]], list.i_head=0\n",
      "k=a, v=100, list.data=[['b', 200, None, 1], ['d', 400, 0, 2], ['a', 100, 1, 3], ['c', 300, 2, 4], ['e', 500, 3, None]], list.i_head=0\n",
      "k=e, v=500, list.data=[['b', 200, None, 1], ['d', 400, 0, 2], ['a', 100, 1, 3], ['e', 500, 2, 4], ['c', 300, 3, None]], list.i_head=0\n",
      "k=c, v=300, list.data=[['b', 200, None, 1], ['d', 400, 0, 2], ['a', 100, 1, 3], ['c', 300, 2, 4], ['e', 500, 3, None]], list.i_head=0\n",
      "k=e, v=500, list.data=[['b', 200, None, 1], ['d', 400, 0, 2], ['a', 100, 1, 3], ['e', 500, 2, 4], ['c', 300, 3, None]], list.i_head=0\n",
      "k=b, v=200, list.data=[['b', 200, None, 1], ['d', 400, 0, 2], ['a', 100, 1, 3], ['e', 500, 2, 4], ['c', 300, 3, None]], list.i_head=0\n"
     ]
    }
   ],
   "source": [
    "func(SelfOrganizingMyList2(l))"
   ]
  },
  {
   "cell_type": "code",
   "execution_count": null,
   "metadata": {},
   "outputs": [],
   "source": []
  },
  {
   "cell_type": "code",
   "execution_count": null,
   "metadata": {},
   "outputs": [],
   "source": []
  },
  {
   "cell_type": "code",
   "execution_count": null,
   "metadata": {},
   "outputs": [],
   "source": []
  }
 ],
 "metadata": {
  "kernelspec": {
   "display_name": "Python 3",
   "language": "python",
   "name": "python3"
  },
  "language_info": {
   "codemirror_mode": {
    "name": "ipython",
    "version": 3
   },
   "file_extension": ".py",
   "mimetype": "text/x-python",
   "name": "python",
   "nbconvert_exporter": "python",
   "pygments_lexer": "ipython3",
   "version": "3.7.4"
  }
 },
 "nbformat": 4,
 "nbformat_minor": 2
}
