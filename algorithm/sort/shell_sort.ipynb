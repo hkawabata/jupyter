{
 "cells": [
  {
   "cell_type": "markdown",
   "metadata": {},
   "source": [
    "# シェルソート\n",
    "\n",
    "- 基本挿入法\n",
    "- シェルソート"
   ]
  },
  {
   "cell_type": "code",
   "execution_count": 1,
   "metadata": {},
   "outputs": [],
   "source": [
    "# display graph on notebook\n",
    "%matplotlib inline\n",
    "import matplotlib.pyplot as plt\n",
    "import numpy as np\n",
    "import pandas as pd\n",
    "import math\n",
    "import time\n",
    "import random\n",
    "from my_modules import least_square"
   ]
  },
  {
   "cell_type": "code",
   "execution_count": 7,
   "metadata": {},
   "outputs": [],
   "source": [
    "# 基本挿入法\n",
    "def insert_sort(array):\n",
    "    N = len(array)\n",
    "    for i in range(N):\n",
    "        for j in reversed(range(1, i+1)):\n",
    "            if array[j-1] > array[j]:\n",
    "                buff = array[j]\n",
    "                array[j] = array[j-1]\n",
    "                array[j-1] = buff\n",
    "            else:\n",
    "                break"
   ]
  },
  {
   "cell_type": "code",
   "execution_count": 55,
   "metadata": {},
   "outputs": [
    {
     "data": {
      "text/plain": [
       "array([ 7,  9, 10, 18, 20, 20, 21, 27, 27, 35, 35, 38, 38, 44, 51, 52, 56,\n",
       "       59, 63, 67, 69, 73, 77, 79, 83, 84, 92, 92, 94, 96])"
      ]
     },
     "execution_count": 55,
     "metadata": {},
     "output_type": "execute_result"
    }
   ],
   "source": [
    "arr = np.array([random.randint(0, 100) for i in range(30)])\n",
    "insert_sort(arr)\n",
    "arr"
   ]
  },
  {
   "cell_type": "code",
   "execution_count": 9,
   "metadata": {},
   "outputs": [
    {
     "data": {
      "text/html": [
       "<div>\n",
       "<style scoped>\n",
       "    .dataframe tbody tr th:only-of-type {\n",
       "        vertical-align: middle;\n",
       "    }\n",
       "\n",
       "    .dataframe tbody tr th {\n",
       "        vertical-align: top;\n",
       "    }\n",
       "\n",
       "    .dataframe thead th {\n",
       "        text-align: right;\n",
       "    }\n",
       "</style>\n",
       "<table border=\"1\" class=\"dataframe\">\n",
       "  <thead>\n",
       "    <tr style=\"text-align: right;\">\n",
       "      <th></th>\n",
       "      <th>array length</th>\n",
       "      <th>sort time [s]</th>\n",
       "    </tr>\n",
       "  </thead>\n",
       "  <tbody>\n",
       "    <tr>\n",
       "      <td>0</td>\n",
       "      <td>1000.0</td>\n",
       "      <td>0.422002</td>\n",
       "    </tr>\n",
       "    <tr>\n",
       "      <td>1</td>\n",
       "      <td>2000.0</td>\n",
       "      <td>1.594996</td>\n",
       "    </tr>\n",
       "    <tr>\n",
       "      <td>2</td>\n",
       "      <td>3000.0</td>\n",
       "      <td>3.671310</td>\n",
       "    </tr>\n",
       "    <tr>\n",
       "      <td>3</td>\n",
       "      <td>4000.0</td>\n",
       "      <td>7.067732</td>\n",
       "    </tr>\n",
       "    <tr>\n",
       "      <td>4</td>\n",
       "      <td>5000.0</td>\n",
       "      <td>11.041973</td>\n",
       "    </tr>\n",
       "    <tr>\n",
       "      <td>5</td>\n",
       "      <td>6000.0</td>\n",
       "      <td>15.744850</td>\n",
       "    </tr>\n",
       "    <tr>\n",
       "      <td>6</td>\n",
       "      <td>7000.0</td>\n",
       "      <td>21.590407</td>\n",
       "    </tr>\n",
       "    <tr>\n",
       "      <td>7</td>\n",
       "      <td>8000.0</td>\n",
       "      <td>25.526611</td>\n",
       "    </tr>\n",
       "    <tr>\n",
       "      <td>8</td>\n",
       "      <td>9000.0</td>\n",
       "      <td>32.216188</td>\n",
       "    </tr>\n",
       "    <tr>\n",
       "      <td>9</td>\n",
       "      <td>10000.0</td>\n",
       "      <td>39.851887</td>\n",
       "    </tr>\n",
       "  </tbody>\n",
       "</table>\n",
       "</div>"
      ],
      "text/plain": [
       "   array length  sort time [s]\n",
       "0        1000.0       0.422002\n",
       "1        2000.0       1.594996\n",
       "2        3000.0       3.671310\n",
       "3        4000.0       7.067732\n",
       "4        5000.0      11.041973\n",
       "5        6000.0      15.744850\n",
       "6        7000.0      21.590407\n",
       "7        8000.0      25.526611\n",
       "8        9000.0      32.216188\n",
       "9       10000.0      39.851887"
      ]
     },
     "execution_count": 9,
     "metadata": {},
     "output_type": "execute_result"
    }
   ],
   "source": [
    "n_list = []\n",
    "t_list = []\n",
    "for n in [1000*i for i in range(1, 10+1)]:\n",
    "    arr = np.array([random.random() for i in range(n)])\n",
    "    start = time.time()\n",
    "    insert_sort(arr)\n",
    "    end = time.time()\n",
    "    n_list.append(n)\n",
    "    t_list.append(round(end-start, 6))\n",
    "\n",
    "pd.DataFrame(data=np.array([n_list, t_list]).T, columns=['array length', 'sort time [s]'])"
   ]
  },
  {
   "cell_type": "code",
   "execution_count": 10,
   "metadata": {},
   "outputs": [
    {
     "data": {
      "text/html": [
       "<div>\n",
       "<style scoped>\n",
       "    .dataframe tbody tr th:only-of-type {\n",
       "        vertical-align: middle;\n",
       "    }\n",
       "\n",
       "    .dataframe tbody tr th {\n",
       "        vertical-align: top;\n",
       "    }\n",
       "\n",
       "    .dataframe thead th {\n",
       "        text-align: right;\n",
       "    }\n",
       "</style>\n",
       "<table border=\"1\" class=\"dataframe\">\n",
       "  <thead>\n",
       "    <tr style=\"text-align: right;\">\n",
       "      <th></th>\n",
       "      <th>a</th>\n",
       "    </tr>\n",
       "  </thead>\n",
       "  <tbody>\n",
       "    <tr>\n",
       "      <td>0</td>\n",
       "      <td>-1.107189e+00</td>\n",
       "    </tr>\n",
       "    <tr>\n",
       "      <td>1</td>\n",
       "      <td>7.818816e-04</td>\n",
       "    </tr>\n",
       "    <tr>\n",
       "      <td>2</td>\n",
       "      <td>3.293412e-07</td>\n",
       "    </tr>\n",
       "  </tbody>\n",
       "</table>\n",
       "</div>"
      ],
      "text/plain": [
       "              a\n",
       "0 -1.107189e+00\n",
       "1  7.818816e-04\n",
       "2  3.293412e-07"
      ]
     },
     "execution_count": 10,
     "metadata": {},
     "output_type": "execute_result"
    },
    {
     "data": {
      "image/png": "[encoded data removed]",
      "text/plain": [
       "<Figure size 432x288 with 1 Axes>"
      ]
     },
     "metadata": {
      "needs_background": "light"
     },
     "output_type": "display_data"
    }
   ],
   "source": [
    "plt.grid()\n",
    "plt.title('Insert Sort')\n",
    "plt.xlabel('array length')\n",
    "plt.ylabel('sort time [s]')\n",
    "a = least_square.least_square(np.array([n_list, t_list]).T, 2, True)\n",
    "pd.DataFrame(data=a, columns=['a'])"
   ]
  },
  {
   "cell_type": "code",
   "execution_count": 109,
   "metadata": {},
   "outputs": [],
   "source": [
    "# シェルソート\n",
    "def shell_sort(array):\n",
    "    N = len(array)\n",
    "    gap = 1\n",
    "    while 3*gap+1 < N:\n",
    "        gap = 3 * gap + 1\n",
    "    while gap > 0:\n",
    "        for i in range(gap):\n",
    "            for j in range(int((N-i)/gap)):\n",
    "                for k in reversed(range(1, j+1)):\n",
    "                    index = i + k*gap\n",
    "                    if array[index-gap] > array[index]:\n",
    "                        buff = array[index]\n",
    "                        array[index] = array[index-gap]\n",
    "                        array[index-gap] = buff\n",
    "                    else:\n",
    "                        break\n",
    "        gap = int((gap - 1) / 3)"
   ]
  },
  {
   "cell_type": "code",
   "execution_count": 120,
   "metadata": {},
   "outputs": [
    {
     "data": {
      "text/plain": [
       "array([ 0,  6, 12, 15, 16, 18, 21, 24, 28, 29, 30, 38, 43, 44, 48, 50, 51,\n",
       "       59, 71, 75, 79, 80, 80, 82, 85, 89, 89, 92, 93, 99])"
      ]
     },
     "execution_count": 120,
     "metadata": {},
     "output_type": "execute_result"
    }
   ],
   "source": [
    "arr = np.array([random.randint(0, 100) for i in range(30)])\n",
    "shell_sort(arr)\n",
    "arr"
   ]
  },
  {
   "cell_type": "code",
   "execution_count": 126,
   "metadata": {},
   "outputs": [
    {
     "data": {
      "text/html": [
       "<div>\n",
       "<style scoped>\n",
       "    .dataframe tbody tr th:only-of-type {\n",
       "        vertical-align: middle;\n",
       "    }\n",
       "\n",
       "    .dataframe tbody tr th {\n",
       "        vertical-align: top;\n",
       "    }\n",
       "\n",
       "    .dataframe thead th {\n",
       "        text-align: right;\n",
       "    }\n",
       "</style>\n",
       "<table border=\"1\" class=\"dataframe\">\n",
       "  <thead>\n",
       "    <tr style=\"text-align: right;\">\n",
       "      <th></th>\n",
       "      <th>array length</th>\n",
       "      <th>sort time [s]</th>\n",
       "      <th>sorted (before)</th>\n",
       "      <th>sorted (after)</th>\n",
       "    </tr>\n",
       "  </thead>\n",
       "  <tbody>\n",
       "    <tr>\n",
       "      <td>0</td>\n",
       "      <td>10000.0</td>\n",
       "      <td>0.653702</td>\n",
       "      <td>0.0</td>\n",
       "      <td>1.0</td>\n",
       "    </tr>\n",
       "    <tr>\n",
       "      <td>1</td>\n",
       "      <td>20000.0</td>\n",
       "      <td>1.520996</td>\n",
       "      <td>0.0</td>\n",
       "      <td>1.0</td>\n",
       "    </tr>\n",
       "    <tr>\n",
       "      <td>2</td>\n",
       "      <td>30000.0</td>\n",
       "      <td>2.673308</td>\n",
       "      <td>0.0</td>\n",
       "      <td>1.0</td>\n",
       "    </tr>\n",
       "    <tr>\n",
       "      <td>3</td>\n",
       "      <td>40000.0</td>\n",
       "      <td>3.050898</td>\n",
       "      <td>0.0</td>\n",
       "      <td>1.0</td>\n",
       "    </tr>\n",
       "    <tr>\n",
       "      <td>4</td>\n",
       "      <td>50000.0</td>\n",
       "      <td>3.811066</td>\n",
       "      <td>0.0</td>\n",
       "      <td>1.0</td>\n",
       "    </tr>\n",
       "    <tr>\n",
       "      <td>5</td>\n",
       "      <td>60000.0</td>\n",
       "      <td>5.613125</td>\n",
       "      <td>0.0</td>\n",
       "      <td>1.0</td>\n",
       "    </tr>\n",
       "    <tr>\n",
       "      <td>6</td>\n",
       "      <td>70000.0</td>\n",
       "      <td>6.169677</td>\n",
       "      <td>0.0</td>\n",
       "      <td>1.0</td>\n",
       "    </tr>\n",
       "    <tr>\n",
       "      <td>7</td>\n",
       "      <td>80000.0</td>\n",
       "      <td>7.566804</td>\n",
       "      <td>0.0</td>\n",
       "      <td>1.0</td>\n",
       "    </tr>\n",
       "    <tr>\n",
       "      <td>8</td>\n",
       "      <td>90000.0</td>\n",
       "      <td>8.443675</td>\n",
       "      <td>0.0</td>\n",
       "      <td>1.0</td>\n",
       "    </tr>\n",
       "    <tr>\n",
       "      <td>9</td>\n",
       "      <td>100000.0</td>\n",
       "      <td>8.839703</td>\n",
       "      <td>0.0</td>\n",
       "      <td>1.0</td>\n",
       "    </tr>\n",
       "  </tbody>\n",
       "</table>\n",
       "</div>"
      ],
      "text/plain": [
       "   array length  sort time [s]  sorted (before)  sorted (after)\n",
       "0       10000.0       0.653702              0.0             1.0\n",
       "1       20000.0       1.520996              0.0             1.0\n",
       "2       30000.0       2.673308              0.0             1.0\n",
       "3       40000.0       3.050898              0.0             1.0\n",
       "4       50000.0       3.811066              0.0             1.0\n",
       "5       60000.0       5.613125              0.0             1.0\n",
       "6       70000.0       6.169677              0.0             1.0\n",
       "7       80000.0       7.566804              0.0             1.0\n",
       "8       90000.0       8.443675              0.0             1.0\n",
       "9      100000.0       8.839703              0.0             1.0"
      ]
     },
     "execution_count": 126,
     "metadata": {},
     "output_type": "execute_result"
    }
   ],
   "source": [
    "n_list = []\n",
    "t_list = []\n",
    "sorted_before = []\n",
    "sorted_after = []\n",
    "for n in [10000*i for i in range(1, 10+1)]:\n",
    "    arr = np.array([random.random() for i in range(n)])\n",
    "    \n",
    "    b = True\n",
    "    for i in range(len(arr)-1):\n",
    "        b = b and arr[i] < arr[i+1]\n",
    "    sorted_before.append(b)\n",
    "    \n",
    "    start = time.time()\n",
    "    shell_sort(arr)\n",
    "    end = time.time()\n",
    "    n_list.append(n)\n",
    "    t_list.append(round(end-start, 6))\n",
    "    \n",
    "    b = True\n",
    "    for i in range(len(arr)-1):\n",
    "        b = b and arr[i] < arr[i+1]\n",
    "    sorted_after.append(b)\n",
    "\n",
    "pd.DataFrame(data=np.array([n_list, t_list, sorted_before, sorted_after]).T, columns=['array length', 'sort time [s]', 'sorted (before)', 'sorted (after)'])"
   ]
  },
  {
   "cell_type": "code",
   "execution_count": 127,
   "metadata": {},
   "outputs": [
    {
     "data": {
      "text/html": [
       "<div>\n",
       "<style scoped>\n",
       "    .dataframe tbody tr th:only-of-type {\n",
       "        vertical-align: middle;\n",
       "    }\n",
       "\n",
       "    .dataframe tbody tr th {\n",
       "        vertical-align: top;\n",
       "    }\n",
       "\n",
       "    .dataframe thead th {\n",
       "        text-align: right;\n",
       "    }\n",
       "</style>\n",
       "<table border=\"1\" class=\"dataframe\">\n",
       "  <thead>\n",
       "    <tr style=\"text-align: right;\">\n",
       "      <th></th>\n",
       "      <th>a</th>\n",
       "    </tr>\n",
       "  </thead>\n",
       "  <tbody>\n",
       "    <tr>\n",
       "      <td>0</td>\n",
       "      <td>-3.167283e-01</td>\n",
       "    </tr>\n",
       "    <tr>\n",
       "      <td>1</td>\n",
       "      <td>9.023142e-05</td>\n",
       "    </tr>\n",
       "    <tr>\n",
       "      <td>2</td>\n",
       "      <td>4.890799e-11</td>\n",
       "    </tr>\n",
       "  </tbody>\n",
       "</table>\n",
       "</div>"
      ],
      "text/plain": [
       "              a\n",
       "0 -3.167283e-01\n",
       "1  9.023142e-05\n",
       "2  4.890799e-11"
      ]
     },
     "execution_count": 127,
     "metadata": {},
     "output_type": "execute_result"
    },
    {
     "data": {
      "image/png": "[encoded data removed]",
      "text/plain": [
       "<Figure size 432x288 with 1 Axes>"
      ]
     },
     "metadata": {
      "needs_background": "light"
     },
     "output_type": "display_data"
    }
   ],
   "source": [
    "plt.grid()\n",
    "plt.title('Shell Sort')\n",
    "plt.xlabel('array length')\n",
    "plt.ylabel('sort time [s]')\n",
    "a = least_square.least_square(np.array([n_list, t_list]).T, 2, True)\n",
    "pd.DataFrame(data=a, columns=['a'])\n",
    "# かなり高速 & ほぼ1次関数くらいのオーダーに見える"
   ]
  },
  {
   "cell_type": "code",
   "execution_count": null,
   "metadata": {},
   "outputs": [],
   "source": []
  }
 ],
 "metadata": {
  "kernelspec": {
   "display_name": "Python 3",
   "language": "python",
   "name": "python3"
  },
  "language_info": {
   "codemirror_mode": {
    "name": "ipython",
    "version": 3
   },
   "file_extension": ".py",
   "mimetype": "text/x-python",
   "name": "python",
   "nbconvert_exporter": "python",
   "pygments_lexer": "ipython3",
   "version": "3.7.4"
  }
 },
 "nbformat": 4,
 "nbformat_minor": 2
}
