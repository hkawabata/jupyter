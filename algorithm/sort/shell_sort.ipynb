{
 "cells": [
  {
   "cell_type": "markdown",
   "metadata": {},
   "source": [
    "# シェルソート\n",
    "\n",
    "- 基本挿入法\n",
    "- シェルソート"
   ]
  },
  {
   "cell_type": "code",
   "execution_count": 1,
   "metadata": {},
   "outputs": [],
   "source": [
    "# display graph on notebook\n",
    "%matplotlib inline\n",
    "import matplotlib.pyplot as plt\n",
    "import numpy as np\n",
    "import pandas as pd\n",
    "import math\n",
    "import time\n",
    "import random"
   ]
  },
  {
   "cell_type": "code",
   "execution_count": 2,
   "metadata": {},
   "outputs": [],
   "source": [
    "# 基本挿入法\n",
    "def insert_sort(array):\n",
    "    N = len(array)\n",
    "    for i in range(N):\n",
    "        for j in reversed(range(1, i+1)):\n",
    "            if array[j-1] > array[j]:\n",
    "                buff = array[j]\n",
    "                array[j] = array[j-1]\n",
    "                array[j-1] = buff\n",
    "            else:\n",
    "                break"
   ]
  },
  {
   "cell_type": "code",
   "execution_count": 3,
   "metadata": {},
   "outputs": [
    {
     "data": {
      "text/plain": [
       "array([ 0,  1,  5,  9, 24, 31, 33, 33, 34, 35, 46, 46, 54, 58, 61, 61, 61,\n",
       "       79, 80, 82, 85, 86, 86, 87, 89, 89, 90, 91, 93, 99])"
      ]
     },
     "execution_count": 3,
     "metadata": {},
     "output_type": "execute_result"
    }
   ],
   "source": [
    "arr = np.array([random.randint(0, 100) for i in range(30)])\n",
    "insert_sort(arr)\n",
    "arr"
   ]
  },
  {
   "cell_type": "code",
   "execution_count": 4,
   "metadata": {},
   "outputs": [
    {
     "data": {
      "text/html": [
       "<div>\n",
       "<style scoped>\n",
       "    .dataframe tbody tr th:only-of-type {\n",
       "        vertical-align: middle;\n",
       "    }\n",
       "\n",
       "    .dataframe tbody tr th {\n",
       "        vertical-align: top;\n",
       "    }\n",
       "\n",
       "    .dataframe thead th {\n",
       "        text-align: right;\n",
       "    }\n",
       "</style>\n",
       "<table border=\"1\" class=\"dataframe\">\n",
       "  <thead>\n",
       "    <tr style=\"text-align: right;\">\n",
       "      <th></th>\n",
       "      <th>array length</th>\n",
       "      <th>sort time [s]</th>\n",
       "    </tr>\n",
       "  </thead>\n",
       "  <tbody>\n",
       "    <tr>\n",
       "      <td>0</td>\n",
       "      <td>1000.0</td>\n",
       "      <td>0.379249</td>\n",
       "    </tr>\n",
       "    <tr>\n",
       "      <td>1</td>\n",
       "      <td>2000.0</td>\n",
       "      <td>1.598658</td>\n",
       "    </tr>\n",
       "    <tr>\n",
       "      <td>2</td>\n",
       "      <td>3000.0</td>\n",
       "      <td>3.621170</td>\n",
       "    </tr>\n",
       "    <tr>\n",
       "      <td>3</td>\n",
       "      <td>4000.0</td>\n",
       "      <td>6.386534</td>\n",
       "    </tr>\n",
       "    <tr>\n",
       "      <td>4</td>\n",
       "      <td>5000.0</td>\n",
       "      <td>10.204445</td>\n",
       "    </tr>\n",
       "    <tr>\n",
       "      <td>5</td>\n",
       "      <td>6000.0</td>\n",
       "      <td>14.168217</td>\n",
       "    </tr>\n",
       "    <tr>\n",
       "      <td>6</td>\n",
       "      <td>7000.0</td>\n",
       "      <td>19.645965</td>\n",
       "    </tr>\n",
       "    <tr>\n",
       "      <td>7</td>\n",
       "      <td>8000.0</td>\n",
       "      <td>26.310077</td>\n",
       "    </tr>\n",
       "    <tr>\n",
       "      <td>8</td>\n",
       "      <td>9000.0</td>\n",
       "      <td>32.299246</td>\n",
       "    </tr>\n",
       "    <tr>\n",
       "      <td>9</td>\n",
       "      <td>10000.0</td>\n",
       "      <td>41.269744</td>\n",
       "    </tr>\n",
       "  </tbody>\n",
       "</table>\n",
       "</div>"
      ],
      "text/plain": [
       "   array length  sort time [s]\n",
       "0        1000.0       0.379249\n",
       "1        2000.0       1.598658\n",
       "2        3000.0       3.621170\n",
       "3        4000.0       6.386534\n",
       "4        5000.0      10.204445\n",
       "5        6000.0      14.168217\n",
       "6        7000.0      19.645965\n",
       "7        8000.0      26.310077\n",
       "8        9000.0      32.299246\n",
       "9       10000.0      41.269744"
      ]
     },
     "execution_count": 4,
     "metadata": {},
     "output_type": "execute_result"
    }
   ],
   "source": [
    "n_list = []\n",
    "t_list = []\n",
    "for n in [1000*i for i in range(1, 10+1)]:\n",
    "    arr = np.array([random.random() for i in range(n)])\n",
    "    start = time.time()\n",
    "    insert_sort(arr)\n",
    "    end = time.time()\n",
    "    n_list.append(n)\n",
    "    t_list.append(round(end-start, 6))\n",
    "\n",
    "pd.DataFrame(data=np.array([n_list, t_list]).T, columns=['array length', 'sort time [s]'])"
   ]
  },
  {
   "cell_type": "code",
   "execution_count": 5,
   "metadata": {},
   "outputs": [
    {
     "data": {
      "image/png": "[encoded data removed]",
      "text/plain": [
       "<Figure size 432x288 with 1 Axes>"
      ]
     },
     "metadata": {
      "needs_background": "light"
     },
     "output_type": "display_data"
    },
    {
     "data": {
      "text/html": [
       "<div>\n",
       "<style scoped>\n",
       "    .dataframe tbody tr th:only-of-type {\n",
       "        vertical-align: middle;\n",
       "    }\n",
       "\n",
       "    .dataframe tbody tr th {\n",
       "        vertical-align: top;\n",
       "    }\n",
       "\n",
       "    .dataframe thead th {\n",
       "        text-align: right;\n",
       "    }\n",
       "</style>\n",
       "<table border=\"1\" class=\"dataframe\">\n",
       "  <thead>\n",
       "    <tr style=\"text-align: right;\">\n",
       "      <th></th>\n",
       "      <th>a</th>\n",
       "    </tr>\n",
       "  </thead>\n",
       "  <tbody>\n",
       "    <tr>\n",
       "      <td>0</td>\n",
       "      <td>4.248878e-07</td>\n",
       "    </tr>\n",
       "    <tr>\n",
       "      <td>1</td>\n",
       "      <td>-1.882797e-04</td>\n",
       "    </tr>\n",
       "    <tr>\n",
       "      <td>2</td>\n",
       "      <td>2.656895e-01</td>\n",
       "    </tr>\n",
       "  </tbody>\n",
       "</table>\n",
       "</div>"
      ],
      "text/plain": [
       "              a\n",
       "0  4.248878e-07\n",
       "1 -1.882797e-04\n",
       "2  2.656895e-01"
      ]
     },
     "execution_count": 5,
     "metadata": {},
     "output_type": "execute_result"
    }
   ],
   "source": [
    "from scipy.optimize import curve_fit\n",
    "def func_fit(x, a, b, c):\n",
    "    return (a * x + b) * x + c\n",
    "\n",
    "param, cov = curve_fit(func_fit, n_list, t_list)\n",
    "x = np.array([i*100 for i in range(int(max(n_list)/100)+10)])\n",
    "y = func_fit(x, param[0], param[1], param[2])\n",
    "\n",
    "plt.title('Insert Sort')\n",
    "plt.xlabel('array length')\n",
    "plt.ylabel('sort time [s]')\n",
    "plt.plot(x, y, label='$y = ({})x^2 + {}x + {}$'.format(round(param[0], 8), round(param[1], 6), round(param[2], 6)))\n",
    "plt.scatter(n_list, t_list)\n",
    "plt.grid()\n",
    "plt.legend()\n",
    "plt.show()\n",
    "\n",
    "pd.DataFrame(data=param, columns=['a'])"
   ]
  },
  {
   "cell_type": "code",
   "execution_count": 6,
   "metadata": {},
   "outputs": [],
   "source": [
    "# シェルソート\n",
    "def shell_sort(array):\n",
    "    N = len(array)\n",
    "    gap = 1\n",
    "    while 3*gap+1 < N:\n",
    "        gap = 3 * gap + 1\n",
    "    while gap > 0:\n",
    "        for i in range(gap):\n",
    "            for j in range(int((N-i)/gap)):\n",
    "                for k in reversed(range(1, j+1)):\n",
    "                    index = i + k*gap\n",
    "                    if array[index-gap] > array[index]:\n",
    "                        buff = array[index]\n",
    "                        array[index] = array[index-gap]\n",
    "                        array[index-gap] = buff\n",
    "                    else:\n",
    "                        break\n",
    "        gap = int((gap - 1) / 3)"
   ]
  },
  {
   "cell_type": "code",
   "execution_count": 7,
   "metadata": {},
   "outputs": [
    {
     "data": {
      "text/plain": [
       "array([ 2, 12, 14, 16, 18, 24, 36, 37, 38, 40, 44, 46, 49, 57, 58, 61, 61,\n",
       "       61, 64, 67, 71, 72, 85, 88, 93, 95, 95, 97, 98, 99])"
      ]
     },
     "execution_count": 7,
     "metadata": {},
     "output_type": "execute_result"
    }
   ],
   "source": [
    "arr = np.array([random.randint(0, 100) for i in range(30)])\n",
    "shell_sort(arr)\n",
    "arr"
   ]
  },
  {
   "cell_type": "code",
   "execution_count": 8,
   "metadata": {},
   "outputs": [
    {
     "data": {
      "text/html": [
       "<div>\n",
       "<style scoped>\n",
       "    .dataframe tbody tr th:only-of-type {\n",
       "        vertical-align: middle;\n",
       "    }\n",
       "\n",
       "    .dataframe tbody tr th {\n",
       "        vertical-align: top;\n",
       "    }\n",
       "\n",
       "    .dataframe thead th {\n",
       "        text-align: right;\n",
       "    }\n",
       "</style>\n",
       "<table border=\"1\" class=\"dataframe\">\n",
       "  <thead>\n",
       "    <tr style=\"text-align: right;\">\n",
       "      <th></th>\n",
       "      <th>array length</th>\n",
       "      <th>sort time [s]</th>\n",
       "      <th>sorted (before)</th>\n",
       "      <th>sorted (after)</th>\n",
       "    </tr>\n",
       "  </thead>\n",
       "  <tbody>\n",
       "    <tr>\n",
       "      <td>0</td>\n",
       "      <td>10000.0</td>\n",
       "      <td>0.580643</td>\n",
       "      <td>0.0</td>\n",
       "      <td>1.0</td>\n",
       "    </tr>\n",
       "    <tr>\n",
       "      <td>1</td>\n",
       "      <td>20000.0</td>\n",
       "      <td>1.298350</td>\n",
       "      <td>0.0</td>\n",
       "      <td>1.0</td>\n",
       "    </tr>\n",
       "    <tr>\n",
       "      <td>2</td>\n",
       "      <td>30000.0</td>\n",
       "      <td>2.014133</td>\n",
       "      <td>0.0</td>\n",
       "      <td>1.0</td>\n",
       "    </tr>\n",
       "    <tr>\n",
       "      <td>3</td>\n",
       "      <td>40000.0</td>\n",
       "      <td>2.626495</td>\n",
       "      <td>0.0</td>\n",
       "      <td>1.0</td>\n",
       "    </tr>\n",
       "    <tr>\n",
       "      <td>4</td>\n",
       "      <td>50000.0</td>\n",
       "      <td>4.007731</td>\n",
       "      <td>0.0</td>\n",
       "      <td>1.0</td>\n",
       "    </tr>\n",
       "    <tr>\n",
       "      <td>5</td>\n",
       "      <td>60000.0</td>\n",
       "      <td>4.531848</td>\n",
       "      <td>0.0</td>\n",
       "      <td>1.0</td>\n",
       "    </tr>\n",
       "    <tr>\n",
       "      <td>6</td>\n",
       "      <td>70000.0</td>\n",
       "      <td>5.517010</td>\n",
       "      <td>0.0</td>\n",
       "      <td>1.0</td>\n",
       "    </tr>\n",
       "    <tr>\n",
       "      <td>7</td>\n",
       "      <td>80000.0</td>\n",
       "      <td>6.397215</td>\n",
       "      <td>0.0</td>\n",
       "      <td>1.0</td>\n",
       "    </tr>\n",
       "    <tr>\n",
       "      <td>8</td>\n",
       "      <td>90000.0</td>\n",
       "      <td>7.468249</td>\n",
       "      <td>0.0</td>\n",
       "      <td>1.0</td>\n",
       "    </tr>\n",
       "    <tr>\n",
       "      <td>9</td>\n",
       "      <td>100000.0</td>\n",
       "      <td>8.045152</td>\n",
       "      <td>0.0</td>\n",
       "      <td>1.0</td>\n",
       "    </tr>\n",
       "  </tbody>\n",
       "</table>\n",
       "</div>"
      ],
      "text/plain": [
       "   array length  sort time [s]  sorted (before)  sorted (after)\n",
       "0       10000.0       0.580643              0.0             1.0\n",
       "1       20000.0       1.298350              0.0             1.0\n",
       "2       30000.0       2.014133              0.0             1.0\n",
       "3       40000.0       2.626495              0.0             1.0\n",
       "4       50000.0       4.007731              0.0             1.0\n",
       "5       60000.0       4.531848              0.0             1.0\n",
       "6       70000.0       5.517010              0.0             1.0\n",
       "7       80000.0       6.397215              0.0             1.0\n",
       "8       90000.0       7.468249              0.0             1.0\n",
       "9      100000.0       8.045152              0.0             1.0"
      ]
     },
     "execution_count": 8,
     "metadata": {},
     "output_type": "execute_result"
    }
   ],
   "source": [
    "n_list = []\n",
    "t_list = []\n",
    "sorted_before = []\n",
    "sorted_after = []\n",
    "for n in [10000*i for i in range(1, 10+1)]:\n",
    "    arr = np.array([random.random() for i in range(n)])\n",
    "    \n",
    "    b = True\n",
    "    for i in range(len(arr)-1):\n",
    "        b = b and arr[i] < arr[i+1]\n",
    "    sorted_before.append(b)\n",
    "    \n",
    "    start = time.time()\n",
    "    shell_sort(arr)\n",
    "    end = time.time()\n",
    "    n_list.append(n)\n",
    "    t_list.append(round(end-start, 6))\n",
    "    \n",
    "    b = True\n",
    "    for i in range(len(arr)-1):\n",
    "        b = b and arr[i] < arr[i+1]\n",
    "    sorted_after.append(b)\n",
    "\n",
    "pd.DataFrame(data=np.array([n_list, t_list, sorted_before, sorted_after]).T, columns=['array length', 'sort time [s]', 'sorted (before)', 'sorted (after)'])"
   ]
  },
  {
   "cell_type": "code",
   "execution_count": 18,
   "metadata": {},
   "outputs": [
    {
     "data": {
      "image/png": "[encoded data removed]",
      "text/plain": [
       "<Figure size 432x288 with 1 Axes>"
      ]
     },
     "metadata": {
      "needs_background": "light"
     },
     "output_type": "display_data"
    },
    {
     "data": {
      "text/html": [
       "<div>\n",
       "<style scoped>\n",
       "    .dataframe tbody tr th:only-of-type {\n",
       "        vertical-align: middle;\n",
       "    }\n",
       "\n",
       "    .dataframe tbody tr th {\n",
       "        vertical-align: top;\n",
       "    }\n",
       "\n",
       "    .dataframe thead th {\n",
       "        text-align: right;\n",
       "    }\n",
       "</style>\n",
       "<table border=\"1\" class=\"dataframe\">\n",
       "  <thead>\n",
       "    <tr style=\"text-align: right;\">\n",
       "      <th></th>\n",
       "      <th>a</th>\n",
       "    </tr>\n",
       "  </thead>\n",
       "  <tbody>\n",
       "    <tr>\n",
       "      <td>0</td>\n",
       "      <td>0.000023</td>\n",
       "    </tr>\n",
       "    <tr>\n",
       "      <td>1</td>\n",
       "      <td>1.110105</td>\n",
       "    </tr>\n",
       "    <tr>\n",
       "      <td>2</td>\n",
       "      <td>-0.119191</td>\n",
       "    </tr>\n",
       "  </tbody>\n",
       "</table>\n",
       "</div>"
      ],
      "text/plain": [
       "          a\n",
       "0  0.000023\n",
       "1  1.110105\n",
       "2 -0.119191"
      ]
     },
     "execution_count": 18,
     "metadata": {},
     "output_type": "execute_result"
    }
   ],
   "source": [
    "from scipy.optimize import curve_fit\n",
    "def func_fit(x, a, b, c):\n",
    "    return a*np.power(x, b) + c\n",
    "\n",
    "param, cov = curve_fit(func_fit, n_list, t_list)\n",
    "x = np.array([i*100 for i in range(int(max(n_list)/100)+10)])\n",
    "y = [func_fit(tmp, param[0], param[1], param[2]) for tmp in x]\n",
    "\n",
    "plt.title('Shell Sort')\n",
    "plt.xlabel('array length')\n",
    "plt.ylabel('sort time [s]')\n",
    "plt.plot(x, y, label='$y = ({})x^{{{}}} + {}$'.format(round(param[0], 6), round(param[1], 6), round(param[2], 6)))\n",
    "plt.scatter(n_list, t_list)\n",
    "plt.grid()\n",
    "plt.legend()\n",
    "plt.show()\n",
    "\n",
    "pd.DataFrame(data=param, columns=['a'])\n",
    "# かなり高速 & ほぼ1次関数くらいのオーダー"
   ]
  },
  {
   "cell_type": "code",
   "execution_count": null,
   "metadata": {},
   "outputs": [],
   "source": []
  }
 ],
 "metadata": {
  "kernelspec": {
   "display_name": "Python 3",
   "language": "python",
   "name": "python3"
  },
  "language_info": {
   "codemirror_mode": {
    "name": "ipython",
    "version": 3
   },
   "file_extension": ".py",
   "mimetype": "text/x-python",
   "name": "python",
   "nbconvert_exporter": "python",
   "pygments_lexer": "ipython3",
   "version": "3.7.4"
  }
 },
 "nbformat": 4,
 "nbformat_minor": 2
}
