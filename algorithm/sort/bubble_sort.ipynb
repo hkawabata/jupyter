{
 "cells": [
  {
   "cell_type": "markdown",
   "metadata": {},
   "source": [
    "# バブルソート\n",
    "\n",
    "- バブルソート\n",
    "- シェーカーソート（バブルソート改良版）"
   ]
  },
  {
   "cell_type": "code",
   "execution_count": 68,
   "metadata": {},
   "outputs": [],
   "source": [
    "# display graph on notebook\n",
    "%matplotlib inline\n",
    "import matplotlib.pyplot as plt\n",
    "import numpy as np\n",
    "import pandas as pd\n",
    "import math\n",
    "import time\n",
    "import random\n",
    "from my_modules import least_square"
   ]
  },
  {
   "cell_type": "code",
   "execution_count": 69,
   "metadata": {},
   "outputs": [],
   "source": [
    "# バブルソート\n",
    "def bubble_sort(array):\n",
    "    N = len(array)\n",
    "    for i in range(N-1):\n",
    "        for j in range(N-1-i):\n",
    "            if array[j] > array[j+1]:\n",
    "                buff = array[j]\n",
    "                array[j] = array[j+1]\n",
    "                array[j+1] = buff"
   ]
  },
  {
   "cell_type": "code",
   "execution_count": 15,
   "metadata": {},
   "outputs": [
    {
     "data": {
      "text/plain": [
       "array([  1,   5,   9,  12,  16,  18,  18,  18,  23,  27,  31,  41,  41,\n",
       "        42,  43,  45,  59,  61,  65,  67,  73,  73,  76,  78,  86,  87,\n",
       "        93,  95,  99, 100])"
      ]
     },
     "execution_count": 15,
     "metadata": {},
     "output_type": "execute_result"
    }
   ],
   "source": [
    "arr = np.array([random.randint(0, 100) for i in range(30)])\n",
    "bubble_sort(arr)\n",
    "arr"
   ]
  },
  {
   "cell_type": "code",
   "execution_count": 74,
   "metadata": {},
   "outputs": [
    {
     "data": {
      "text/html": [
       "<div>\n",
       "<style scoped>\n",
       "    .dataframe tbody tr th:only-of-type {\n",
       "        vertical-align: middle;\n",
       "    }\n",
       "\n",
       "    .dataframe tbody tr th {\n",
       "        vertical-align: top;\n",
       "    }\n",
       "\n",
       "    .dataframe thead th {\n",
       "        text-align: right;\n",
       "    }\n",
       "</style>\n",
       "<table border=\"1\" class=\"dataframe\">\n",
       "  <thead>\n",
       "    <tr style=\"text-align: right;\">\n",
       "      <th></th>\n",
       "      <th>array length</th>\n",
       "      <th>sort time [s]</th>\n",
       "    </tr>\n",
       "  </thead>\n",
       "  <tbody>\n",
       "    <tr>\n",
       "      <td>0</td>\n",
       "      <td>1000.0</td>\n",
       "      <td>0.522767</td>\n",
       "    </tr>\n",
       "    <tr>\n",
       "      <td>1</td>\n",
       "      <td>2000.0</td>\n",
       "      <td>2.373238</td>\n",
       "    </tr>\n",
       "    <tr>\n",
       "      <td>2</td>\n",
       "      <td>3000.0</td>\n",
       "      <td>4.533350</td>\n",
       "    </tr>\n",
       "    <tr>\n",
       "      <td>3</td>\n",
       "      <td>4000.0</td>\n",
       "      <td>7.864802</td>\n",
       "    </tr>\n",
       "    <tr>\n",
       "      <td>4</td>\n",
       "      <td>5000.0</td>\n",
       "      <td>12.139246</td>\n",
       "    </tr>\n",
       "    <tr>\n",
       "      <td>5</td>\n",
       "      <td>6000.0</td>\n",
       "      <td>17.663267</td>\n",
       "    </tr>\n",
       "    <tr>\n",
       "      <td>6</td>\n",
       "      <td>7000.0</td>\n",
       "      <td>23.666970</td>\n",
       "    </tr>\n",
       "    <tr>\n",
       "      <td>7</td>\n",
       "      <td>8000.0</td>\n",
       "      <td>30.937931</td>\n",
       "    </tr>\n",
       "    <tr>\n",
       "      <td>8</td>\n",
       "      <td>9000.0</td>\n",
       "      <td>39.214649</td>\n",
       "    </tr>\n",
       "    <tr>\n",
       "      <td>9</td>\n",
       "      <td>10000.0</td>\n",
       "      <td>48.555346</td>\n",
       "    </tr>\n",
       "  </tbody>\n",
       "</table>\n",
       "</div>"
      ],
      "text/plain": [
       "   array length  sort time [s]\n",
       "0        1000.0       0.522767\n",
       "1        2000.0       2.373238\n",
       "2        3000.0       4.533350\n",
       "3        4000.0       7.864802\n",
       "4        5000.0      12.139246\n",
       "5        6000.0      17.663267\n",
       "6        7000.0      23.666970\n",
       "7        8000.0      30.937931\n",
       "8        9000.0      39.214649\n",
       "9       10000.0      48.555346"
      ]
     },
     "execution_count": 74,
     "metadata": {},
     "output_type": "execute_result"
    }
   ],
   "source": [
    "n_list = []\n",
    "t_list = []\n",
    "for n in [1000*i for i in range(1, 10+1)]:\n",
    "    arr = np.array([random.random() for i in range(n)])\n",
    "    start = time.time()\n",
    "    bubble_sort(arr)\n",
    "    end = time.time()\n",
    "    n_list.append(n)\n",
    "    t_list.append(round(end-start, 6))\n",
    "\n",
    "pd.DataFrame(data=np.array([n_list, t_list]).T, columns=['array length', 'sort time [s]'])"
   ]
  },
  {
   "cell_type": "code",
   "execution_count": 75,
   "metadata": {},
   "outputs": [
    {
     "data": {
      "text/html": [
       "<div>\n",
       "<style scoped>\n",
       "    .dataframe tbody tr th:only-of-type {\n",
       "        vertical-align: middle;\n",
       "    }\n",
       "\n",
       "    .dataframe tbody tr th {\n",
       "        vertical-align: top;\n",
       "    }\n",
       "\n",
       "    .dataframe thead th {\n",
       "        text-align: right;\n",
       "    }\n",
       "</style>\n",
       "<table border=\"1\" class=\"dataframe\">\n",
       "  <thead>\n",
       "    <tr style=\"text-align: right;\">\n",
       "      <th></th>\n",
       "      <th>a</th>\n",
       "    </tr>\n",
       "  </thead>\n",
       "  <tbody>\n",
       "    <tr>\n",
       "      <td>0</td>\n",
       "      <td>2.732562e-01</td>\n",
       "    </tr>\n",
       "    <tr>\n",
       "      <td>1</td>\n",
       "      <td>-4.480077e-05</td>\n",
       "    </tr>\n",
       "    <tr>\n",
       "      <td>2</td>\n",
       "      <td>4.862417e-07</td>\n",
       "    </tr>\n",
       "  </tbody>\n",
       "</table>\n",
       "</div>"
      ],
      "text/plain": [
       "              a\n",
       "0  2.732562e-01\n",
       "1 -4.480077e-05\n",
       "2  4.862417e-07"
      ]
     },
     "execution_count": 75,
     "metadata": {},
     "output_type": "execute_result"
    },
    {
     "data": {
      "image/png": "[encoded data removed]",
      "text/plain": [
       "<Figure size 432x288 with 1 Axes>"
      ]
     },
     "metadata": {
      "needs_background": "light"
     },
     "output_type": "display_data"
    }
   ],
   "source": [
    "plt.grid()\n",
    "plt.title('Bubble Sort')\n",
    "plt.xlabel('array length')\n",
    "plt.ylabel('sort time [s]')\n",
    "a = least_square.least_square(np.array([n_list, t_list]).T, 2, True)\n",
    "pd.DataFrame(data=a, columns=['a'])"
   ]
  },
  {
   "cell_type": "code",
   "execution_count": 76,
   "metadata": {
    "scrolled": true
   },
   "outputs": [],
   "source": [
    "# シェーカーソート\n",
    "def shaker_sort(array):\n",
    "    N = len(array)\n",
    "    i_left = 0\n",
    "    i_right = N-1\n",
    "    \n",
    "    while True:\n",
    "        cnt_switch = 0\n",
    "        i = i_left\n",
    "        i_last_switch = i_left\n",
    "        while i < i_right:\n",
    "            if array[i] > array[i+1]:\n",
    "                buff = array[i]\n",
    "                array[i] = array[i+1]\n",
    "                array[i+1] = buff\n",
    "                i_last_switch = i\n",
    "                cnt_switch += 1\n",
    "            i += 1\n",
    "        i_right = i_last_switch\n",
    "        if cnt_switch == 0:\n",
    "            break\n",
    "    \n",
    "        cnt_switch = 0\n",
    "        i = i_right\n",
    "        i_last_switch = i_right\n",
    "        while i_left < i:\n",
    "            if array[i-1] > array[i]:\n",
    "                buff = array[i]\n",
    "                array[i] = array[i-1]\n",
    "                array[i-1] = buff\n",
    "                i_last_switch = i\n",
    "                cnt_switch += 1\n",
    "            i -= 1\n",
    "        i_left = i_last_switch\n",
    "        if cnt_switch == 0:\n",
    "            break"
   ]
  },
  {
   "cell_type": "code",
   "execution_count": 77,
   "metadata": {},
   "outputs": [
    {
     "data": {
      "text/plain": [
       "array([ 0,  3,  4,  6,  9, 12, 14, 17, 17, 25, 37, 40, 42, 44, 48, 48, 51,\n",
       "       55, 57, 58, 59, 59, 65, 66, 72, 74, 75, 82, 84, 87])"
      ]
     },
     "execution_count": 77,
     "metadata": {},
     "output_type": "execute_result"
    }
   ],
   "source": [
    "arr = np.array([random.randint(0, 100) for i in range(30)])\n",
    "shaker_sort(arr)\n",
    "arr"
   ]
  },
  {
   "cell_type": "code",
   "execution_count": 78,
   "metadata": {},
   "outputs": [
    {
     "data": {
      "text/html": [
       "<div>\n",
       "<style scoped>\n",
       "    .dataframe tbody tr th:only-of-type {\n",
       "        vertical-align: middle;\n",
       "    }\n",
       "\n",
       "    .dataframe tbody tr th {\n",
       "        vertical-align: top;\n",
       "    }\n",
       "\n",
       "    .dataframe thead th {\n",
       "        text-align: right;\n",
       "    }\n",
       "</style>\n",
       "<table border=\"1\" class=\"dataframe\">\n",
       "  <thead>\n",
       "    <tr style=\"text-align: right;\">\n",
       "      <th></th>\n",
       "      <th>array length</th>\n",
       "      <th>sort time [s]</th>\n",
       "    </tr>\n",
       "  </thead>\n",
       "  <tbody>\n",
       "    <tr>\n",
       "      <td>0</td>\n",
       "      <td>1000.0</td>\n",
       "      <td>0.483371</td>\n",
       "    </tr>\n",
       "    <tr>\n",
       "      <td>1</td>\n",
       "      <td>2000.0</td>\n",
       "      <td>2.029522</td>\n",
       "    </tr>\n",
       "    <tr>\n",
       "      <td>2</td>\n",
       "      <td>3000.0</td>\n",
       "      <td>4.974599</td>\n",
       "    </tr>\n",
       "    <tr>\n",
       "      <td>3</td>\n",
       "      <td>4000.0</td>\n",
       "      <td>7.293238</td>\n",
       "    </tr>\n",
       "    <tr>\n",
       "      <td>4</td>\n",
       "      <td>5000.0</td>\n",
       "      <td>11.247360</td>\n",
       "    </tr>\n",
       "    <tr>\n",
       "      <td>5</td>\n",
       "      <td>6000.0</td>\n",
       "      <td>16.066987</td>\n",
       "    </tr>\n",
       "    <tr>\n",
       "      <td>6</td>\n",
       "      <td>7000.0</td>\n",
       "      <td>21.447427</td>\n",
       "    </tr>\n",
       "    <tr>\n",
       "      <td>7</td>\n",
       "      <td>8000.0</td>\n",
       "      <td>29.285295</td>\n",
       "    </tr>\n",
       "    <tr>\n",
       "      <td>8</td>\n",
       "      <td>9000.0</td>\n",
       "      <td>36.375201</td>\n",
       "    </tr>\n",
       "    <tr>\n",
       "      <td>9</td>\n",
       "      <td>10000.0</td>\n",
       "      <td>44.359311</td>\n",
       "    </tr>\n",
       "  </tbody>\n",
       "</table>\n",
       "</div>"
      ],
      "text/plain": [
       "   array length  sort time [s]\n",
       "0        1000.0       0.483371\n",
       "1        2000.0       2.029522\n",
       "2        3000.0       4.974599\n",
       "3        4000.0       7.293238\n",
       "4        5000.0      11.247360\n",
       "5        6000.0      16.066987\n",
       "6        7000.0      21.447427\n",
       "7        8000.0      29.285295\n",
       "8        9000.0      36.375201\n",
       "9       10000.0      44.359311"
      ]
     },
     "execution_count": 78,
     "metadata": {},
     "output_type": "execute_result"
    }
   ],
   "source": [
    "n_list = []\n",
    "t_list = []\n",
    "for n in [1000*i for i in range(1, 10+1)]:\n",
    "    arr = np.array([random.random() for i in range(n)])\n",
    "    start = time.time()\n",
    "    shaker_sort(arr)\n",
    "    end = time.time()\n",
    "    n_list.append(n)\n",
    "    t_list.append(round(end-start, 6))\n",
    "\n",
    "pd.DataFrame(data=np.array([n_list, t_list]).T, columns=['array length', 'sort time [s]'])"
   ]
  },
  {
   "cell_type": "code",
   "execution_count": 80,
   "metadata": {},
   "outputs": [
    {
     "data": {
      "text/html": [
       "<div>\n",
       "<style scoped>\n",
       "    .dataframe tbody tr th:only-of-type {\n",
       "        vertical-align: middle;\n",
       "    }\n",
       "\n",
       "    .dataframe tbody tr th {\n",
       "        vertical-align: top;\n",
       "    }\n",
       "\n",
       "    .dataframe thead th {\n",
       "        text-align: right;\n",
       "    }\n",
       "</style>\n",
       "<table border=\"1\" class=\"dataframe\">\n",
       "  <thead>\n",
       "    <tr style=\"text-align: right;\">\n",
       "      <th></th>\n",
       "      <th>a</th>\n",
       "    </tr>\n",
       "  </thead>\n",
       "  <tbody>\n",
       "    <tr>\n",
       "      <td>0</td>\n",
       "      <td>2.287899e-01</td>\n",
       "    </tr>\n",
       "    <tr>\n",
       "      <td>1</td>\n",
       "      <td>3.497480e-05</td>\n",
       "    </tr>\n",
       "    <tr>\n",
       "      <td>2</td>\n",
       "      <td>4.398722e-07</td>\n",
       "    </tr>\n",
       "  </tbody>\n",
       "</table>\n",
       "</div>"
      ],
      "text/plain": [
       "              a\n",
       "0  2.287899e-01\n",
       "1  3.497480e-05\n",
       "2  4.398722e-07"
      ]
     },
     "execution_count": 80,
     "metadata": {},
     "output_type": "execute_result"
    },
    {
     "data": {
      "image/png": "[encoded data removed]",
      "text/plain": [
       "<Figure size 432x288 with 1 Axes>"
      ]
     },
     "metadata": {
      "needs_background": "light"
     },
     "output_type": "display_data"
    }
   ],
   "source": [
    "plt.grid()\n",
    "plt.title('Shaker Sort')\n",
    "plt.xlabel('array length')\n",
    "plt.ylabel('sort time [s]')\n",
    "a = least_square.least_square(np.array([n_list, t_list]).T, 2, True)\n",
    "pd.DataFrame(data=a, columns=['a'])"
   ]
  },
  {
   "cell_type": "code",
   "execution_count": null,
   "metadata": {},
   "outputs": [],
   "source": []
  }
 ],
 "metadata": {
  "kernelspec": {
   "display_name": "Python 3",
   "language": "python",
   "name": "python3"
  },
  "language_info": {
   "codemirror_mode": {
    "name": "ipython",
    "version": 3
   },
   "file_extension": ".py",
   "mimetype": "text/x-python",
   "name": "python",
   "nbconvert_exporter": "python",
   "pygments_lexer": "ipython3",
   "version": "3.7.4"
  }
 },
 "nbformat": 4,
 "nbformat_minor": 2
}
