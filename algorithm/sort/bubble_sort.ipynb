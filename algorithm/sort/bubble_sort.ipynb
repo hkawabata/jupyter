{
 "cells": [
  {
   "cell_type": "markdown",
   "metadata": {},
   "source": [
    "# バブルソート\n",
    "\n",
    "- バブルソート\n",
    "- シェーカーソート（バブルソート改良版）"
   ]
  },
  {
   "cell_type": "code",
   "execution_count": 1,
   "metadata": {},
   "outputs": [],
   "source": [
    "# display graph on notebook\n",
    "%matplotlib inline\n",
    "import matplotlib.pyplot as plt\n",
    "import numpy as np\n",
    "import pandas as pd\n",
    "import math\n",
    "import time\n",
    "import random"
   ]
  },
  {
   "cell_type": "code",
   "execution_count": 2,
   "metadata": {},
   "outputs": [],
   "source": [
    "# バブルソート\n",
    "def bubble_sort(array):\n",
    "    N = len(array)\n",
    "    for i in range(N-1):\n",
    "        for j in range(N-1-i):\n",
    "            if array[j] > array[j+1]:\n",
    "                buff = array[j]\n",
    "                array[j] = array[j+1]\n",
    "                array[j+1] = buff"
   ]
  },
  {
   "cell_type": "code",
   "execution_count": 3,
   "metadata": {},
   "outputs": [
    {
     "data": {
      "text/plain": [
       "array([ 1,  3,  5, 13, 13, 17, 21, 26, 31, 32, 33, 37, 37, 40, 43, 47, 51,\n",
       "       56, 58, 58, 63, 69, 73, 74, 82, 85, 90, 93, 96, 98])"
      ]
     },
     "execution_count": 3,
     "metadata": {},
     "output_type": "execute_result"
    }
   ],
   "source": [
    "arr = np.array([random.randint(0, 100) for i in range(30)])\n",
    "bubble_sort(arr)\n",
    "arr"
   ]
  },
  {
   "cell_type": "code",
   "execution_count": 8,
   "metadata": {},
   "outputs": [
    {
     "data": {
      "text/html": [
       "<div>\n",
       "<style scoped>\n",
       "    .dataframe tbody tr th:only-of-type {\n",
       "        vertical-align: middle;\n",
       "    }\n",
       "\n",
       "    .dataframe tbody tr th {\n",
       "        vertical-align: top;\n",
       "    }\n",
       "\n",
       "    .dataframe thead th {\n",
       "        text-align: right;\n",
       "    }\n",
       "</style>\n",
       "<table border=\"1\" class=\"dataframe\">\n",
       "  <thead>\n",
       "    <tr style=\"text-align: right;\">\n",
       "      <th></th>\n",
       "      <th>array length</th>\n",
       "      <th>sort time [s]</th>\n",
       "    </tr>\n",
       "  </thead>\n",
       "  <tbody>\n",
       "    <tr>\n",
       "      <td>0</td>\n",
       "      <td>1000.0</td>\n",
       "      <td>0.553014</td>\n",
       "    </tr>\n",
       "    <tr>\n",
       "      <td>1</td>\n",
       "      <td>2000.0</td>\n",
       "      <td>2.399989</td>\n",
       "    </tr>\n",
       "    <tr>\n",
       "      <td>2</td>\n",
       "      <td>3000.0</td>\n",
       "      <td>4.497548</td>\n",
       "    </tr>\n",
       "    <tr>\n",
       "      <td>3</td>\n",
       "      <td>4000.0</td>\n",
       "      <td>7.892542</td>\n",
       "    </tr>\n",
       "    <tr>\n",
       "      <td>4</td>\n",
       "      <td>5000.0</td>\n",
       "      <td>12.508864</td>\n",
       "    </tr>\n",
       "    <tr>\n",
       "      <td>5</td>\n",
       "      <td>6000.0</td>\n",
       "      <td>18.334557</td>\n",
       "    </tr>\n",
       "    <tr>\n",
       "      <td>6</td>\n",
       "      <td>7000.0</td>\n",
       "      <td>25.013987</td>\n",
       "    </tr>\n",
       "    <tr>\n",
       "      <td>7</td>\n",
       "      <td>8000.0</td>\n",
       "      <td>31.776425</td>\n",
       "    </tr>\n",
       "    <tr>\n",
       "      <td>8</td>\n",
       "      <td>9000.0</td>\n",
       "      <td>40.534148</td>\n",
       "    </tr>\n",
       "    <tr>\n",
       "      <td>9</td>\n",
       "      <td>10000.0</td>\n",
       "      <td>51.020262</td>\n",
       "    </tr>\n",
       "  </tbody>\n",
       "</table>\n",
       "</div>"
      ],
      "text/plain": [
       "   array length  sort time [s]\n",
       "0        1000.0       0.553014\n",
       "1        2000.0       2.399989\n",
       "2        3000.0       4.497548\n",
       "3        4000.0       7.892542\n",
       "4        5000.0      12.508864\n",
       "5        6000.0      18.334557\n",
       "6        7000.0      25.013987\n",
       "7        8000.0      31.776425\n",
       "8        9000.0      40.534148\n",
       "9       10000.0      51.020262"
      ]
     },
     "execution_count": 8,
     "metadata": {},
     "output_type": "execute_result"
    }
   ],
   "source": [
    "n_list = []\n",
    "t_list = []\n",
    "for n in [1000*i for i in range(1, 10+1)]:\n",
    "    arr = np.array([random.random() for i in range(n)])\n",
    "    start = time.time()\n",
    "    bubble_sort(arr)\n",
    "    end = time.time()\n",
    "    n_list.append(n)\n",
    "    t_list.append(round(end-start, 6))\n",
    "\n",
    "pd.DataFrame(data=np.array([n_list, t_list]).T, columns=['array length', 'sort time [s]'])"
   ]
  },
  {
   "cell_type": "code",
   "execution_count": 12,
   "metadata": {},
   "outputs": [
    {
     "data": {
      "image/png": "[encoded data removed]",
      "text/plain": [
       "<Figure size 432x288 with 1 Axes>"
      ]
     },
     "metadata": {
      "needs_background": "light"
     },
     "output_type": "display_data"
    },
    {
     "data": {
      "text/html": [
       "<div>\n",
       "<style scoped>\n",
       "    .dataframe tbody tr th:only-of-type {\n",
       "        vertical-align: middle;\n",
       "    }\n",
       "\n",
       "    .dataframe tbody tr th {\n",
       "        vertical-align: top;\n",
       "    }\n",
       "\n",
       "    .dataframe thead th {\n",
       "        text-align: right;\n",
       "    }\n",
       "</style>\n",
       "<table border=\"1\" class=\"dataframe\">\n",
       "  <thead>\n",
       "    <tr style=\"text-align: right;\">\n",
       "      <th></th>\n",
       "      <th>a</th>\n",
       "    </tr>\n",
       "  </thead>\n",
       "  <tbody>\n",
       "    <tr>\n",
       "      <td>0</td>\n",
       "      <td>5.187147e-07</td>\n",
       "    </tr>\n",
       "    <tr>\n",
       "      <td>1</td>\n",
       "      <td>-1.620514e-04</td>\n",
       "    </tr>\n",
       "    <tr>\n",
       "      <td>2</td>\n",
       "      <td>3.738990e-01</td>\n",
       "    </tr>\n",
       "  </tbody>\n",
       "</table>\n",
       "</div>"
      ],
      "text/plain": [
       "              a\n",
       "0  5.187147e-07\n",
       "1 -1.620514e-04\n",
       "2  3.738990e-01"
      ]
     },
     "execution_count": 12,
     "metadata": {},
     "output_type": "execute_result"
    }
   ],
   "source": [
    "from scipy.optimize import curve_fit\n",
    "def func_fit(x, a, b, c):\n",
    "    return (a * x + b) * x + c\n",
    "\n",
    "param, cov = curve_fit(func_fit, n_list, t_list)\n",
    "x = np.array([i*100 for i in range(int(max(n_list)/100)+10)])\n",
    "y = func_fit(x, param[0], param[1], param[2])\n",
    "\n",
    "plt.title('Bubble Sort')\n",
    "plt.xlabel('array length')\n",
    "plt.ylabel('sort time [s]')\n",
    "plt.plot(x, y, label='$y = ({})x^2 + {}x + {}$'.format(round(param[0], 7), round(param[1], 6), round(param[2], 6)))\n",
    "plt.scatter(n_list, t_list)\n",
    "plt.grid()\n",
    "plt.legend()\n",
    "plt.show()\n",
    "\n",
    "pd.DataFrame(data=param, columns=['a'])"
   ]
  },
  {
   "cell_type": "code",
   "execution_count": 13,
   "metadata": {
    "scrolled": true
   },
   "outputs": [],
   "source": [
    "# シェーカーソート\n",
    "def shaker_sort(array):\n",
    "    N = len(array)\n",
    "    i_left = 0\n",
    "    i_right = N-1\n",
    "    \n",
    "    while True:\n",
    "        cnt_switch = 0\n",
    "        i = i_left\n",
    "        i_last_switch = i_left\n",
    "        while i < i_right:\n",
    "            if array[i] > array[i+1]:\n",
    "                buff = array[i]\n",
    "                array[i] = array[i+1]\n",
    "                array[i+1] = buff\n",
    "                i_last_switch = i\n",
    "                cnt_switch += 1\n",
    "            i += 1\n",
    "        i_right = i_last_switch\n",
    "        if cnt_switch == 0:\n",
    "            break\n",
    "    \n",
    "        cnt_switch = 0\n",
    "        i = i_right\n",
    "        i_last_switch = i_right\n",
    "        while i_left < i:\n",
    "            if array[i-1] > array[i]:\n",
    "                buff = array[i]\n",
    "                array[i] = array[i-1]\n",
    "                array[i-1] = buff\n",
    "                i_last_switch = i\n",
    "                cnt_switch += 1\n",
    "            i -= 1\n",
    "        i_left = i_last_switch\n",
    "        if cnt_switch == 0:\n",
    "            break"
   ]
  },
  {
   "cell_type": "code",
   "execution_count": 14,
   "metadata": {},
   "outputs": [
    {
     "data": {
      "text/plain": [
       "array([  3,  10,  12,  18,  18,  23,  23,  25,  28,  30,  33,  34,  34,\n",
       "        37,  38,  50,  55,  58,  73,  74,  80,  84,  86,  87,  88,  92,\n",
       "        95,  95,  97, 100])"
      ]
     },
     "execution_count": 14,
     "metadata": {},
     "output_type": "execute_result"
    }
   ],
   "source": [
    "arr = np.array([random.randint(0, 100) for i in range(30)])\n",
    "shaker_sort(arr)\n",
    "arr"
   ]
  },
  {
   "cell_type": "code",
   "execution_count": 15,
   "metadata": {},
   "outputs": [
    {
     "data": {
      "text/html": [
       "<div>\n",
       "<style scoped>\n",
       "    .dataframe tbody tr th:only-of-type {\n",
       "        vertical-align: middle;\n",
       "    }\n",
       "\n",
       "    .dataframe tbody tr th {\n",
       "        vertical-align: top;\n",
       "    }\n",
       "\n",
       "    .dataframe thead th {\n",
       "        text-align: right;\n",
       "    }\n",
       "</style>\n",
       "<table border=\"1\" class=\"dataframe\">\n",
       "  <thead>\n",
       "    <tr style=\"text-align: right;\">\n",
       "      <th></th>\n",
       "      <th>array length</th>\n",
       "      <th>sort time [s]</th>\n",
       "    </tr>\n",
       "  </thead>\n",
       "  <tbody>\n",
       "    <tr>\n",
       "      <td>0</td>\n",
       "      <td>1000.0</td>\n",
       "      <td>0.515147</td>\n",
       "    </tr>\n",
       "    <tr>\n",
       "      <td>1</td>\n",
       "      <td>2000.0</td>\n",
       "      <td>2.188433</td>\n",
       "    </tr>\n",
       "    <tr>\n",
       "      <td>2</td>\n",
       "      <td>3000.0</td>\n",
       "      <td>4.545582</td>\n",
       "    </tr>\n",
       "    <tr>\n",
       "      <td>3</td>\n",
       "      <td>4000.0</td>\n",
       "      <td>7.831537</td>\n",
       "    </tr>\n",
       "    <tr>\n",
       "      <td>4</td>\n",
       "      <td>5000.0</td>\n",
       "      <td>11.729605</td>\n",
       "    </tr>\n",
       "    <tr>\n",
       "      <td>5</td>\n",
       "      <td>6000.0</td>\n",
       "      <td>16.721578</td>\n",
       "    </tr>\n",
       "    <tr>\n",
       "      <td>6</td>\n",
       "      <td>7000.0</td>\n",
       "      <td>24.433469</td>\n",
       "    </tr>\n",
       "    <tr>\n",
       "      <td>7</td>\n",
       "      <td>8000.0</td>\n",
       "      <td>30.574318</td>\n",
       "    </tr>\n",
       "    <tr>\n",
       "      <td>8</td>\n",
       "      <td>9000.0</td>\n",
       "      <td>37.172448</td>\n",
       "    </tr>\n",
       "    <tr>\n",
       "      <td>9</td>\n",
       "      <td>10000.0</td>\n",
       "      <td>44.666334</td>\n",
       "    </tr>\n",
       "  </tbody>\n",
       "</table>\n",
       "</div>"
      ],
      "text/plain": [
       "   array length  sort time [s]\n",
       "0        1000.0       0.515147\n",
       "1        2000.0       2.188433\n",
       "2        3000.0       4.545582\n",
       "3        4000.0       7.831537\n",
       "4        5000.0      11.729605\n",
       "5        6000.0      16.721578\n",
       "6        7000.0      24.433469\n",
       "7        8000.0      30.574318\n",
       "8        9000.0      37.172448\n",
       "9       10000.0      44.666334"
      ]
     },
     "execution_count": 15,
     "metadata": {},
     "output_type": "execute_result"
    }
   ],
   "source": [
    "n_list = []\n",
    "t_list = []\n",
    "for n in [1000*i for i in range(1, 10+1)]:\n",
    "    arr = np.array([random.random() for i in range(n)])\n",
    "    start = time.time()\n",
    "    shaker_sort(arr)\n",
    "    end = time.time()\n",
    "    n_list.append(n)\n",
    "    t_list.append(round(end-start, 6))\n",
    "\n",
    "pd.DataFrame(data=np.array([n_list, t_list]).T, columns=['array length', 'sort time [s]'])"
   ]
  },
  {
   "cell_type": "code",
   "execution_count": 16,
   "metadata": {},
   "outputs": [
    {
     "data": {
      "image/png": "[encoded data removed]",
      "text/plain": [
       "<Figure size 432x288 with 1 Axes>"
      ]
     },
     "metadata": {
      "needs_background": "light"
     },
     "output_type": "display_data"
    },
    {
     "data": {
      "text/html": [
       "<div>\n",
       "<style scoped>\n",
       "    .dataframe tbody tr th:only-of-type {\n",
       "        vertical-align: middle;\n",
       "    }\n",
       "\n",
       "    .dataframe tbody tr th {\n",
       "        vertical-align: top;\n",
       "    }\n",
       "\n",
       "    .dataframe thead th {\n",
       "        text-align: right;\n",
       "    }\n",
       "</style>\n",
       "<table border=\"1\" class=\"dataframe\">\n",
       "  <thead>\n",
       "    <tr style=\"text-align: right;\">\n",
       "      <th></th>\n",
       "      <th>a</th>\n",
       "    </tr>\n",
       "  </thead>\n",
       "  <tbody>\n",
       "    <tr>\n",
       "      <td>0</td>\n",
       "      <td>3.942841e-07</td>\n",
       "    </tr>\n",
       "    <tr>\n",
       "      <td>1</td>\n",
       "      <td>6.761494e-04</td>\n",
       "    </tr>\n",
       "    <tr>\n",
       "      <td>2</td>\n",
       "      <td>-8.609134e-01</td>\n",
       "    </tr>\n",
       "  </tbody>\n",
       "</table>\n",
       "</div>"
      ],
      "text/plain": [
       "              a\n",
       "0  3.942841e-07\n",
       "1  6.761494e-04\n",
       "2 -8.609134e-01"
      ]
     },
     "execution_count": 16,
     "metadata": {},
     "output_type": "execute_result"
    }
   ],
   "source": [
    "from scipy.optimize import curve_fit\n",
    "def func_fit(x, a, b, c):\n",
    "    return (a * x + b) * x + c\n",
    "\n",
    "param, cov = curve_fit(func_fit, n_list, t_list)\n",
    "x = np.array([i*100 for i in range(int(max(n_list)/100)+10)])\n",
    "y = func_fit(x, param[0], param[1], param[2])\n",
    "\n",
    "plt.title('Shaker Sort')\n",
    "plt.xlabel('array length')\n",
    "plt.ylabel('sort time [s]')\n",
    "plt.plot(x, y, label='$y = ({})x^2 + {}x + {}$'.format(round(param[0], 7), round(param[1], 6), round(param[2], 6)))\n",
    "plt.scatter(n_list, t_list)\n",
    "plt.grid()\n",
    "plt.legend()\n",
    "plt.show()\n",
    "\n",
    "pd.DataFrame(data=param, columns=['a'])"
   ]
  },
  {
   "cell_type": "code",
   "execution_count": null,
   "metadata": {},
   "outputs": [],
   "source": []
  }
 ],
 "metadata": {
  "kernelspec": {
   "display_name": "Python 3",
   "language": "python",
   "name": "python3"
  },
  "language_info": {
   "codemirror_mode": {
    "name": "ipython",
    "version": 3
   },
   "file_extension": ".py",
   "mimetype": "text/x-python",
   "name": "python",
   "nbconvert_exporter": "python",
   "pygments_lexer": "ipython3",
   "version": "3.7.4"
  }
 },
 "nbformat": 4,
 "nbformat_minor": 2
}
