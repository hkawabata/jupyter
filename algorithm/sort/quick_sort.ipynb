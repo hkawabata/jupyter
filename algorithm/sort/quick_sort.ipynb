{
 "cells": [
  {
   "cell_type": "markdown",
   "metadata": {},
   "source": [
    "# クイックソート"
   ]
  },
  {
   "cell_type": "code",
   "execution_count": 144,
   "metadata": {},
   "outputs": [],
   "source": [
    "# display graph on notebook\n",
    "%matplotlib inline\n",
    "import matplotlib.pyplot as plt\n",
    "import math\n",
    "import numpy as np\n",
    "import pandas as pd\n",
    "import random\n",
    "import time"
   ]
  },
  {
   "cell_type": "code",
   "execution_count": 138,
   "metadata": {
    "scrolled": false
   },
   "outputs": [],
   "source": [
    "def quick_sort(array):\n",
    "    N = len(array)\n",
    "    if N > 2:\n",
    "        base = array[0]\n",
    "        i = 1\n",
    "        j = len(array)-1\n",
    "        while i < j:\n",
    "            while i < N and array[i] <= base:\n",
    "                i += 1\n",
    "            while 0 < j and base <= array[j]:\n",
    "                j -= 1\n",
    "            if i >= j:\n",
    "                break\n",
    "            buff = array[i]\n",
    "            array[i] = array[j]\n",
    "            array[j] = buff\n",
    "        buff = array[j]\n",
    "        array[j] = array[0]\n",
    "        array[0] = buff\n",
    "        left = quick_sort(array[:j])\n",
    "        right = quick_sort(array[j+1:])\n",
    "        return left + [array[j]] + right        \n",
    "    elif N == 2:\n",
    "        if array[0] < array[1]:\n",
    "            return array\n",
    "        else:\n",
    "            return array[::-1]\n",
    "    else:\n",
    "        return array"
   ]
  },
  {
   "cell_type": "code",
   "execution_count": 139,
   "metadata": {},
   "outputs": [
    {
     "data": {
      "text/plain": [
       "[0, 2, 4, 4, 6, 6, 7, 8, 8, 8, 9, 14, 14, 14, 15, 17, 17, 18, 18, 20]"
      ]
     },
     "execution_count": 139,
     "metadata": {},
     "output_type": "execute_result"
    }
   ],
   "source": [
    "arr=[random.randint(0, 20) for i in range(20)]\n",
    "quick_sort(arr)"
   ]
  },
  {
   "cell_type": "code",
   "execution_count": 142,
   "metadata": {},
   "outputs": [
    {
     "data": {
      "text/html": [
       "<div>\n",
       "<style scoped>\n",
       "    .dataframe tbody tr th:only-of-type {\n",
       "        vertical-align: middle;\n",
       "    }\n",
       "\n",
       "    .dataframe tbody tr th {\n",
       "        vertical-align: top;\n",
       "    }\n",
       "\n",
       "    .dataframe thead th {\n",
       "        text-align: right;\n",
       "    }\n",
       "</style>\n",
       "<table border=\"1\" class=\"dataframe\">\n",
       "  <thead>\n",
       "    <tr style=\"text-align: right;\">\n",
       "      <th></th>\n",
       "      <th>array length</th>\n",
       "      <th>sort time [s]</th>\n",
       "      <th>sorted (before)</th>\n",
       "      <th>sorted (after)</th>\n",
       "    </tr>\n",
       "  </thead>\n",
       "  <tbody>\n",
       "    <tr>\n",
       "      <td>0</td>\n",
       "      <td>128.0</td>\n",
       "      <td>0.000483</td>\n",
       "      <td>0.0</td>\n",
       "      <td>1.0</td>\n",
       "    </tr>\n",
       "    <tr>\n",
       "      <td>1</td>\n",
       "      <td>256.0</td>\n",
       "      <td>0.001060</td>\n",
       "      <td>0.0</td>\n",
       "      <td>1.0</td>\n",
       "    </tr>\n",
       "    <tr>\n",
       "      <td>2</td>\n",
       "      <td>512.0</td>\n",
       "      <td>0.002130</td>\n",
       "      <td>0.0</td>\n",
       "      <td>1.0</td>\n",
       "    </tr>\n",
       "    <tr>\n",
       "      <td>3</td>\n",
       "      <td>1024.0</td>\n",
       "      <td>0.004896</td>\n",
       "      <td>0.0</td>\n",
       "      <td>1.0</td>\n",
       "    </tr>\n",
       "    <tr>\n",
       "      <td>4</td>\n",
       "      <td>2048.0</td>\n",
       "      <td>0.011306</td>\n",
       "      <td>0.0</td>\n",
       "      <td>1.0</td>\n",
       "    </tr>\n",
       "    <tr>\n",
       "      <td>5</td>\n",
       "      <td>4096.0</td>\n",
       "      <td>0.024565</td>\n",
       "      <td>0.0</td>\n",
       "      <td>1.0</td>\n",
       "    </tr>\n",
       "    <tr>\n",
       "      <td>6</td>\n",
       "      <td>8192.0</td>\n",
       "      <td>0.061932</td>\n",
       "      <td>0.0</td>\n",
       "      <td>1.0</td>\n",
       "    </tr>\n",
       "    <tr>\n",
       "      <td>7</td>\n",
       "      <td>16384.0</td>\n",
       "      <td>0.113676</td>\n",
       "      <td>0.0</td>\n",
       "      <td>1.0</td>\n",
       "    </tr>\n",
       "    <tr>\n",
       "      <td>8</td>\n",
       "      <td>32768.0</td>\n",
       "      <td>0.255461</td>\n",
       "      <td>0.0</td>\n",
       "      <td>1.0</td>\n",
       "    </tr>\n",
       "    <tr>\n",
       "      <td>9</td>\n",
       "      <td>65536.0</td>\n",
       "      <td>0.483097</td>\n",
       "      <td>0.0</td>\n",
       "      <td>1.0</td>\n",
       "    </tr>\n",
       "    <tr>\n",
       "      <td>10</td>\n",
       "      <td>131072.0</td>\n",
       "      <td>1.116507</td>\n",
       "      <td>0.0</td>\n",
       "      <td>1.0</td>\n",
       "    </tr>\n",
       "    <tr>\n",
       "      <td>11</td>\n",
       "      <td>262144.0</td>\n",
       "      <td>2.458529</td>\n",
       "      <td>0.0</td>\n",
       "      <td>1.0</td>\n",
       "    </tr>\n",
       "    <tr>\n",
       "      <td>12</td>\n",
       "      <td>524288.0</td>\n",
       "      <td>5.606985</td>\n",
       "      <td>0.0</td>\n",
       "      <td>1.0</td>\n",
       "    </tr>\n",
       "  </tbody>\n",
       "</table>\n",
       "</div>"
      ],
      "text/plain": [
       "    array length  sort time [s]  sorted (before)  sorted (after)\n",
       "0          128.0       0.000483              0.0             1.0\n",
       "1          256.0       0.001060              0.0             1.0\n",
       "2          512.0       0.002130              0.0             1.0\n",
       "3         1024.0       0.004896              0.0             1.0\n",
       "4         2048.0       0.011306              0.0             1.0\n",
       "5         4096.0       0.024565              0.0             1.0\n",
       "6         8192.0       0.061932              0.0             1.0\n",
       "7        16384.0       0.113676              0.0             1.0\n",
       "8        32768.0       0.255461              0.0             1.0\n",
       "9        65536.0       0.483097              0.0             1.0\n",
       "10      131072.0       1.116507              0.0             1.0\n",
       "11      262144.0       2.458529              0.0             1.0\n",
       "12      524288.0       5.606985              0.0             1.0"
      ]
     },
     "execution_count": 142,
     "metadata": {},
     "output_type": "execute_result"
    }
   ],
   "source": [
    "n_list = []\n",
    "t_list = []\n",
    "sorted_before = []\n",
    "sorted_after = []\n",
    "for n in [int(math.pow(2, i)) for i in range(7, 19+1)]:\n",
    "    arr = [random.random() for i in range(n)]\n",
    "    \n",
    "    b = True\n",
    "    for i in range(len(arr)-1):\n",
    "        b = b and arr[i] < arr[i+1]\n",
    "    sorted_before.append(b)\n",
    "    \n",
    "    start = time.time()\n",
    "    arr = quick_sort(arr)\n",
    "    end = time.time()\n",
    "    n_list.append(n)\n",
    "    t_list.append(round(end-start, 6))\n",
    "    \n",
    "    b = True\n",
    "    for i in range(len(arr)-1):\n",
    "        b = b and arr[i] < arr[i+1]\n",
    "    sorted_after.append(b)\n",
    "\n",
    "pd.DataFrame(data=np.array([n_list, t_list, sorted_before, sorted_after]).T, columns=['array length', 'sort time [s]', 'sorted (before)', 'sorted (after)'])"
   ]
  },
  {
   "cell_type": "code",
   "execution_count": 145,
   "metadata": {},
   "outputs": [
    {
     "data": {
      "image/png": "[encoded data removed]",
      "text/plain": [
       "<Figure size 432x288 with 1 Axes>"
      ]
     },
     "metadata": {
      "needs_background": "light"
     },
     "output_type": "display_data"
    },
    {
     "data": {
      "text/html": [
       "<div>\n",
       "<style scoped>\n",
       "    .dataframe tbody tr th:only-of-type {\n",
       "        vertical-align: middle;\n",
       "    }\n",
       "\n",
       "    .dataframe tbody tr th {\n",
       "        vertical-align: top;\n",
       "    }\n",
       "\n",
       "    .dataframe thead th {\n",
       "        text-align: right;\n",
       "    }\n",
       "</style>\n",
       "<table border=\"1\" class=\"dataframe\">\n",
       "  <thead>\n",
       "    <tr style=\"text-align: right;\">\n",
       "      <th></th>\n",
       "      <th>a</th>\n",
       "    </tr>\n",
       "  </thead>\n",
       "  <tbody>\n",
       "    <tr>\n",
       "      <td>0</td>\n",
       "      <td>8.025157e-07</td>\n",
       "    </tr>\n",
       "    <tr>\n",
       "      <td>1</td>\n",
       "      <td>-2.754619e-02</td>\n",
       "    </tr>\n",
       "  </tbody>\n",
       "</table>\n",
       "</div>"
      ],
      "text/plain": [
       "              a\n",
       "0  8.025157e-07\n",
       "1 -2.754619e-02"
      ]
     },
     "execution_count": 145,
     "metadata": {},
     "output_type": "execute_result"
    }
   ],
   "source": [
    "from scipy.optimize import curve_fit\n",
    "def func_fit(x, a, b):\n",
    "    return a * x * np.log(x) + b\n",
    "\n",
    "param, cov = curve_fit(func_fit, n_list, t_list)\n",
    "x = np.array([i*100 for i in range(1, int(max(n_list)/100)+10)])\n",
    "y = func_fit(x, param[0], param[1])\n",
    "\n",
    "plt.title('Quick Sort')\n",
    "plt.xlabel('array length')\n",
    "plt.ylabel('sort time [s]')\n",
    "plt.plot(x, y, label='$y = ({})x \\log{{x}} + {}$'.format(round(param[0], 7), round(param[1], 6)))\n",
    "plt.scatter(n_list, t_list)\n",
    "plt.grid()\n",
    "plt.xscale('log')\n",
    "plt.legend()\n",
    "plt.show()\n",
    "\n",
    "pd.DataFrame(data=param, columns=['a'])"
   ]
  },
  {
   "cell_type": "code",
   "execution_count": null,
   "metadata": {},
   "outputs": [],
   "source": []
  }
 ],
 "metadata": {
  "kernelspec": {
   "display_name": "Python 3",
   "language": "python",
   "name": "python3"
  },
  "language_info": {
   "codemirror_mode": {
    "name": "ipython",
    "version": 3
   },
   "file_extension": ".py",
   "mimetype": "text/x-python",
   "name": "python",
   "nbconvert_exporter": "python",
   "pygments_lexer": "ipython3",
   "version": "3.7.4"
  }
 },
 "nbformat": 4,
 "nbformat_minor": 2
}
