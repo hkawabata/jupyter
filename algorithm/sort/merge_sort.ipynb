{
 "cells": [
  {
   "cell_type": "markdown",
   "metadata": {},
   "source": [
    "# マージソート"
   ]
  },
  {
   "cell_type": "code",
   "execution_count": 1,
   "metadata": {},
   "outputs": [],
   "source": [
    "# display graph on notebook\n",
    "%matplotlib inline\n",
    "import matplotlib.pyplot as plt\n",
    "import numpy as np\n",
    "import pandas as pd\n",
    "import math\n",
    "import time\n",
    "import random"
   ]
  },
  {
   "cell_type": "code",
   "execution_count": 8,
   "metadata": {},
   "outputs": [],
   "source": [
    "def merge_sort(array):\n",
    "    N = len(array)\n",
    "    if N > 2:\n",
    "        left = merge_sort(array[:int(N/2)])\n",
    "        right = merge_sort(array[int(N/2):])\n",
    "        n_left = len(left)\n",
    "        n_right = len(right)\n",
    "        i_left = 0\n",
    "        i_right = 0\n",
    "        result = []\n",
    "        while i_left < n_left and i_right < n_right:\n",
    "            if left[i_left] <= right[i_right]:\n",
    "                result.append(left[i_left])\n",
    "                i_left += 1\n",
    "            else:\n",
    "                result.append(right[i_right])\n",
    "                i_right += 1\n",
    "        if i_left < n_left:\n",
    "            result.extend(left[i_left:])\n",
    "        if i_right < n_right:\n",
    "            result.extend(right[i_right:])\n",
    "        return np.array(result)\n",
    "    elif N == 2:\n",
    "        if array[0] <= array[1]:\n",
    "            return array\n",
    "        else:\n",
    "            return array[::-1]\n",
    "    else:\n",
    "        return array"
   ]
  },
  {
   "cell_type": "code",
   "execution_count": 26,
   "metadata": {},
   "outputs": [
    {
     "data": {
      "text/plain": [
       "array([ 1,  4,  7,  8,  9, 12, 19, 21, 22, 23, 45, 45, 47, 51, 52, 55, 58,\n",
       "       60, 63, 67, 72, 78, 79, 82, 84, 85, 87, 88, 90, 96])"
      ]
     },
     "execution_count": 26,
     "metadata": {},
     "output_type": "execute_result"
    }
   ],
   "source": [
    "arr = np.array([random.randint(0, 100) for i in range(30)])\n",
    "merge_sort(arr)"
   ]
  },
  {
   "cell_type": "code",
   "execution_count": 35,
   "metadata": {},
   "outputs": [
    {
     "data": {
      "text/html": [
       "<div>\n",
       "<style scoped>\n",
       "    .dataframe tbody tr th:only-of-type {\n",
       "        vertical-align: middle;\n",
       "    }\n",
       "\n",
       "    .dataframe tbody tr th {\n",
       "        vertical-align: top;\n",
       "    }\n",
       "\n",
       "    .dataframe thead th {\n",
       "        text-align: right;\n",
       "    }\n",
       "</style>\n",
       "<table border=\"1\" class=\"dataframe\">\n",
       "  <thead>\n",
       "    <tr style=\"text-align: right;\">\n",
       "      <th></th>\n",
       "      <th>array length</th>\n",
       "      <th>sort time [s]</th>\n",
       "      <th>sorted (before)</th>\n",
       "      <th>sorted (after)</th>\n",
       "    </tr>\n",
       "  </thead>\n",
       "  <tbody>\n",
       "    <tr>\n",
       "      <td>0</td>\n",
       "      <td>128.0</td>\n",
       "      <td>0.001564</td>\n",
       "      <td>0.0</td>\n",
       "      <td>1.0</td>\n",
       "    </tr>\n",
       "    <tr>\n",
       "      <td>1</td>\n",
       "      <td>256.0</td>\n",
       "      <td>0.003693</td>\n",
       "      <td>0.0</td>\n",
       "      <td>1.0</td>\n",
       "    </tr>\n",
       "    <tr>\n",
       "      <td>2</td>\n",
       "      <td>512.0</td>\n",
       "      <td>0.007493</td>\n",
       "      <td>0.0</td>\n",
       "      <td>1.0</td>\n",
       "    </tr>\n",
       "    <tr>\n",
       "      <td>3</td>\n",
       "      <td>1024.0</td>\n",
       "      <td>0.016567</td>\n",
       "      <td>0.0</td>\n",
       "      <td>1.0</td>\n",
       "    </tr>\n",
       "    <tr>\n",
       "      <td>4</td>\n",
       "      <td>2048.0</td>\n",
       "      <td>0.038283</td>\n",
       "      <td>0.0</td>\n",
       "      <td>1.0</td>\n",
       "    </tr>\n",
       "    <tr>\n",
       "      <td>5</td>\n",
       "      <td>4096.0</td>\n",
       "      <td>0.079729</td>\n",
       "      <td>0.0</td>\n",
       "      <td>1.0</td>\n",
       "    </tr>\n",
       "    <tr>\n",
       "      <td>6</td>\n",
       "      <td>8192.0</td>\n",
       "      <td>0.175226</td>\n",
       "      <td>0.0</td>\n",
       "      <td>1.0</td>\n",
       "    </tr>\n",
       "    <tr>\n",
       "      <td>7</td>\n",
       "      <td>16384.0</td>\n",
       "      <td>0.368275</td>\n",
       "      <td>0.0</td>\n",
       "      <td>1.0</td>\n",
       "    </tr>\n",
       "    <tr>\n",
       "      <td>8</td>\n",
       "      <td>32768.0</td>\n",
       "      <td>0.678400</td>\n",
       "      <td>0.0</td>\n",
       "      <td>1.0</td>\n",
       "    </tr>\n",
       "    <tr>\n",
       "      <td>9</td>\n",
       "      <td>65536.0</td>\n",
       "      <td>1.595578</td>\n",
       "      <td>0.0</td>\n",
       "      <td>1.0</td>\n",
       "    </tr>\n",
       "    <tr>\n",
       "      <td>10</td>\n",
       "      <td>131072.0</td>\n",
       "      <td>3.035378</td>\n",
       "      <td>0.0</td>\n",
       "      <td>1.0</td>\n",
       "    </tr>\n",
       "    <tr>\n",
       "      <td>11</td>\n",
       "      <td>262144.0</td>\n",
       "      <td>6.393403</td>\n",
       "      <td>0.0</td>\n",
       "      <td>1.0</td>\n",
       "    </tr>\n",
       "    <tr>\n",
       "      <td>12</td>\n",
       "      <td>524288.0</td>\n",
       "      <td>13.376408</td>\n",
       "      <td>0.0</td>\n",
       "      <td>1.0</td>\n",
       "    </tr>\n",
       "  </tbody>\n",
       "</table>\n",
       "</div>"
      ],
      "text/plain": [
       "    array length  sort time [s]  sorted (before)  sorted (after)\n",
       "0          128.0       0.001564              0.0             1.0\n",
       "1          256.0       0.003693              0.0             1.0\n",
       "2          512.0       0.007493              0.0             1.0\n",
       "3         1024.0       0.016567              0.0             1.0\n",
       "4         2048.0       0.038283              0.0             1.0\n",
       "5         4096.0       0.079729              0.0             1.0\n",
       "6         8192.0       0.175226              0.0             1.0\n",
       "7        16384.0       0.368275              0.0             1.0\n",
       "8        32768.0       0.678400              0.0             1.0\n",
       "9        65536.0       1.595578              0.0             1.0\n",
       "10      131072.0       3.035378              0.0             1.0\n",
       "11      262144.0       6.393403              0.0             1.0\n",
       "12      524288.0      13.376408              0.0             1.0"
      ]
     },
     "execution_count": 35,
     "metadata": {},
     "output_type": "execute_result"
    }
   ],
   "source": [
    "n_list = []\n",
    "t_list = []\n",
    "sorted_before = []\n",
    "sorted_after = []\n",
    "for n in [int(math.pow(2, i)) for i in range(7, 19+1)]:\n",
    "    arr = np.array([random.random() for i in range(n)])\n",
    "    \n",
    "    b = True\n",
    "    for i in range(len(arr)-1):\n",
    "        b = b and arr[i] < arr[i+1]\n",
    "    sorted_before.append(b)\n",
    "    \n",
    "    start = time.time()\n",
    "    arr = merge_sort(arr)\n",
    "    end = time.time()\n",
    "    n_list.append(n)\n",
    "    t_list.append(round(end-start, 6))\n",
    "    \n",
    "    b = True\n",
    "    for i in range(len(arr)-1):\n",
    "        b = b and arr[i] < arr[i+1]\n",
    "    sorted_after.append(b)\n",
    "\n",
    "pd.DataFrame(data=np.array([n_list, t_list, sorted_before, sorted_after]).T, columns=['array length', 'sort time [s]', 'sorted (before)', 'sorted (after)'])"
   ]
  },
  {
   "cell_type": "code",
   "execution_count": 37,
   "metadata": {},
   "outputs": [
    {
     "data": {
      "image/png": "[encoded data removed]",
      "text/plain": [
       "<Figure size 432x288 with 1 Axes>"
      ]
     },
     "metadata": {
      "needs_background": "light"
     },
     "output_type": "display_data"
    },
    {
     "data": {
      "text/html": [
       "<div>\n",
       "<style scoped>\n",
       "    .dataframe tbody tr th:only-of-type {\n",
       "        vertical-align: middle;\n",
       "    }\n",
       "\n",
       "    .dataframe tbody tr th {\n",
       "        vertical-align: top;\n",
       "    }\n",
       "\n",
       "    .dataframe thead th {\n",
       "        text-align: right;\n",
       "    }\n",
       "</style>\n",
       "<table border=\"1\" class=\"dataframe\">\n",
       "  <thead>\n",
       "    <tr style=\"text-align: right;\">\n",
       "      <th></th>\n",
       "      <th>a</th>\n",
       "    </tr>\n",
       "  </thead>\n",
       "  <tbody>\n",
       "    <tr>\n",
       "      <td>0</td>\n",
       "      <td>0.000002</td>\n",
       "    </tr>\n",
       "    <tr>\n",
       "      <td>1</td>\n",
       "      <td>0.033186</td>\n",
       "    </tr>\n",
       "  </tbody>\n",
       "</table>\n",
       "</div>"
      ],
      "text/plain": [
       "          a\n",
       "0  0.000002\n",
       "1  0.033186"
      ]
     },
     "execution_count": 37,
     "metadata": {},
     "output_type": "execute_result"
    }
   ],
   "source": [
    "from scipy.optimize import curve_fit\n",
    "def func_fit(x, a, b):\n",
    "    return a * x * np.log(x) + b\n",
    "\n",
    "param, cov = curve_fit(func_fit, n_list, t_list)\n",
    "x = np.array([i*100 for i in range(1, int(max(n_list)/100)+10)])\n",
    "y = func_fit(x, param[0], param[1])\n",
    "\n",
    "plt.title('Merge Sort')\n",
    "plt.xlabel('array length')\n",
    "plt.ylabel('sort time [s]')\n",
    "plt.plot(x, y, label='$y = ({})x \\log{{x}} + {}$'.format(round(param[0], 7), round(param[1], 6)))\n",
    "plt.scatter(n_list, t_list)\n",
    "plt.grid()\n",
    "plt.xscale('log')\n",
    "plt.legend()\n",
    "plt.show()\n",
    "\n",
    "pd.DataFrame(data=param, columns=['a'])"
   ]
  },
  {
   "cell_type": "code",
   "execution_count": null,
   "metadata": {},
   "outputs": [],
   "source": []
  }
 ],
 "metadata": {
  "kernelspec": {
   "display_name": "Python 3",
   "language": "python",
   "name": "python3"
  },
  "language_info": {
   "codemirror_mode": {
    "name": "ipython",
    "version": 3
   },
   "file_extension": ".py",
   "mimetype": "text/x-python",
   "name": "python",
   "nbconvert_exporter": "python",
   "pygments_lexer": "ipython3",
   "version": "3.7.4"
  }
 },
 "nbformat": 4,
 "nbformat_minor": 2
}
