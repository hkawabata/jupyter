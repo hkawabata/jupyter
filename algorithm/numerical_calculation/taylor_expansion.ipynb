{
 "cells": [
  {
   "cell_type": "markdown",
   "metadata": {},
   "source": [
    "# テイラー展開"
   ]
  },
  {
   "cell_type": "code",
   "execution_count": null,
   "metadata": {},
   "outputs": [],
   "source": [
    "# display graph on notebook\n",
    "%matplotlib inline\n",
    "import matplotlib.pyplot as plt\n",
    "import numpy as np\n",
    "import pandas as pd\n",
    "import math"
   ]
  },
  {
   "cell_type": "code",
   "execution_count": 31,
   "metadata": {},
   "outputs": [
    {
     "data": {
      "text/html": [
       "<div>\n",
       "<style scoped>\n",
       "    .dataframe tbody tr th:only-of-type {\n",
       "        vertical-align: middle;\n",
       "    }\n",
       "\n",
       "    .dataframe tbody tr th {\n",
       "        vertical-align: top;\n",
       "    }\n",
       "\n",
       "    .dataframe thead th {\n",
       "        text-align: right;\n",
       "    }\n",
       "</style>\n",
       "<table border=\"1\" class=\"dataframe\">\n",
       "  <thead>\n",
       "    <tr style=\"text-align: right;\">\n",
       "      <th></th>\n",
       "      <th>x</th>\n",
       "      <th>exp(x)</th>\n",
       "      <th>myexp(x)</th>\n",
       "      <th>try_num</th>\n",
       "    </tr>\n",
       "  </thead>\n",
       "  <tbody>\n",
       "    <tr>\n",
       "      <td>0</td>\n",
       "      <td>10</td>\n",
       "      <td>2.202647e+04</td>\n",
       "      <td>2.202647e+04</td>\n",
       "      <td>34</td>\n",
       "    </tr>\n",
       "    <tr>\n",
       "      <td>1</td>\n",
       "      <td>20</td>\n",
       "      <td>4.851652e+08</td>\n",
       "      <td>4.851652e+08</td>\n",
       "      <td>51</td>\n",
       "    </tr>\n",
       "    <tr>\n",
       "      <td>2</td>\n",
       "      <td>30</td>\n",
       "      <td>1.068647e+13</td>\n",
       "      <td>1.068647e+13</td>\n",
       "      <td>67</td>\n",
       "    </tr>\n",
       "    <tr>\n",
       "      <td>3</td>\n",
       "      <td>40</td>\n",
       "      <td>2.353853e+17</td>\n",
       "      <td>2.353853e+17</td>\n",
       "      <td>81</td>\n",
       "    </tr>\n",
       "    <tr>\n",
       "      <td>4</td>\n",
       "      <td>50</td>\n",
       "      <td>5.184706e+21</td>\n",
       "      <td>5.184705e+21</td>\n",
       "      <td>95</td>\n",
       "    </tr>\n",
       "    <tr>\n",
       "      <td>5</td>\n",
       "      <td>60</td>\n",
       "      <td>1.142007e+26</td>\n",
       "      <td>1.142007e+26</td>\n",
       "      <td>109</td>\n",
       "    </tr>\n",
       "    <tr>\n",
       "      <td>6</td>\n",
       "      <td>70</td>\n",
       "      <td>2.515439e+30</td>\n",
       "      <td>2.515439e+30</td>\n",
       "      <td>122</td>\n",
       "    </tr>\n",
       "    <tr>\n",
       "      <td>7</td>\n",
       "      <td>80</td>\n",
       "      <td>5.540622e+34</td>\n",
       "      <td>5.540622e+34</td>\n",
       "      <td>135</td>\n",
       "    </tr>\n",
       "  </tbody>\n",
       "</table>\n",
       "</div>"
      ],
      "text/plain": [
       "    x        exp(x)      myexp(x)  try_num\n",
       "0  10  2.202647e+04  2.202647e+04       34\n",
       "1  20  4.851652e+08  4.851652e+08       51\n",
       "2  30  1.068647e+13  1.068647e+13       67\n",
       "3  40  2.353853e+17  2.353853e+17       81\n",
       "4  50  5.184706e+21  5.184705e+21       95\n",
       "5  60  1.142007e+26  1.142007e+26      109\n",
       "6  70  2.515439e+30  2.515439e+30      122\n",
       "7  80  5.540622e+34  5.540622e+34      135"
      ]
     },
     "execution_count": 31,
     "metadata": {},
     "output_type": "execute_result"
    }
   ],
   "source": [
    "def exp_0_tailor_expansion(x, eps, max_try_time):\n",
    "    result = 0\n",
    "    factorial = 1   # 階乗の値\n",
    "    diff = 1.0\n",
    "    i = 0\n",
    "    while eps * result < diff and i < max_try_time:\n",
    "        diff = math.pow(x, i) / factorial\n",
    "        result = result + diff\n",
    "        i += 1\n",
    "        factorial *= i\n",
    "    return result, i\n",
    "\n",
    "eps = 1e-8\n",
    "max_try_time = 1000\n",
    "x_list = [10, 20, 30, 40, 50, 60, 70, 80]\n",
    "data = []\n",
    "for x in x_list:\n",
    "    myexp, try_num = exp_0_tailor_expansion(x, eps, max_try_time)\n",
    "    data.append([x, math.exp(x), myexp, try_num])\n",
    "\n",
    "pd.DataFrame(data=data, columns=['x', 'exp(x)', 'myexp(x)', 'try_num'])"
   ]
  },
  {
   "cell_type": "code",
   "execution_count": null,
   "metadata": {},
   "outputs": [],
   "source": []
  }
 ],
 "metadata": {
  "kernelspec": {
   "display_name": "Python 3",
   "language": "python",
   "name": "python3"
  },
  "language_info": {
   "codemirror_mode": {
    "name": "ipython",
    "version": 3
   },
   "file_extension": ".py",
   "mimetype": "text/x-python",
   "name": "python",
   "nbconvert_exporter": "python",
   "pygments_lexer": "ipython3",
   "version": "3.7.4"
  }
 },
 "nbformat": 4,
 "nbformat_minor": 2
}
