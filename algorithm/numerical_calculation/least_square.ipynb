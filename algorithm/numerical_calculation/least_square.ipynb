{
 "cells": [
  {
   "cell_type": "markdown",
   "metadata": {},
   "source": [
    "# 最小二乗法"
   ]
  },
  {
   "cell_type": "code",
   "execution_count": 45,
   "metadata": {},
   "outputs": [],
   "source": [
    "# display graph on notebook\n",
    "%matplotlib inline\n",
    "import matplotlib.pyplot as plt\n",
    "import numpy as np\n",
    "import pandas as pd\n",
    "import math"
   ]
  },
  {
   "cell_type": "code",
   "execution_count": 5,
   "metadata": {},
   "outputs": [],
   "source": [
    "# 連立方程式を解く関数\n",
    "# simultaneous_equation.ipynb を参照\n",
    "def gauss_jordan_pivot_select(coefficient_matrix):\n",
    "    d = coefficient_matrix.shape[0]\n",
    "    w = coefficient_matrix.copy()\n",
    "    for i in range(d):\n",
    "        for j in range(i, d):\n",
    "            if math.fabs(w[i][i]) < math.fabs(w[j][i]):\n",
    "                tmp = w[i].copy()\n",
    "                w[i] = w[j].copy()\n",
    "                w[j] = tmp.copy()\n",
    "        for j in range(d):\n",
    "            if i != j:\n",
    "                r = w[j][i] / w[i][i]\n",
    "                w[j] = w[j] - w[i] * r\n",
    "    for i in range(d):\n",
    "        w[i] = w[i] / w[i][i]\n",
    "    return w[:,-1]"
   ]
  },
  {
   "cell_type": "code",
   "execution_count": 25,
   "metadata": {},
   "outputs": [],
   "source": [
    "def least_square(data, M, draw_graph=False):\n",
    "    \"\"\"\n",
    "    dataの点を通るM次関数を求める\n",
    "    \"\"\"\n",
    "    N = len(data)\n",
    "    x = data[:,0]\n",
    "    y = data[:,1]\n",
    "    s = []\n",
    "    for i in range(2*M+1):\n",
    "        s_i = 0\n",
    "        for j in range(N):\n",
    "            s_i += math.pow(x[j], i)\n",
    "        s.append(s_i)\n",
    "    t = []\n",
    "    for i in range(M+1):\n",
    "        t_i = 0\n",
    "        for j in range(N):\n",
    "            t_i += y[j] * math.pow(x[j], i)\n",
    "        t.append(t_i)\n",
    "    t = np.reshape(t, (M+1, 1))\n",
    "    c = []\n",
    "    for row in range(M+1):\n",
    "        for col in range(M+1):\n",
    "            c.append(s[row+col])\n",
    "    c = np.reshape(c, (M+1, M+1))\n",
    "    matrix = np.concatenate((c, t), axis=1)\n",
    "    result = gauss_jordan_pivot_select(matrix)\n",
    "    if draw_graph:\n",
    "        plt.scatter(x, y)\n",
    "        x_min = min(x)\n",
    "        x_max = max(x)\n",
    "        w = x_max - x_min\n",
    "        x_graph = np.arange(x_min-w*0.1, x_max+w*0.1, (x_max-x_min)/100.)\n",
    "        def f(_x):\n",
    "            _y = result[-1]\n",
    "            for a in reversed(result[:-1]):\n",
    "                _y = _y * _x + a\n",
    "            return _y\n",
    "        y_graph = f(x_graph)\n",
    "        plt.plot(x_graph, y_graph)\n",
    "    return result\n",
    "\n",
    "    #coefficient = data"
   ]
  },
  {
   "cell_type": "code",
   "execution_count": 43,
   "metadata": {},
   "outputs": [
    {
     "data": {
      "text/html": [
       "<div>\n",
       "<style scoped>\n",
       "    .dataframe tbody tr th:only-of-type {\n",
       "        vertical-align: middle;\n",
       "    }\n",
       "\n",
       "    .dataframe tbody tr th {\n",
       "        vertical-align: top;\n",
       "    }\n",
       "\n",
       "    .dataframe thead th {\n",
       "        text-align: right;\n",
       "    }\n",
       "</style>\n",
       "<table border=\"1\" class=\"dataframe\">\n",
       "  <thead>\n",
       "    <tr style=\"text-align: right;\">\n",
       "      <th></th>\n",
       "      <th>x</th>\n",
       "      <th>y</th>\n",
       "    </tr>\n",
       "  </thead>\n",
       "  <tbody>\n",
       "    <tr>\n",
       "      <td>0</td>\n",
       "      <td>-3.0</td>\n",
       "      <td>5.0</td>\n",
       "    </tr>\n",
       "    <tr>\n",
       "      <td>1</td>\n",
       "      <td>-2.0</td>\n",
       "      <td>-2.0</td>\n",
       "    </tr>\n",
       "    <tr>\n",
       "      <td>2</td>\n",
       "      <td>-1.0</td>\n",
       "      <td>-3.0</td>\n",
       "    </tr>\n",
       "    <tr>\n",
       "      <td>3</td>\n",
       "      <td>0.0</td>\n",
       "      <td>-1.0</td>\n",
       "    </tr>\n",
       "    <tr>\n",
       "      <td>4</td>\n",
       "      <td>1.0</td>\n",
       "      <td>1.0</td>\n",
       "    </tr>\n",
       "    <tr>\n",
       "      <td>5</td>\n",
       "      <td>2.0</td>\n",
       "      <td>4.0</td>\n",
       "    </tr>\n",
       "    <tr>\n",
       "      <td>6</td>\n",
       "      <td>3.0</td>\n",
       "      <td>5.0</td>\n",
       "    </tr>\n",
       "    <tr>\n",
       "      <td>7</td>\n",
       "      <td>4.0</td>\n",
       "      <td>2.0</td>\n",
       "    </tr>\n",
       "  </tbody>\n",
       "</table>\n",
       "</div>"
      ],
      "text/plain": [
       "     x    y\n",
       "0 -3.0  5.0\n",
       "1 -2.0 -2.0\n",
       "2 -1.0 -3.0\n",
       "3  0.0 -1.0\n",
       "4  1.0  1.0\n",
       "5  2.0  4.0\n",
       "6  3.0  5.0\n",
       "7  4.0  2.0"
      ]
     },
     "execution_count": 43,
     "metadata": {},
     "output_type": "execute_result"
    }
   ],
   "source": [
    "# 解きたい問題\n",
    "M = 5\n",
    "data = np.array(\n",
    "    [\n",
    "        [-3., 5.],\n",
    "        [-2., -2.],\n",
    "        [-1., -3.],\n",
    "        [0., -1.],\n",
    "        [1., 1.],\n",
    "        [2., 4.],\n",
    "        [3., 5.],\n",
    "        [4., 2.]\n",
    "    ]\n",
    ")\n",
    "pd.DataFrame(data, columns=['x', 'y'])"
   ]
  },
  {
   "cell_type": "code",
   "execution_count": 44,
   "metadata": {},
   "outputs": [
    {
     "data": {
      "text/html": [
       "<div>\n",
       "<style scoped>\n",
       "    .dataframe tbody tr th:only-of-type {\n",
       "        vertical-align: middle;\n",
       "    }\n",
       "\n",
       "    .dataframe tbody tr th {\n",
       "        vertical-align: top;\n",
       "    }\n",
       "\n",
       "    .dataframe thead th {\n",
       "        text-align: right;\n",
       "    }\n",
       "</style>\n",
       "<table border=\"1\" class=\"dataframe\">\n",
       "  <thead>\n",
       "    <tr style=\"text-align: right;\">\n",
       "      <th></th>\n",
       "      <th>a</th>\n",
       "    </tr>\n",
       "  </thead>\n",
       "  <tbody>\n",
       "    <tr>\n",
       "      <td>0</td>\n",
       "      <td>-1.236014</td>\n",
       "    </tr>\n",
       "    <tr>\n",
       "      <td>1</td>\n",
       "      <td>2.240618</td>\n",
       "    </tr>\n",
       "    <tr>\n",
       "      <td>2</td>\n",
       "      <td>0.399330</td>\n",
       "    </tr>\n",
       "    <tr>\n",
       "      <td>3</td>\n",
       "      <td>-0.152535</td>\n",
       "    </tr>\n",
       "    <tr>\n",
       "      <td>4</td>\n",
       "      <td>0.033071</td>\n",
       "    </tr>\n",
       "    <tr>\n",
       "      <td>5</td>\n",
       "      <td>-0.010577</td>\n",
       "    </tr>\n",
       "  </tbody>\n",
       "</table>\n",
       "</div>"
      ],
      "text/plain": [
       "          a\n",
       "0 -1.236014\n",
       "1  2.240618\n",
       "2  0.399330\n",
       "3 -0.152535\n",
       "4  0.033071\n",
       "5 -0.010577"
      ]
     },
     "execution_count": 44,
     "metadata": {},
     "output_type": "execute_result"
    },
    {
     "data": {
      "image/png": "[encoded data removed]",
      "text/plain": [
       "<Figure size 432x288 with 1 Axes>"
      ]
     },
     "metadata": {
      "needs_background": "light"
     },
     "output_type": "display_data"
    }
   ],
   "source": [
    "a = least_square(data, 5, draw_graph=True)\n",
    "pd.DataFrame(data=a, columns=['a'])"
   ]
  },
  {
   "cell_type": "code",
   "execution_count": null,
   "metadata": {},
   "outputs": [],
   "source": []
  }
 ],
 "metadata": {
  "kernelspec": {
   "display_name": "Python 3",
   "language": "python",
   "name": "python3"
  },
  "language_info": {
   "codemirror_mode": {
    "name": "ipython",
    "version": 3
   },
   "file_extension": ".py",
   "mimetype": "text/x-python",
   "name": "python",
   "nbconvert_exporter": "python",
   "pygments_lexer": "ipython3",
   "version": "3.7.4"
  }
 },
 "nbformat": 4,
 "nbformat_minor": 2
}
