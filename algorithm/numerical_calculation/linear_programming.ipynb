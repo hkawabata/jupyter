{
 "cells": [
  {
   "cell_type": "markdown",
   "metadata": {},
   "source": [
    "# 線形計画法\n",
    "\n",
    "- シンプレックス法"
   ]
  },
  {
   "cell_type": "code",
   "execution_count": 40,
   "metadata": {},
   "outputs": [],
   "source": [
    "# display graph on notebook\n",
    "%matplotlib inline\n",
    "import matplotlib.pyplot as plt\n",
    "import numpy as np\n",
    "import pandas as pd\n",
    "import math"
   ]
  },
  {
   "cell_type": "code",
   "execution_count": 104,
   "metadata": {},
   "outputs": [],
   "source": [
    "\"\"\"\n",
    "最大化する目的関数\n",
    "z = 2x1 + 3x2\n",
    "\n",
    "制約条件\n",
    "x1 + 2x2 <= 14\n",
    "x1 + x2 <= 8\n",
    "3x1 + x2 <= 18\n",
    "\n",
    "解\n",
    "x1 = 2\n",
    "x2 = 6\n",
    "z = 22\n",
    "\"\"\"\n",
    "objective = np.array([2., 3.])\n",
    "constraints = np.array(\n",
    "    [\n",
    "        [1., 2., 14],\n",
    "        [1., 1., 8],\n",
    "        [3., 1., 18]\n",
    "    ]\n",
    ")"
   ]
  },
  {
   "cell_type": "code",
   "execution_count": 128,
   "metadata": {},
   "outputs": [
    {
     "name": "stdout",
     "output_type": "stream",
     "text": [
      "[[ 1.  2.  1.  0.  0. 14.]\n",
      " [ 1.  1.  0.  1.  0.  8.]\n",
      " [ 3.  1.  0.  0.  1. 18.]\n",
      " [-2. -3.  0.  0.  0.  0.]]\n",
      "Trial 1:\n",
      "[[ 0.5  1.   0.5  0.   0.   7. ]\n",
      " [ 0.5  0.  -0.5  1.   0.   1. ]\n",
      " [ 2.5  0.  -0.5  0.   1.  11. ]\n",
      " [-0.5  0.   1.5  0.   0.  21. ]]\n",
      "Trial 2:\n",
      "[[ 0.  1.  1. -1.  0.  6.]\n",
      " [ 1.  0. -1.  2.  0.  2.]\n",
      " [ 0.  0.  2. -5.  1.  6.]\n",
      " [ 0.  0.  1.  1.  0. 22.]]\n"
     ]
    },
    {
     "data": {
      "text/plain": [
       "array([[ 0.,  1.,  1., -1.,  0.,  6.],\n",
       "       [ 1.,  0., -1.,  2.,  0.,  2.],\n",
       "       [ 0.,  0.,  2., -5.,  1.,  6.],\n",
       "       [ 0.,  0.,  1.,  1.,  0., 22.]])"
      ]
     },
     "execution_count": 128,
     "metadata": {},
     "output_type": "execute_result"
    }
   ],
   "source": [
    "def simplex_lp(objective, constraints):\n",
    "    \"\"\"\n",
    "    Parameters\n",
    "    ----------\n",
    "    objective : numpy.array\n",
    "        最大化したい目的関数の係数ベクトル (n次元)\n",
    "        c1 x1 + c2 x2 + ... + cn xn\n",
    "\n",
    "    constraints : numpy.array\n",
    "        制約条件の係数行列 (m行n+1列)\n",
    "        a11 x1 + a12 x2 + ... + a1n xn <= b1\n",
    "        ...\n",
    "        am1 x1 + am2 x2 + ... + amn xn <= bm\n",
    "    \"\"\"\n",
    "    # 処理しやすいように整形\n",
    "    m = constraints.shape[0]\n",
    "    n = constraints.shape[1] - 1\n",
    "    a = constraints[:,0:n]\n",
    "    b = constraints[:,-1]\n",
    "    new_constraints = np.concatenate((a, np.identity(m), np.reshape(b, (m, 1))), axis=1)\n",
    "    new_objective = np.concatenate((objective * -1, [0]*(m+1)), axis=0).reshape(1,n+m+1)\n",
    "    matrix = np.concatenate((new_constraints, new_objective), axis=0)\n",
    "    print(matrix)\n",
    "    \n",
    "\n",
    "    # 実行可能解を持つかどうかの判定\n",
    "    if np.any(b < 0):\n",
    "        # 負のbを持つ場合は補助問題を先に解く必要がある\n",
    "        print('ダメ')\n",
    "\n",
    "    \n",
    "    try_num = 0\n",
    "    try_num_max = 100\n",
    "    while try_num < try_num_max:\n",
    "        try_num += 1\n",
    "    \n",
    "        # 変数 x_i を増やせば目的関数が大きくなる係数 c_i を見つける\n",
    "        i_c_min = 0\n",
    "        c_min = matrix[m][i_c_min]\n",
    "        for i in range(n + m):\n",
    "            if matrix[m][i] < c_min:\n",
    "                i_c_min = i\n",
    "                c_min = matrix[m][i_c_min]\n",
    "        if c_min >= 0:\n",
    "            # どの x_i を増やしても目的関数は増大しない状態なので処理終了\n",
    "            break\n",
    "    \n",
    "        # x_i_c_min を増やしていったときに一番早く制約の上限に達するものを見つける\n",
    "        i_fastest_limit = 0\n",
    "        fastest_limit = matrix[i_fastest_limit][-1] / matrix[i_fastest_limit][i_c_min]\n",
    "        for i in range(m):\n",
    "            limit = matrix[i][-1] / matrix[i][i_c_min]\n",
    "            if limit < fastest_limit:\n",
    "                i_fastest_limit = i\n",
    "                fastest_limit = limit\n",
    "    \n",
    "        matrix[i_fastest_limit] /= matrix[i_fastest_limit][i_c_min]\n",
    "        for i in range(m+1):\n",
    "            if i != i_fastest_limit:\n",
    "                matrix[i] -= matrix[i_fastest_limit] * matrix[i][i_c_min]\n",
    "    \n",
    "        print('Trial {}:'.format(try_num))\n",
    "        print(matrix)\n",
    "    return matrix\n",
    "\n",
    "\n",
    "simplex_lp(objective, constraints)"
   ]
  },
  {
   "cell_type": "code",
   "execution_count": null,
   "metadata": {},
   "outputs": [],
   "source": []
  }
 ],
 "metadata": {
  "kernelspec": {
   "display_name": "Python 3",
   "language": "python",
   "name": "python3"
  },
  "language_info": {
   "codemirror_mode": {
    "name": "ipython",
    "version": 3
   },
   "file_extension": ".py",
   "mimetype": "text/x-python",
   "name": "python",
   "nbconvert_exporter": "python",
   "pygments_lexer": "ipython3",
   "version": "3.7.4"
  }
 },
 "nbformat": 4,
 "nbformat_minor": 2
}
