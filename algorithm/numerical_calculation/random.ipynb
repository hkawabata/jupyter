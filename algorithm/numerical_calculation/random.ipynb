{
 "cells": [
  {
   "cell_type": "markdown",
   "metadata": {},
   "source": [
    "# 乱数\n",
    "\n",
    "- 線形合同法による一様乱数生成\n",
    "- ボックス・ミュラー法による正規分布乱数生成"
   ]
  },
  {
   "cell_type": "code",
   "execution_count": null,
   "metadata": {},
   "outputs": [],
   "source": [
    "# display graph on notebook\n",
    "%matplotlib inline\n",
    "import matplotlib.pyplot as plt\n",
    "import numpy as np"
   ]
  },
  {
   "cell_type": "code",
   "execution_count": 35,
   "metadata": {},
   "outputs": [],
   "source": [
    "# 線形合同法による一様乱数生成\n",
    "class LCGRandom:\n",
    "    def __init__(self, a, c, max, seed):\n",
    "        self.a = a\n",
    "        self.c = c\n",
    "        self.max = max\n",
    "        self.x = seed\n",
    "\n",
    "    def get_int(self):\n",
    "        self.x = (self.a * self.x + self.c) % self.max\n",
    "        return self.x\n",
    "    \n",
    "    def get(self):\n",
    "        self.x = (self.a * self.x + self.c) % self.max\n",
    "        return self.x * 1.0 / max"
   ]
  },
  {
   "cell_type": "code",
   "execution_count": 36,
   "metadata": {},
   "outputs": [
    {
     "data": {
      "text/plain": [
       "<matplotlib.collections.PathCollection at 0x119046910>"
      ]
     },
     "execution_count": 36,
     "metadata": {},
     "output_type": "execute_result"
    },
    {
     "data": {
      "image/png": "[encoded data removed]",
      "text/plain": [
       "<Figure size 432x288 with 1 Axes>"
      ]
     },
     "metadata": {
      "needs_background": "light"
     },
     "output_type": "display_data"
    }
   ],
   "source": [
    "a = 109\n",
    "c = 1021\n",
    "max = 32768\n",
    "seed = 13\n",
    "\n",
    "lcg = LCGRandom(a, c, max, seed)\n",
    "result_x = []\n",
    "result_y = []\n",
    "for i in range(1000):\n",
    "    result_x.append(lcg.get())\n",
    "    result_y.append(lcg.get())\n",
    "\n",
    "plt.scatter(result_x, result_y, s=1)"
   ]
  },
  {
   "cell_type": "code",
   "execution_count": 33,
   "metadata": {},
   "outputs": [
    {
     "data": {
      "text/plain": [
       "0.2356"
      ]
     },
     "execution_count": 33,
     "metadata": {},
     "output_type": "execute_result"
    }
   ],
   "source": [
    "# カイ2乗検定で、10に区切った区間に一様分布するかどうか調べる\n",
    "# この場合、カイ2乗 < 21.7 であれば危険域0.01で一様分布しているとみなせる\n",
    "num_split = 10\n",
    "num_try = 100000   # 乱数生成回数\n",
    "f = [0] * num_split   # 各区間の発生頻度\n",
    "f_exp = num_try / num_split   # fの期待値\n",
    "for i in range(num_try):\n",
    "    f[int(lcg.get() * num_split)] += 1\n",
    "\n",
    "xi2 = 0\n",
    "for i in range(num_split):\n",
    "    xi2 += (f[i] - f_exp) * (f[i] - f_exp) / f_exp\n",
    "\n",
    "xi2"
   ]
  },
  {
   "cell_type": "code",
   "execution_count": 82,
   "metadata": {},
   "outputs": [],
   "source": [
    "# ボックス・ミュラー法による正規分布乱数生成\n",
    "class BoxMullerRandom:\n",
    "    def __init__(self, mean, sigma):\n",
    "        self.mean = mean\n",
    "        self.sigma = sigma\n",
    "        self.rand = LCGRandom(a=109, c=1021, max=32768, seed=13)\n",
    "    \n",
    "    def get(self):\n",
    "        r1 = self.rand.get()\n",
    "        r2 = self.rand.get()\n",
    "        if r1 > 0:\n",
    "            ret1 = self.sigma * np.sqrt(-2 * np.log(r1)) * np.cos(2 * np.pi * r2) + self.mean\n",
    "            ret2 = self.sigma * np.sqrt(-2 * np.log(r1)) * np.sin(2 * np.pi * r2) + self.mean\n",
    "            return(ret1, ret2)\n",
    "        else:\n",
    "            # r1がゼロの場合はlog0になって警告が出るのでやり直す\n",
    "            return self.get()"
   ]
  },
  {
   "cell_type": "code",
   "execution_count": 86,
   "metadata": {},
   "outputs": [
    {
     "data": {
      "text/plain": [
       "<matplotlib.collections.PathCollection at 0x1198c6910>"
      ]
     },
     "execution_count": 86,
     "metadata": {},
     "output_type": "execute_result"
    },
    {
     "data": {
      "image/png": "[encoded data removed]",
      "text/plain": [
       "<Figure size 432x288 with 1 Axes>"
      ]
     },
     "metadata": {
      "needs_background": "light"
     },
     "output_type": "display_data"
    }
   ],
   "source": [
    "mean = 10\n",
    "sigma = 1\n",
    "bm = BoxMullerRandom(mean, sigma)\n",
    "\n",
    "num_try = 10000\n",
    "graph_min = 5\n",
    "graph_max = 15\n",
    "w = 0.2   # 区間の刻み幅\n",
    "\n",
    "dist = {}\n",
    "def func(r):\n",
    "    if graph_min < r and r < graph_max:\n",
    "        key =  int(r / w) * w\n",
    "        if key in dist:\n",
    "            dist[key] += 1\n",
    "        else:\n",
    "            dist[key] = 1\n",
    "for i in range(num_try):\n",
    "    r1, r2 = bm.get()\n",
    "    func(r1)\n",
    "    func(r2)\n",
    "\n",
    "result = sorted(dist.items(), key=lambda x:x[0])\n",
    "result_x = [xy[0] for xy in result]\n",
    "result_y = [xy[1] * 1.0 / num_try for xy in result]\n",
    "plt.scatter(result_x, result_y, s=1)"
   ]
  }
 ],
 "metadata": {
  "kernelspec": {
   "display_name": "Python 3",
   "language": "python",
   "name": "python3"
  },
  "language_info": {
   "codemirror_mode": {
    "name": "ipython",
    "version": 3
   },
   "file_extension": ".py",
   "mimetype": "text/x-python",
   "name": "python",
   "nbconvert_exporter": "python",
   "pygments_lexer": "ipython3",
   "version": "3.7.4"
  }
 },
 "nbformat": 4,
 "nbformat_minor": 2
}
