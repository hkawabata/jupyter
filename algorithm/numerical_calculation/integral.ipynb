{
 "cells": [
  {
   "cell_type": "code",
   "execution_count": 1,
   "metadata": {},
   "outputs": [],
   "source": [
    "# display graph on notebook\n",
    "%matplotlib inline\n",
    "import matplotlib.pyplot as plt\n",
    "import numpy as np"
   ]
  },
  {
   "cell_type": "code",
   "execution_count": 9,
   "metadata": {},
   "outputs": [
    {
     "name": "stdout",
     "output_type": "stream",
     "text": [
      "2.5300499999999984\n",
      "11.75705049999997\n",
      "20.152232575596333\n"
     ]
    }
   ],
   "source": [
    "# 台形法による定積分\n",
    "def integral(func, x_from, x_to, dx):\n",
    "    result = 0\n",
    "    x = x_from\n",
    "    while x_from <= x and x < x_to:\n",
    "        result += (func(x) + func(x+dx)) * dx / 2\n",
    "        x += dx\n",
    "    return result\n",
    "\n",
    "def f1(x):\n",
    "    return x\n",
    "\n",
    "def f2(x):\n",
    "    return x * x\n",
    "\n",
    "def f3(x):\n",
    "    return np.exp(x)\n",
    "\n",
    "print(integral(f1, -2, 3, 0.01))\n",
    "print(integral(f2, -2, 3, 0.01))\n",
    "print(integral(f3, -2, 3, 0.01))"
   ]
  },
  {
   "cell_type": "code",
   "execution_count": null,
   "metadata": {},
   "outputs": [],
   "source": []
  }
 ],
 "metadata": {
  "kernelspec": {
   "display_name": "Python 3",
   "language": "python",
   "name": "python3"
  },
  "language_info": {
   "codemirror_mode": {
    "name": "ipython",
    "version": 3
   },
   "file_extension": ".py",
   "mimetype": "text/x-python",
   "name": "python",
   "nbconvert_exporter": "python",
   "pygments_lexer": "ipython3",
   "version": "3.7.4"
  }
 },
 "nbformat": 4,
 "nbformat_minor": 2
}
