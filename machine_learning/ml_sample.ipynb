{
 "cells": [
  {
   "cell_type": "code",
   "execution_count": 16,
   "metadata": {},
   "outputs": [
    {
     "name": "stdout",
     "output_type": "stream",
     "text": [
      "The autoreload extension is already loaded. To reload it, use:\n",
      "  %reload_ext autoreload\n"
     ]
    }
   ],
   "source": [
    "# display graph on notebook\n",
    "%matplotlib inline\n",
    "%load_ext autoreload\n",
    "import sys\n",
    "sys.path.append('../')\n",
    "import pandas as pd\n",
    "import matplotlib.pyplot as plt\n",
    "from matplotlib.colors import ListedColormap\n",
    "import numpy as np\n",
    "from sklearn.linear_model import Perceptron, LogisticRegression, SGDClassifier\n",
    "from sklearn.cross_validation import train_test_split"
   ]
  },
  {
   "cell_type": "code",
   "execution_count": 2,
   "metadata": {},
   "outputs": [
    {
     "data": {
      "text/html": [
       "<div>\n",
       "<table border=\"1\" class=\"dataframe\">\n",
       "  <thead>\n",
       "    <tr style=\"text-align: right;\">\n",
       "      <th></th>\n",
       "      <th>0</th>\n",
       "      <th>1</th>\n",
       "      <th>2</th>\n",
       "      <th>3</th>\n",
       "      <th>4</th>\n",
       "    </tr>\n",
       "  </thead>\n",
       "  <tbody>\n",
       "    <tr>\n",
       "      <th>145</th>\n",
       "      <td>6.7</td>\n",
       "      <td>3.0</td>\n",
       "      <td>5.2</td>\n",
       "      <td>2.3</td>\n",
       "      <td>Iris-virginica</td>\n",
       "    </tr>\n",
       "    <tr>\n",
       "      <th>146</th>\n",
       "      <td>6.3</td>\n",
       "      <td>2.5</td>\n",
       "      <td>5.0</td>\n",
       "      <td>1.9</td>\n",
       "      <td>Iris-virginica</td>\n",
       "    </tr>\n",
       "    <tr>\n",
       "      <th>147</th>\n",
       "      <td>6.5</td>\n",
       "      <td>3.0</td>\n",
       "      <td>5.2</td>\n",
       "      <td>2.0</td>\n",
       "      <td>Iris-virginica</td>\n",
       "    </tr>\n",
       "    <tr>\n",
       "      <th>148</th>\n",
       "      <td>6.2</td>\n",
       "      <td>3.4</td>\n",
       "      <td>5.4</td>\n",
       "      <td>2.3</td>\n",
       "      <td>Iris-virginica</td>\n",
       "    </tr>\n",
       "    <tr>\n",
       "      <th>149</th>\n",
       "      <td>5.9</td>\n",
       "      <td>3.0</td>\n",
       "      <td>5.1</td>\n",
       "      <td>1.8</td>\n",
       "      <td>Iris-virginica</td>\n",
       "    </tr>\n",
       "  </tbody>\n",
       "</table>\n",
       "</div>"
      ],
      "text/plain": [
       "       0    1    2    3               4\n",
       "145  6.7  3.0  5.2  2.3  Iris-virginica\n",
       "146  6.3  2.5  5.0  1.9  Iris-virginica\n",
       "147  6.5  3.0  5.2  2.0  Iris-virginica\n",
       "148  6.2  3.4  5.4  2.3  Iris-virginica\n",
       "149  5.9  3.0  5.1  1.8  Iris-virginica"
      ]
     },
     "execution_count": 2,
     "metadata": {},
     "output_type": "execute_result"
    }
   ],
   "source": [
    "df = pd.read_csv('https://archive.ics.uci.edu/ml/machine-learning-databases/iris/iris.data', header=None)\n",
    "df.tail()"
   ]
  },
  {
   "cell_type": "code",
   "execution_count": 3,
   "metadata": {},
   "outputs": [
    {
     "data": {
      "text/plain": [
       "[(array([ 5.1,  1.4]), -1),\n",
       " (array([ 4.9,  1.4]), -1),\n",
       " (array([ 4.7,  1.3]), -1),\n",
       " (array([ 4.6,  1.5]), -1),\n",
       " (array([ 5. ,  1.4]), -1),\n",
       " (array([ 5.4,  1.7]), -1),\n",
       " (array([ 4.6,  1.4]), -1),\n",
       " (array([ 5. ,  1.5]), -1),\n",
       " (array([ 4.4,  1.4]), -1),\n",
       " (array([ 4.9,  1.5]), -1),\n",
       " (array([ 5.4,  1.5]), -1),\n",
       " (array([ 4.8,  1.6]), -1),\n",
       " (array([ 4.8,  1.4]), -1),\n",
       " (array([ 4.3,  1.1]), -1),\n",
       " (array([ 5.8,  1.2]), -1),\n",
       " (array([ 5.7,  1.5]), -1),\n",
       " (array([ 5.4,  1.3]), -1),\n",
       " (array([ 5.1,  1.4]), -1),\n",
       " (array([ 5.7,  1.7]), -1),\n",
       " (array([ 5.1,  1.5]), -1),\n",
       " (array([ 5.4,  1.7]), -1),\n",
       " (array([ 5.1,  1.5]), -1),\n",
       " (array([ 4.6,  1. ]), -1),\n",
       " (array([ 5.1,  1.7]), -1),\n",
       " (array([ 4.8,  1.9]), -1),\n",
       " (array([ 5. ,  1.6]), -1),\n",
       " (array([ 5. ,  1.6]), -1),\n",
       " (array([ 5.2,  1.5]), -1),\n",
       " (array([ 5.2,  1.4]), -1),\n",
       " (array([ 4.7,  1.6]), -1),\n",
       " (array([ 4.8,  1.6]), -1),\n",
       " (array([ 5.4,  1.5]), -1),\n",
       " (array([ 5.2,  1.5]), -1),\n",
       " (array([ 5.5,  1.4]), -1),\n",
       " (array([ 4.9,  1.5]), -1),\n",
       " (array([ 5. ,  1.2]), -1),\n",
       " (array([ 5.5,  1.3]), -1),\n",
       " (array([ 4.9,  1.5]), -1),\n",
       " (array([ 4.4,  1.3]), -1),\n",
       " (array([ 5.1,  1.5]), -1),\n",
       " (array([ 5. ,  1.3]), -1),\n",
       " (array([ 4.5,  1.3]), -1),\n",
       " (array([ 4.4,  1.3]), -1),\n",
       " (array([ 5. ,  1.6]), -1),\n",
       " (array([ 5.1,  1.9]), -1),\n",
       " (array([ 4.8,  1.4]), -1),\n",
       " (array([ 5.1,  1.6]), -1),\n",
       " (array([ 4.6,  1.4]), -1),\n",
       " (array([ 5.3,  1.5]), -1),\n",
       " (array([ 5. ,  1.4]), -1),\n",
       " (array([ 7. ,  4.7]), 1),\n",
       " (array([ 6.4,  4.5]), 1),\n",
       " (array([ 6.9,  4.9]), 1),\n",
       " (array([ 5.5,  4. ]), 1),\n",
       " (array([ 6.5,  4.6]), 1),\n",
       " (array([ 5.7,  4.5]), 1),\n",
       " (array([ 6.3,  4.7]), 1),\n",
       " (array([ 4.9,  3.3]), 1),\n",
       " (array([ 6.6,  4.6]), 1),\n",
       " (array([ 5.2,  3.9]), 1),\n",
       " (array([ 5. ,  3.5]), 1),\n",
       " (array([ 5.9,  4.2]), 1),\n",
       " (array([ 6.,  4.]), 1),\n",
       " (array([ 6.1,  4.7]), 1),\n",
       " (array([ 5.6,  3.6]), 1),\n",
       " (array([ 6.7,  4.4]), 1),\n",
       " (array([ 5.6,  4.5]), 1),\n",
       " (array([ 5.8,  4.1]), 1),\n",
       " (array([ 6.2,  4.5]), 1),\n",
       " (array([ 5.6,  3.9]), 1),\n",
       " (array([ 5.9,  4.8]), 1),\n",
       " (array([ 6.1,  4. ]), 1),\n",
       " (array([ 6.3,  4.9]), 1),\n",
       " (array([ 6.1,  4.7]), 1),\n",
       " (array([ 6.4,  4.3]), 1),\n",
       " (array([ 6.6,  4.4]), 1),\n",
       " (array([ 6.8,  4.8]), 1),\n",
       " (array([ 6.7,  5. ]), 1),\n",
       " (array([ 6. ,  4.5]), 1),\n",
       " (array([ 5.7,  3.5]), 1),\n",
       " (array([ 5.5,  3.8]), 1),\n",
       " (array([ 5.5,  3.7]), 1),\n",
       " (array([ 5.8,  3.9]), 1),\n",
       " (array([ 6. ,  5.1]), 1),\n",
       " (array([ 5.4,  4.5]), 1),\n",
       " (array([ 6. ,  4.5]), 1),\n",
       " (array([ 6.7,  4.7]), 1),\n",
       " (array([ 6.3,  4.4]), 1),\n",
       " (array([ 5.6,  4.1]), 1),\n",
       " (array([ 5.5,  4. ]), 1),\n",
       " (array([ 5.5,  4.4]), 1),\n",
       " (array([ 6.1,  4.6]), 1),\n",
       " (array([ 5.8,  4. ]), 1),\n",
       " (array([ 5. ,  3.3]), 1),\n",
       " (array([ 5.6,  4.2]), 1),\n",
       " (array([ 5.7,  4.2]), 1),\n",
       " (array([ 5.7,  4.2]), 1),\n",
       " (array([ 6.2,  4.3]), 1),\n",
       " (array([ 5.1,  3. ]), 1),\n",
       " (array([ 5.7,  4.1]), 1)]"
      ]
     },
     "execution_count": 3,
     "metadata": {},
     "output_type": "execute_result"
    }
   ],
   "source": [
    "y = df.iloc[0:100, 4].values\n",
    "y = np.where(y == 'Iris-setosa', -1, 1)\n",
    "x = df.iloc[0:100, [0, 2]].values\n",
    "zip(x, y)"
   ]
  },
  {
   "cell_type": "code",
   "execution_count": 4,
   "metadata": {},
   "outputs": [
    {
     "data": {
      "image/png": "[encoded data removed]",
      "text/plain": [
       "<matplotlib.figure.Figure at 0x10eda4790>"
      ]
     },
     "metadata": {},
     "output_type": "display_data"
    }
   ],
   "source": [
    "plt.scatter(x[:50,0], x[:50,1], color='red', marker='o', label='setosa')\n",
    "plt.scatter(x[50:100,0], x[50:100,1], color='blue', marker='x', label='versicolor')\n",
    "plt.xlabel('sepal length [cm]')\n",
    "plt.ylabel('petal length [cm]')\n",
    "plt.legend(loc='upper left')\n",
    "plt.show()"
   ]
  },
  {
   "cell_type": "code",
   "execution_count": 18,
   "metadata": {},
   "outputs": [
    {
     "name": "stdout",
     "output_type": "stream",
     "text": [
      "1\n"
     ]
    }
   ],
   "source": [
    "x_train, x_test, y_train, y_test = train_test_split(x, y, test_size=0.3, random_state=0)\n",
    "ppn = Perceptron(n_iter=40, eta0=0.1, random_state=0, shuffle=True)\n",
    "ppn.fit(x_train, y_train)\n",
    "y_pred = ppn.predict(x_test)\n",
    "print((y_test != y_pred).sum())"
   ]
  },
  {
   "cell_type": "code",
   "execution_count": 7,
   "metadata": {},
   "outputs": [
    {
     "name": "stdout",
     "output_type": "stream",
     "text": [
      "ListedColormap\t LogisticRegression\t Perceptron\t SGDClassifier\t df\t np\t pd\t plt\t ppn\t \n",
      "train_test_split\t x\t x_test\t x_train\t y\t y_pred\t y_test\t y_train\t \n"
     ]
    }
   ],
   "source": [
    "%who"
   ]
  },
  {
   "cell_type": "code",
   "execution_count": 17,
   "metadata": {},
   "outputs": [
    {
     "data": {
      "text/plain": [
       "SGDClassifier(alpha=0.0001, average=False, class_weight=None, epsilon=0.1,\n",
       "       eta0=0.0, fit_intercept=True, l1_ratio=0.15,\n",
       "       learning_rate='optimal', loss='hinge', n_iter=5, n_jobs=1,\n",
       "       penalty='l2', power_t=0.5, random_state=None, shuffle=True,\n",
       "       verbose=0, warm_start=False)"
      ]
     },
     "execution_count": 17,
     "metadata": {},
     "output_type": "execute_result"
    }
   ],
   "source": [
    "lr = LogisticRegression()\n",
    "lr.fit(x_train, y_train)\n",
    "sgd = SGDClassifier()\n",
    "sgd.fit(x_train, y_train)"
   ]
  },
  {
   "cell_type": "code",
   "execution_count": 19,
   "metadata": {},
   "outputs": [
    {
     "data": {
      "image/png": "[encoded data removed]",
      "text/plain": [
       "<matplotlib.figure.Figure at 0x113d42590>"
      ]
     },
     "metadata": {},
     "output_type": "display_data"
    }
   ],
   "source": [
    "import jupyter_util\n",
    "jupyter_util.remove_module('machine_learning_util')\n",
    "import machine_learning_util\n",
    "machine_learning_util.plot_decision_regions(x, y, ppn)"
   ]
  },
  {
   "cell_type": "code",
   "execution_count": 20,
   "metadata": {},
   "outputs": [
    {
     "data": {
      "image/png": "[encoded data removed]",
      "text/plain": [
       "<matplotlib.figure.Figure at 0x113caa3d0>"
      ]
     },
     "metadata": {},
     "output_type": "display_data"
    }
   ],
   "source": [
    "machine_learning_util.plot_decision_regions(x, y, lr)"
   ]
  },
  {
   "cell_type": "code",
   "execution_count": 22,
   "metadata": {},
   "outputs": [
    {
     "data": {
      "image/png": "[encoded data removed]",
      "text/plain": [
       "<matplotlib.figure.Figure at 0x10fbec050>"
      ]
     },
     "metadata": {},
     "output_type": "display_data"
    }
   ],
   "source": [
    "machine_learning_util.plot_decision_regions(x, y, sgd)"
   ]
  },
  {
   "cell_type": "code",
   "execution_count": null,
   "metadata": {},
   "outputs": [],
   "source": []
  }
 ],
 "metadata": {
  "kernelspec": {
   "display_name": "Python 2",
   "language": "python",
   "name": "python2"
  },
  "language_info": {
   "codemirror_mode": {
    "name": "ipython",
    "version": 2
   },
   "file_extension": ".py",
   "mimetype": "text/x-python",
   "name": "python",
   "nbconvert_exporter": "python",
   "pygments_lexer": "ipython2",
   "version": "2.7.12"
  }
 },
 "nbformat": 4,
 "nbformat_minor": 2
}
